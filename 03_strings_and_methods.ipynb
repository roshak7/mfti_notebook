{
 "cells": [
  {
   "cell_type": "markdown",
   "metadata": {},
   "source": [
    "# Содержание"
   ]
  },
  {
   "cell_type": "markdown",
   "metadata": {},
   "source": [
    "0. различные типы литералов\n",
    "1. базовые операции\n",
    "2. индексация\n",
    "3. слайсинг (slice)\n",
    "4. методы str\n",
    "5. форматирование строк"
   ]
  },
  {
   "cell_type": "markdown",
   "metadata": {},
   "source": [
    "В `python3` всего три строковых типа: \n",
    "\n",
    "| type      | назначение                        | mutability\n",
    "|:----------|:---------------------------------:|:----------:|\n",
    " `str`      |представляет обычный текст Unicode | immutable\n",
    " `bytes`    |для двоичных данных                | immutable\n",
    " `bytearray`|изменяемый `bytes`                 | mutable\n",
    " \n",
    " Нет отдельного типа для представления символа - вместо этого односимвольные строки."
   ]
  },
  {
   "cell_type": "markdown",
   "metadata": {},
   "source": [
    "Содержимое файлов можно считать как тип `str` (обычный текст) или в низкоуровневом `bytes` без предварительной трансляции данных."
   ]
  },
  {
   "cell_type": "markdown",
   "metadata": {},
   "source": [
    "## Виды литералов"
   ]
  },
  {
   "cell_type": "code",
   "execution_count": 1,
   "metadata": {},
   "outputs": [
    {
     "data": {
      "text/plain": [
       "(True, 1, 4.2, (1+3j), None)"
      ]
     },
     "execution_count": 1,
     "metadata": {},
     "output_type": "execute_result"
    }
   ],
   "source": [
    "True, 1, 4.2, 1+3j, None"
   ]
  },
  {
   "cell_type": "markdown",
   "metadata": {},
   "source": [
    "Для начала инициализируем несколько строк:"
   ]
  },
  {
   "cell_type": "code",
   "execution_count": 2,
   "metadata": {},
   "outputs": [
    {
     "name": "stdout",
     "output_type": "stream",
     "text": [
      "string string string\n"
     ]
    }
   ],
   "source": [
    "s1 = 'string'  # 1 + 2 + 3\n",
    "s2 = \"string\"\n",
    "s3 = \"\"\"string\"\"\"  # ''''''\n",
    "print(s1, s2, s3)"
   ]
  },
  {
   "cell_type": "code",
   "execution_count": 3,
   "metadata": {},
   "outputs": [
    {
     "name": "stdout",
     "output_type": "stream",
     "text": [
      "string\n",
      "string\n",
      "string\n"
     ]
    }
   ],
   "source": [
    "# разницы нет\n",
    "print('string')            # одинарные кавычки\n",
    "print(\"string\")            # двойные кавычки\n",
    "print(\"\"\"string\"\"\")        # тройные кавычки"
   ]
  },
  {
   "cell_type": "code",
   "execution_count": 4,
   "metadata": {},
   "outputs": [
    {
     "name": "stdout",
     "output_type": "stream",
     "text": [
      "s\ttr\n",
      "i\tng\n"
     ]
    }
   ],
   "source": [
    "print(\"s\\ttr\\ni\\tng\")      # управляющие последовательности \\t, \\n..."
   ]
  },
  {
   "cell_type": "code",
   "execution_count": 5,
   "metadata": {},
   "outputs": [
    {
     "name": "stdout",
     "output_type": "stream",
     "text": [
      "С:\\new\\test.py\n"
     ]
    },
    {
     "data": {
      "text/plain": [
       "'С:\\\\new\\\\test.py'"
      ]
     },
     "execution_count": 5,
     "metadata": {},
     "output_type": "execute_result"
    }
   ],
   "source": [
    "print(r\"С:\\new\\test.py\")   # неформатированные строки\n",
    "\n",
    "r\"С:\\new\\test.py\""
   ]
  },
  {
   "cell_type": "code",
   "execution_count": 6,
   "metadata": {},
   "outputs": [
    {
     "name": "stdout",
     "output_type": "stream",
     "text": [
      "b'sp1am'\n"
     ]
    },
    {
     "data": {
      "text/plain": [
       "b'sp\\x01am'"
      ]
     },
     "execution_count": 6,
     "metadata": {},
     "output_type": "execute_result"
    }
   ],
   "source": [
    "print(b'sp\\x31am')         # .decode('utf-8')\n",
    "b'sp\\x01am'                # байтовые строки"
   ]
  },
  {
   "cell_type": "code",
   "execution_count": 7,
   "metadata": {},
   "outputs": [
    {
     "data": {
      "text/plain": [
       "'eggs spam'"
      ]
     },
     "execution_count": 7,
     "metadata": {},
     "output_type": "execute_result"
    }
   ],
   "source": [
    "u'eggs\\u0020spam'         # литералы Unicode"
   ]
  },
  {
   "cell_type": "markdown",
   "metadata": {},
   "source": [
    "Небольшая табличка:\n",
    "\n",
    "Type            | Example\n",
    ":------------------|:--\n",
    "  String          | ``\"hello\\tthere\"``\n",
    "  String          | ``'hello'``\n",
    "  String          | ``'''He said, \"hello\"'''``\n",
    "  Raw string      | ``r'hello\\tthere'``\n",
    "  Byte string     | ``b'hello'``\n"
   ]
  },
  {
   "cell_type": "markdown",
   "metadata": {},
   "source": [
    "## базовые операции"
   ]
  },
  {
   "cell_type": "markdown",
   "metadata": {},
   "source": [
    "- конкатенация\n",
    "- умножение на число\n",
    "- `len(string)` - длинна строки `string` (количество байт)"
   ]
  },
  {
   "cell_type": "code",
   "execution_count": 8,
   "metadata": {},
   "outputs": [
    {
     "name": "stdout",
     "output_type": "stream",
     "text": [
      "notemptystring\n"
     ]
    },
    {
     "data": {
      "text/plain": [
       "'notemptystring'"
      ]
     },
     "execution_count": 8,
     "metadata": {},
     "output_type": "execute_result"
    }
   ],
   "source": [
    "s1 = 'not'\n",
    "s2 = 'empty'\n",
    "s3 = 'string'     \n",
    "print(s1 + s2 + s3)  # конкатенация\n",
    "s1 + s2 + s3"
   ]
  },
  {
   "cell_type": "code",
   "execution_count": 10,
   "metadata": {},
   "outputs": [
    {
     "data": {
      "text/plain": [
       "'not empty string'"
      ]
     },
     "execution_count": 10,
     "metadata": {},
     "output_type": "execute_result"
    }
   ],
   "source": [
    "s1 + ' ' + s2 + ' ' + s3"
   ]
  },
  {
   "cell_type": "code",
   "execution_count": 11,
   "metadata": {},
   "outputs": [
    {
     "data": {
      "text/plain": [
       "'not empty string'"
      ]
     },
     "execution_count": 11,
     "metadata": {},
     "output_type": "execute_result"
    }
   ],
   "source": [
    "s4 = 'not' ' ' 'empty' \" \" 'string'  # неявная конкатенация - но лучше явная :)\n",
    "s4                                   # Zen of Python"
   ]
  },
  {
   "cell_type": "code",
   "execution_count": 12,
   "metadata": {},
   "outputs": [
    {
     "name": "stdout",
     "output_type": "stream",
     "text": [
      "The Zen of Python, by Tim Peters\n",
      "\n",
      "Beautiful is better than ugly.\n",
      "Explicit is better than implicit.\n",
      "Simple is better than complex.\n",
      "Complex is better than complicated.\n",
      "Flat is better than nested.\n",
      "Sparse is better than dense.\n",
      "Readability counts.\n",
      "Special cases aren't special enough to break the rules.\n",
      "Although practicality beats purity.\n",
      "Errors should never pass silently.\n",
      "Unless explicitly silenced.\n",
      "In the face of ambiguity, refuse the temptation to guess.\n",
      "There should be one-- and preferably only one --obvious way to do it.\n",
      "Although that way may not be obvious at first unless you're Dutch.\n",
      "Now is better than never.\n",
      "Although never is often better than *right* now.\n",
      "If the implementation is hard to explain, it's a bad idea.\n",
      "If the implementation is easy to explain, it may be a good idea.\n",
      "Namespaces are one honking great idea -- let's do more of those!\n"
     ]
    }
   ],
   "source": [
    "import this"
   ]
  },
  {
   "cell_type": "code",
   "execution_count": 13,
   "metadata": {},
   "outputs": [
    {
     "data": {
      "text/plain": [
       "'emptyemptyempty'"
      ]
     },
     "execution_count": 13,
     "metadata": {},
     "output_type": "execute_result"
    }
   ],
   "source": [
    "s2 * 3  # умножение на целое число"
   ]
  },
  {
   "cell_type": "code",
   "execution_count": 14,
   "metadata": {},
   "outputs": [
    {
     "data": {
      "text/plain": [
       "''"
      ]
     },
     "execution_count": 14,
     "metadata": {},
     "output_type": "execute_result"
    }
   ],
   "source": [
    "s2 * 0"
   ]
  },
  {
   "cell_type": "code",
   "execution_count": 15,
   "metadata": {},
   "outputs": [
    {
     "data": {
      "text/plain": [
       "''"
      ]
     },
     "execution_count": 15,
     "metadata": {},
     "output_type": "execute_result"
    }
   ],
   "source": [
    "s2 * (-42)"
   ]
  },
  {
   "cell_type": "code",
   "execution_count": 16,
   "metadata": {},
   "outputs": [
    {
     "ename": "TypeError",
     "evalue": "can't multiply sequence by non-int of type 'float'",
     "output_type": "error",
     "traceback": [
      "\u001b[0;31m---------------------------------------------------------------------------\u001b[0m",
      "\u001b[0;31mTypeError\u001b[0m                                 Traceback (most recent call last)",
      "\u001b[0;32m/var/folders/v8/2cskhqjj0_g0zp3824glf1tm0000gn/T/ipykernel_6042/3996913090.py\u001b[0m in \u001b[0;36m<module>\u001b[0;34m\u001b[0m\n\u001b[0;32m----> 1\u001b[0;31m \u001b[0ms2\u001b[0m \u001b[0;34m*\u001b[0m \u001b[0;36m42.0\u001b[0m  \u001b[0;31m# умножать только на int\u001b[0m\u001b[0;34m\u001b[0m\u001b[0;34m\u001b[0m\u001b[0m\n\u001b[0m",
      "\u001b[0;31mTypeError\u001b[0m: can't multiply sequence by non-int of type 'float'"
     ]
    }
   ],
   "source": [
    "s2 * 42.0  # умножать только на int"
   ]
  },
  {
   "cell_type": "markdown",
   "metadata": {},
   "source": [
    "Вхождение подстроки в строку: `substring in string`"
   ]
  },
  {
   "cell_type": "code",
   "execution_count": 17,
   "metadata": {},
   "outputs": [],
   "source": [
    "vino = 'in vino veritas'\n",
    "aqua = 'in aqua sanitas'"
   ]
  },
  {
   "cell_type": "code",
   "execution_count": 18,
   "metadata": {},
   "outputs": [
    {
     "data": {
      "text/plain": [
       "True"
      ]
     },
     "execution_count": 18,
     "metadata": {},
     "output_type": "execute_result"
    }
   ],
   "source": [
    "\"veritas\" in vino"
   ]
  },
  {
   "cell_type": "code",
   "execution_count": 19,
   "metadata": {},
   "outputs": [
    {
     "data": {
      "text/plain": [
       "True"
      ]
     },
     "execution_count": 19,
     "metadata": {},
     "output_type": "execute_result"
    }
   ],
   "source": [
    "\"sanitas\" in aqua"
   ]
  },
  {
   "cell_type": "code",
   "execution_count": 20,
   "metadata": {},
   "outputs": [
    {
     "data": {
      "text/plain": [
       "False"
      ]
     },
     "execution_count": 20,
     "metadata": {},
     "output_type": "execute_result"
    }
   ],
   "source": [
    "\"sanitas\" in vino"
   ]
  },
  {
   "cell_type": "markdown",
   "metadata": {},
   "source": [
    "Проверка, что нет такой подстроки `substring not in string`"
   ]
  },
  {
   "cell_type": "code",
   "execution_count": 21,
   "metadata": {},
   "outputs": [
    {
     "data": {
      "text/plain": [
       "True"
      ]
     },
     "execution_count": 21,
     "metadata": {},
     "output_type": "execute_result"
    }
   ],
   "source": [
    "vino not in aqua"
   ]
  },
  {
   "cell_type": "code",
   "execution_count": 22,
   "metadata": {},
   "outputs": [
    {
     "data": {
      "text/plain": [
       "False"
      ]
     },
     "execution_count": 22,
     "metadata": {},
     "output_type": "execute_result"
    }
   ],
   "source": [
    "\"sanitas\" not in aqua"
   ]
  },
  {
   "cell_type": "code",
   "execution_count": 23,
   "metadata": {},
   "outputs": [
    {
     "ename": "TypeError",
     "evalue": "'in <string>' requires string as left operand, not int",
     "output_type": "error",
     "traceback": [
      "\u001b[0;31m---------------------------------------------------------------------------\u001b[0m",
      "\u001b[0;31mTypeError\u001b[0m                                 Traceback (most recent call last)",
      "\u001b[0;32m/var/folders/v8/2cskhqjj0_g0zp3824glf1tm0000gn/T/ipykernel_6042/309102535.py\u001b[0m in \u001b[0;36m<module>\u001b[0;34m\u001b[0m\n\u001b[0;32m----> 1\u001b[0;31m \u001b[0;36m5\u001b[0m \u001b[0;32min\u001b[0m \u001b[0mvino\u001b[0m\u001b[0;34m\u001b[0m\u001b[0;34m\u001b[0m\u001b[0m\n\u001b[0m",
      "\u001b[0;31mTypeError\u001b[0m: 'in <string>' requires string as left operand, not int"
     ]
    }
   ],
   "source": [
    "5 in vino"
   ]
  },
  {
   "cell_type": "markdown",
   "metadata": {},
   "source": [
    "Встроенная функция len - длина последовательности (sequence / iterable) - **фактическое число байтов**"
   ]
  },
  {
   "cell_type": "code",
   "execution_count": 24,
   "metadata": {},
   "outputs": [
    {
     "name": "stdout",
     "output_type": "stream",
     "text": [
      "3 not\n",
      "5 empty\n",
      "6 string\n",
      "14\n"
     ]
    }
   ],
   "source": [
    "print(len(s1), s1)\n",
    "print(len(s2), s2)\n",
    "print(len(s3), s3)\n",
    "print(len(s1 + s2 + s3))"
   ]
  },
  {
   "cell_type": "markdown",
   "metadata": {},
   "source": [
    "### Экранированные последовательности"
   ]
  },
  {
   "cell_type": "markdown",
   "metadata": {},
   "source": [
    "[Таблица](https://docs.python.org/3.8/reference/lexical_analysis.html#string-and-bytes-literals) c экранирующими символами из документации. Ниже перечислены основные:"
   ]
  },
  {
   "cell_type": "markdown",
   "metadata": {},
   "source": [
    "символ               | для чего\n",
    ":--------------------|:---------------------\n",
    "`\\`                  | для переноса строки (строка продолжается)\n",
    "`\\\\`                 | сохраняет \\\n",
    "`\\’`                 | сохраняет ’\n",
    "`\\\"`                 | сохраняет ”\n",
    "`\\n`                 | новая строка\n",
    "`\\t`                 | горизонтальная табуляция\n",
    "`\\N{name}`           | идентификатор базы данных Unicode\n",
    "`\\uxxxx`             | символ Unicode с 16-битным шестнадцатеричным значением\n",
    "`\\Uxxxxxxxx`         | символ Unicode с 32-битным шестнадцатеричным значением\n",
    "`\\остальное`         | не управляющая последовательность"
   ]
  },
  {
   "cell_type": "code",
   "execution_count": 37,
   "metadata": {},
   "outputs": [
    {
     "data": {
      "text/plain": [
       "'㑖'"
      ]
     },
     "execution_count": 37,
     "metadata": {},
     "output_type": "execute_result"
    }
   ],
   "source": [
    "'\\u3456'"
   ]
  },
  {
   "cell_type": "markdown",
   "metadata": {},
   "source": [
    "Зачем нужен один `\\`?"
   ]
  },
  {
   "cell_type": "code",
   "execution_count": 25,
   "metadata": {},
   "outputs": [
    {
     "ename": "SyntaxError",
     "evalue": "EOL while scanning string literal (1179582912.py, line 1)",
     "output_type": "error",
     "traceback": [
      "\u001b[0;36m  File \u001b[0;32m\"/var/folders/v8/2cskhqjj0_g0zp3824glf1tm0000gn/T/ipykernel_6042/1179582912.py\"\u001b[0;36m, line \u001b[0;32m1\u001b[0m\n\u001b[0;31m    print('oneoneoneoneoneoneoneoneoneoneone\u001b[0m\n\u001b[0m                                            ^\u001b[0m\n\u001b[0;31mSyntaxError\u001b[0m\u001b[0;31m:\u001b[0m EOL while scanning string literal\n"
     ]
    }
   ],
   "source": [
    "print('oneoneoneoneoneoneoneoneoneoneone\n",
    "twotwotwotwotwotwotwotwotwo')"
   ]
  },
  {
   "cell_type": "markdown",
   "metadata": {},
   "source": [
    "добавим `\\`:"
   ]
  },
  {
   "cell_type": "code",
   "execution_count": 26,
   "metadata": {},
   "outputs": [
    {
     "name": "stdout",
     "output_type": "stream",
     "text": [
      "EOL - End Of Line\n",
      "onetwo\n",
      "one two\n"
     ]
    }
   ],
   "source": [
    "print('EOL - End Of Line')\n",
    "\n",
    "print('one\\\n",
    "two')\n",
    "\n",
    "print('one \\\n",
    "two')"
   ]
  },
  {
   "cell_type": "code",
   "execution_count": 32,
   "metadata": {},
   "outputs": [
    {
     "name": "stdout",
     "output_type": "stream",
     "text": [
      "[1, 2, 3, 4, 5, 6]\n"
     ]
    }
   ],
   "source": [
    "print([1, \n",
    "2, \n",
    "       3,\n",
    "4,\n",
    "       5,\n",
    "6])"
   ]
  },
  {
   "cell_type": "markdown",
   "metadata": {},
   "source": [
    "Также поможет, если ваша строка с кодом очень длинная:"
   ]
  },
  {
   "cell_type": "code",
   "execution_count": 27,
   "metadata": {},
   "outputs": [
    {
     "data": {
      "text/plain": [
       "23"
      ]
     },
     "execution_count": 27,
     "metadata": {},
     "output_type": "execute_result"
    }
   ],
   "source": [
    "1 + 1 + 1 + 1 + 1 + 1 + 1 + 1 + 1 + 1 + 1 + \\\n",
    "1 + 1 + 1 + 1 + 1 + 1 + 1 + 1 + 1 + 1 + 1   \\\n",
    "+ 1"
   ]
  },
  {
   "cell_type": "markdown",
   "metadata": {},
   "source": [
    "Если нужно напечатать сам `\\` - экранируйте его:"
   ]
  },
  {
   "cell_type": "code",
   "execution_count": 38,
   "metadata": {},
   "outputs": [
    {
     "ename": "SyntaxError",
     "evalue": "EOL while scanning string literal (4138952293.py, line 1)",
     "output_type": "error",
     "traceback": [
      "\u001b[0;36m  File \u001b[0;32m\"/var/folders/v8/2cskhqjj0_g0zp3824glf1tm0000gn/T/ipykernel_6042/4138952293.py\"\u001b[0;36m, line \u001b[0;32m1\u001b[0m\n\u001b[0;31m    print('\\')\u001b[0m\n\u001b[0m              ^\u001b[0m\n\u001b[0;31mSyntaxError\u001b[0m\u001b[0;31m:\u001b[0m EOL while scanning string literal\n"
     ]
    }
   ],
   "source": [
    "print('\\')"
   ]
  },
  {
   "cell_type": "code",
   "execution_count": 39,
   "metadata": {},
   "outputs": [
    {
     "name": "stdout",
     "output_type": "stream",
     "text": [
      "\\\n",
      "\\\\\n"
     ]
    }
   ],
   "source": [
    "print('\\\\')\n",
    "print('\\\\\\\\')"
   ]
  },
  {
   "cell_type": "markdown",
   "metadata": {},
   "source": [
    "Конечно `\\` напечатается, если следующий за ним символ не будет распознан как часть экранированной последовательности, но лучше все же экранировать."
   ]
  },
  {
   "cell_type": "code",
   "execution_count": 40,
   "metadata": {},
   "outputs": [
    {
     "name": "stdout",
     "output_type": "stream",
     "text": [
      "А этот \\ точно всегда экранирует?\n",
      "А этот \\ точно всегда экранирует?\n"
     ]
    }
   ],
   "source": [
    "print('А этот \\ точно всегда экранирует?')\n",
    "print('А этот \\\\ точно всегда экранирует?')"
   ]
  },
  {
   "cell_type": "code",
   "execution_count": 46,
   "metadata": {},
   "outputs": [
    {
     "name": "stdout",
     "output_type": "stream",
     "text": [
      "w\n",
      "o\u0000\u0001r\td\n",
      "8\n"
     ]
    }
   ],
   "source": [
    "string = 'w\\no\\0r\\td'  # сколько тут символов? 10?\n",
    "\n",
    "print(string)\n",
    "print(len(string))"
   ]
  },
  {
   "cell_type": "code",
   "execution_count": 47,
   "metadata": {},
   "outputs": [
    {
     "data": {
      "text/plain": [
       "'\\x01'"
      ]
     },
     "execution_count": 47,
     "metadata": {},
     "output_type": "execute_result"
    }
   ],
   "source": [
    "'\\1'"
   ]
  },
  {
   "cell_type": "markdown",
   "metadata": {},
   "source": [
    "Экранированные последовательности образуют единственный символ – байт, содержащий двоичное значение кода символа в используемом наборе символов"
   ]
  },
  {
   "cell_type": "markdown",
   "metadata": {},
   "source": [
    "**Note:** неформатированные строки подавляют экранирование. Создаются вот так: `r'somestring'`"
   ]
  },
  {
   "cell_type": "code",
   "execution_count": 48,
   "metadata": {},
   "outputs": [
    {
     "name": "stdout",
     "output_type": "stream",
     "text": [
      "C:\n",
      "ew\text\\dat\n",
      "13\n"
     ]
    }
   ],
   "source": [
    "# посмотрим проблему с путями в windows\n",
    "path = 'C:\\new\\text\\dat'\n",
    "print(path, len(path), sep='\\n')"
   ]
  },
  {
   "cell_type": "code",
   "execution_count": 49,
   "metadata": {},
   "outputs": [
    {
     "name": "stdout",
     "output_type": "stream",
     "text": [
      "C:\\new\\text\\dat\n",
      "15\n"
     ]
    }
   ],
   "source": [
    "path = r'C:\\new\\text\\dat'\n",
    "print(path, len(path), sep='\\n')"
   ]
  },
  {
   "cell_type": "code",
   "execution_count": 50,
   "metadata": {},
   "outputs": [
    {
     "data": {
      "text/plain": [
       "'C:\\\\new\\\\text\\\\dat'"
      ]
     },
     "execution_count": 50,
     "metadata": {},
     "output_type": "execute_result"
    }
   ],
   "source": [
    "path  # выводится с экранированием"
   ]
  },
  {
   "cell_type": "markdown",
   "metadata": {},
   "source": [
    "**Note** Конструкция `r'...\\'` не является допустимым строковым литералом  – неформатированная строка не может заканчиваться нечетным количеством символов обратного слэша.\n",
    "\n",
    "Если необходимо, чтобы неформатированная строка заканчивалась символом\n",
    "обратного слеша, можно:\n",
    "* добавить два символа и затем удалить второй из них (`r'1\\nb\\tc\\\\'[:-1]`)\n",
    "* добавить один символ вручную `(r'1\\nb\\tc' + '\\\\')`\n",
    "* или использовать обычный синтаксис строковых литералов и дублировать все символы обратного слеша (`'1\\\\nb\\\\tc\\\\'`)"
   ]
  },
  {
   "cell_type": "markdown",
   "metadata": {},
   "source": [
    "### приведение к другому типу"
   ]
  },
  {
   "cell_type": "markdown",
   "metadata": {
    "ExecuteTime": {
     "end_time": "2019-10-12T11:11:31.941350Z",
     "start_time": "2019-10-12T11:11:31.921772Z"
    }
   },
   "source": [
    "Другие типы можно перевести в строковое представление, использовав явное приведение:"
   ]
  },
  {
   "cell_type": "code",
   "execution_count": 70,
   "metadata": {},
   "outputs": [
    {
     "name": "stdout",
     "output_type": "stream",
     "text": [
      "[1, 2, 3]\n"
     ]
    }
   ],
   "source": [
    "print([1, 2, 3])"
   ]
  },
  {
   "cell_type": "code",
   "execution_count": 71,
   "metadata": {
    "ExecuteTime": {
     "end_time": "2019-10-14T16:55:00.043326Z",
     "start_time": "2019-10-14T16:55:00.024135Z"
    },
    "code_folding": [
     0
    ]
   },
   "outputs": [
    {
     "data": {
      "text/plain": [
       "'[1, 2, 3]'"
      ]
     },
     "execution_count": 71,
     "metadata": {},
     "output_type": "execute_result"
    }
   ],
   "source": [
    "# например, list в str\n",
    "\n",
    "str([1, 2, 3])"
   ]
  },
  {
   "cell_type": "code",
   "execution_count": 72,
   "metadata": {},
   "outputs": [
    {
     "data": {
      "text/plain": [
       "9"
      ]
     },
     "execution_count": 72,
     "metadata": {},
     "output_type": "execute_result"
    }
   ],
   "source": [
    "len(str([1, 2, 3]))"
   ]
  },
  {
   "cell_type": "code",
   "execution_count": 73,
   "metadata": {},
   "outputs": [
    {
     "data": {
      "text/plain": [
       "['[', '1', ',', ' ', '2', ',', ' ', '3', ']']"
      ]
     },
     "execution_count": 73,
     "metadata": {},
     "output_type": "execute_result"
    }
   ],
   "source": [
    "# можно и обратно, но будьте внимательны*\n",
    "\n",
    "list('[1, 2, 3]')"
   ]
  },
  {
   "cell_type": "code",
   "execution_count": 74,
   "metadata": {
    "ExecuteTime": {
     "end_time": "2019-10-14T16:55:55.519634Z",
     "start_time": "2019-10-14T16:55:55.512058Z"
    },
    "code_folding": [
     0
    ]
   },
   "outputs": [
    {
     "data": {
      "text/plain": [
       "('0.231', '3.1415926535')"
      ]
     },
     "execution_count": 74,
     "metadata": {},
     "output_type": "execute_result"
    }
   ],
   "source": [
    "# float в str\n",
    "\n",
    "str(2.31e-1), str(3.1415926535)"
   ]
  },
  {
   "cell_type": "code",
   "execution_count": 75,
   "metadata": {},
   "outputs": [
    {
     "data": {
      "text/plain": [
       "('0', '1', '42')"
      ]
     },
     "execution_count": 75,
     "metadata": {},
     "output_type": "execute_result"
    }
   ],
   "source": [
    "# int в str\n",
    "\n",
    "str(0), str(1), str(42)"
   ]
  },
  {
   "cell_type": "code",
   "execution_count": 76,
   "metadata": {},
   "outputs": [
    {
     "data": {
      "text/plain": [
       "('True', 'False', 'None')"
      ]
     },
     "execution_count": 76,
     "metadata": {},
     "output_type": "execute_result"
    }
   ],
   "source": [
    "str(True), str(False), str(None)"
   ]
  },
  {
   "cell_type": "code",
   "execution_count": 77,
   "metadata": {},
   "outputs": [
    {
     "data": {
      "text/plain": [
       "['1', '2', '3']"
      ]
     },
     "execution_count": 77,
     "metadata": {},
     "output_type": "execute_result"
    }
   ],
   "source": [
    "x = '123'\n",
    "x = list(x)\n",
    "x"
   ]
  },
  {
   "cell_type": "markdown",
   "metadata": {},
   "source": [
    "### Сравнение строк"
   ]
  },
  {
   "cell_type": "markdown",
   "metadata": {},
   "source": [
    "Для строк применяется лексикографическое сравнение (по алфавиту). Можно сказать, что сравнение как у списков, но все же это списки сравниваются, как строки :)"
   ]
  },
  {
   "cell_type": "code",
   "execution_count": 78,
   "metadata": {},
   "outputs": [
    {
     "data": {
      "text/plain": [
       "True"
      ]
     },
     "execution_count": 78,
     "metadata": {},
     "output_type": "execute_result"
    }
   ],
   "source": [
    "'a' + 'a' == 'aa'"
   ]
  },
  {
   "cell_type": "code",
   "execution_count": 79,
   "metadata": {},
   "outputs": [
    {
     "data": {
      "text/plain": [
       "False"
      ]
     },
     "execution_count": 79,
     "metadata": {},
     "output_type": "execute_result"
    }
   ],
   "source": [
    "'a' + 'a' != 'aa'"
   ]
  },
  {
   "cell_type": "markdown",
   "metadata": {},
   "source": [
    "Регистр важен"
   ]
  },
  {
   "cell_type": "code",
   "execution_count": 80,
   "metadata": {},
   "outputs": [
    {
     "data": {
      "text/plain": [
       "True"
      ]
     },
     "execution_count": 80,
     "metadata": {},
     "output_type": "execute_result"
    }
   ],
   "source": [
    "\"apple\" != \"Apple\""
   ]
  },
  {
   "cell_type": "code",
   "execution_count": 81,
   "metadata": {},
   "outputs": [
    {
     "data": {
      "text/plain": [
       "False"
      ]
     },
     "execution_count": 81,
     "metadata": {},
     "output_type": "execute_result"
    }
   ],
   "source": [
    "'ab' < 'aa'"
   ]
  },
  {
   "cell_type": "code",
   "execution_count": 82,
   "metadata": {},
   "outputs": [
    {
     "data": {
      "text/plain": [
       "True"
      ]
     },
     "execution_count": 82,
     "metadata": {},
     "output_type": "execute_result"
    }
   ],
   "source": [
    "'韩' > 'a'"
   ]
  },
  {
   "cell_type": "markdown",
   "metadata": {},
   "source": [
    "И как это понять? Запоминать порядок всех символов? Конечно нет, вот еще один странный пример"
   ]
  },
  {
   "cell_type": "code",
   "execution_count": 83,
   "metadata": {},
   "outputs": [
    {
     "data": {
      "text/plain": [
       "False"
      ]
     },
     "execution_count": 83,
     "metadata": {},
     "output_type": "execute_result"
    }
   ],
   "source": [
    "\"apple\" < \"Apple\""
   ]
  },
  {
   "cell_type": "markdown",
   "metadata": {},
   "source": [
    "#### Символы и байты\n",
    "\n",
    "*Символ* (`韩`) - это абстракция.  \n",
    "*Charset* - это набор \"допустимых\" символов.  \n",
    "*Кодировка* - это правила, как записывать символы в компьютере.  \n",
    "\n",
    "**ASCII** - это кодировка для 128 символов. Каждый символ занимает 7 бит.  \n",
    "**КОИ-8** - это кодировка для 256 символов (расширение ASCII для русского языка). Символ занимает 8 бит.  \n",
    "\n",
    "**Unicode** - это стандарт, включающий в себя charset + несколько кодировок (UTF-8, UTF-16, UTF-32).\n",
    "- В UTF-8 - от 1 до 4 байт\n",
    "- UTF-16 - 2 или 4 байта\n",
    "- UTF-32 - 4 байта  \n",
    "\n",
    "**Note** string - последовательность символов | bytes - последовательность байтов\n",
    "\n",
    "\n",
    "Unicode: symbol identifier (such as `r`, `Я` or `韩`) != byte representation.\n",
    "\n",
    "You can switch between the Unicode symbol (e.g. \"U+1D11E\") and its integer identifier with `ord` and `chr`:"
   ]
  },
  {
   "cell_type": "markdown",
   "metadata": {},
   "source": [
    "Кто в алфавите раньше, тот и меньше: \n",
    "- `ord()` - узнать, кто раньше (порядковый номер символа)\n",
    "- `chr()` - поможет получить сам символ по его номеру"
   ]
  },
  {
   "cell_type": "code",
   "execution_count": null,
   "metadata": {},
   "outputs": [],
   "source": [
    "# help(ord)\n",
    "# help(chr)"
   ]
  },
  {
   "cell_type": "code",
   "execution_count": 84,
   "metadata": {},
   "outputs": [
    {
     "data": {
      "text/plain": [
       "65"
      ]
     },
     "execution_count": 84,
     "metadata": {},
     "output_type": "execute_result"
    }
   ],
   "source": [
    "ord('A')"
   ]
  },
  {
   "cell_type": "code",
   "execution_count": 85,
   "metadata": {},
   "outputs": [
    {
     "data": {
      "text/plain": [
       "90"
      ]
     },
     "execution_count": 85,
     "metadata": {},
     "output_type": "execute_result"
    }
   ],
   "source": [
    "ord('Z')"
   ]
  },
  {
   "cell_type": "code",
   "execution_count": 86,
   "metadata": {},
   "outputs": [
    {
     "data": {
      "text/plain": [
       "97"
      ]
     },
     "execution_count": 86,
     "metadata": {},
     "output_type": "execute_result"
    }
   ],
   "source": [
    "ord('a')"
   ]
  },
  {
   "cell_type": "code",
   "execution_count": 87,
   "metadata": {},
   "outputs": [
    {
     "data": {
      "text/plain": [
       "122"
      ]
     },
     "execution_count": 87,
     "metadata": {},
     "output_type": "execute_result"
    }
   ],
   "source": [
    "ord('z')"
   ]
  },
  {
   "cell_type": "code",
   "execution_count": 88,
   "metadata": {},
   "outputs": [
    {
     "data": {
      "text/plain": [
       "(38889, True)"
      ]
     },
     "execution_count": 88,
     "metadata": {},
     "output_type": "execute_result"
    }
   ],
   "source": [
    "ord('韩'), '韩' > 'a'"
   ]
  },
  {
   "cell_type": "code",
   "execution_count": 89,
   "metadata": {},
   "outputs": [
    {
     "data": {
      "text/plain": [
       "'阳 - солнце'"
      ]
     },
     "execution_count": 89,
     "metadata": {},
     "output_type": "execute_result"
    }
   ],
   "source": [
    "chr(38451) + ' - солнце'"
   ]
  },
  {
   "cell_type": "code",
   "execution_count": 90,
   "metadata": {},
   "outputs": [
    {
     "data": {
      "text/plain": [
       "(119070, '𝄞')"
      ]
     },
     "execution_count": 90,
     "metadata": {},
     "output_type": "execute_result"
    }
   ],
   "source": [
    "ord('\\U0001D11E'), chr(119070)"
   ]
  },
  {
   "cell_type": "code",
   "execution_count": 91,
   "metadata": {},
   "outputs": [
    {
     "data": {
      "text/plain": [
       "True"
      ]
     },
     "execution_count": 91,
     "metadata": {},
     "output_type": "execute_result"
    }
   ],
   "source": [
    "chr(ord('韩')) == '韩'"
   ]
  },
  {
   "cell_type": "markdown",
   "metadata": {},
   "source": [
    "```\n",
    "Encoding: symbols (human-readable) -> bytes \n",
    "Decoding: bytes -> symbols\n",
    "```"
   ]
  },
  {
   "cell_type": "code",
   "execution_count": 92,
   "metadata": {},
   "outputs": [
    {
     "data": {
      "text/plain": [
       "4"
      ]
     },
     "execution_count": 92,
     "metadata": {},
     "output_type": "execute_result"
    }
   ],
   "source": [
    "s = 'café'\n",
    "len(s)"
   ]
  },
  {
   "cell_type": "code",
   "execution_count": 93,
   "metadata": {},
   "outputs": [
    {
     "name": "stdout",
     "output_type": "stream",
     "text": [
      "5 <class 'bytes'>\n"
     ]
    },
    {
     "data": {
      "text/plain": [
       "b'caf\\xc3\\xa9'"
      ]
     },
     "execution_count": 93,
     "metadata": {},
     "output_type": "execute_result"
    }
   ],
   "source": [
    "b = s.encode('utf8')              # binary representation\n",
    "print(len(b), type(b))\n",
    "b                             "
   ]
  },
  {
   "cell_type": "code",
   "execution_count": 94,
   "metadata": {
    "scrolled": true
   },
   "outputs": [
    {
     "data": {
      "text/plain": [
       "'café'"
      ]
     },
     "execution_count": 94,
     "metadata": {},
     "output_type": "execute_result"
    }
   ],
   "source": [
    "b.decode()"
   ]
  },
  {
   "cell_type": "markdown",
   "metadata": {},
   "source": [
    "![](../../images/uniencode.png)"
   ]
  },
  {
   "cell_type": "markdown",
   "metadata": {},
   "source": [
    "### Интернирование \n",
    "\n",
    "при первом прочтении можно пропустить"
   ]
  },
  {
   "cell_type": "code",
   "execution_count": 100,
   "metadata": {},
   "outputs": [
    {
     "name": "stdout",
     "output_type": "stream",
     "text": [
      "True\n",
      "False\n",
      "True\n",
      "False\n",
      "True\n"
     ]
    }
   ],
   "source": [
    "x = 'Hello'\n",
    "z = 'Hello'\n",
    "a = 'Hello World'\n",
    "b = 'Hello World'\n",
    "c = 'Hello Worl'\n",
    "\n",
    "print(z is x)\n",
    "print(a is b)\n",
    "print(a == b)\n",
    "print(a is c + 'd')\n",
    "print(a == c + 'd')"
   ]
  },
  {
   "cell_type": "code",
   "execution_count": 104,
   "metadata": {},
   "outputs": [
    {
     "name": "stdout",
     "output_type": "stream",
     "text": [
      "a is b: False\n",
      "b is d: False\n",
      "a is c: False\n",
      "The ID of a: 4390511216\n",
      "The ID of b: 4391173616\n",
      "The ID of c: 4391214192\n",
      "The ID of d: 4391213808\n"
     ]
    }
   ],
   "source": [
    "# %%writefile untitled.py\n",
    "letter_d = 'd'\n",
    "\n",
    "a = 'Hello World'\n",
    "b = 'Hello World'\n",
    "c = 'Hello Worl' + letter_d\n",
    "d = 'Hello Worl' + 'd'\n",
    "\n",
    "print(f\"a is b: {a is b}\")\n",
    "print(f\"b is d: {b is d}\")\n",
    "print(f\"a is c: {a is c}\")\n",
    "\n",
    "print(f\"The ID of a: {id(a)}\")\n",
    "print(f\"The ID of b: {id(b)}\")\n",
    "print(f\"The ID of c: {id(c)}\")\n",
    "print(f\"The ID of d: {id(d)}\")"
   ]
  },
  {
   "cell_type": "markdown",
   "metadata": {},
   "source": [
    "```a is b: True\n",
    "b is d: True\n",
    "a is c: False\n",
    "The ID of a: 4381251376\n",
    "The ID of b: 4381251376\n",
    "The ID of c: 4381595824\n",
    "The ID of d: 4381251376```"
   ]
  },
  {
   "cell_type": "markdown",
   "metadata": {},
   "source": [
    "Все еще ничего необычного. Но самое интересное происходит не в интерактивном режиме:"
   ]
  },
  {
   "cell_type": "code",
   "execution_count": 105,
   "metadata": {},
   "outputs": [
    {
     "name": "stdout",
     "output_type": "stream",
     "text": [
      "a is b: True\r\n",
      "b is d: True\r\n",
      "a is c: False\r\n",
      "The ID of a: 4340198960\r\n",
      "The ID of b: 4340198960\r\n",
      "The ID of c: 4340232816\r\n",
      "The ID of d: 4340198960\r\n"
     ]
    }
   ],
   "source": [
    "!python untitled.py"
   ]
  },
  {
   "cell_type": "markdown",
   "metadata": {},
   "source": [
    "За подробностями [сюда (англ)](https://stackabuse.com/guide-to-string-interning-in-python/), а еще можно посмотреть [здесь (хабр)](https://habr.com/ru/post/564804/)"
   ]
  },
  {
   "cell_type": "markdown",
   "metadata": {},
   "source": [
    "## Индексы и срезы (slice)"
   ]
  },
  {
   "cell_type": "markdown",
   "metadata": {},
   "source": [
    "Индексация аналогично спискам. В целом справедливо для любых последовательностей (iterable)"
   ]
  },
  {
   "cell_type": "code",
   "execution_count": 106,
   "metadata": {},
   "outputs": [
    {
     "data": {
      "text/plain": [
       "'c'"
      ]
     },
     "execution_count": 106,
     "metadata": {},
     "output_type": "execute_result"
    }
   ],
   "source": [
    "string = 'string for slicing'\n",
    "string[0]\n",
    "string[2]\n",
    "string[-1]\n",
    "string[-4]"
   ]
  },
  {
   "cell_type": "markdown",
   "metadata": {},
   "source": [
    "**Операция среза возвращает новый объект**, поэтому с помощью `[:]` можно получить полную поверхностную копию объекта последовательности - полезно с изменяемыми объектами (списки, например)"
   ]
  },
  {
   "cell_type": "markdown",
   "metadata": {},
   "source": [
    "**Третий индекс** - необязательный - используется как шаг"
   ]
  },
  {
   "cell_type": "code",
   "execution_count": 107,
   "metadata": {},
   "outputs": [
    {
     "data": {
      "text/plain": [
       "'bdfhj'"
      ]
     },
     "execution_count": 107,
     "metadata": {},
     "output_type": "execute_result"
    }
   ],
   "source": [
    "S = 'abcdefghijklmnop'\n",
    "S[1:10:2]"
   ]
  },
  {
   "cell_type": "code",
   "execution_count": 108,
   "metadata": {},
   "outputs": [
    {
     "data": {
      "text/plain": [
       "'acegikmo'"
      ]
     },
     "execution_count": 108,
     "metadata": {},
     "output_type": "execute_result"
    }
   ],
   "source": [
    "S[::2]"
   ]
  },
  {
   "cell_type": "code",
   "execution_count": 109,
   "metadata": {},
   "outputs": [
    {
     "data": {
      "text/plain": [
       "'hfd'"
      ]
     },
     "execution_count": 109,
     "metadata": {},
     "output_type": "execute_result"
    }
   ],
   "source": [
    "S[7:1:-2]  # элемент с индексом 1 не войдет, т.к. вторая граница не включается"
   ]
  },
  {
   "cell_type": "code",
   "execution_count": 110,
   "metadata": {},
   "outputs": [
    {
     "data": {
      "text/plain": [
       "'ponmlkjihgfedcba'"
      ]
     },
     "execution_count": 110,
     "metadata": {},
     "output_type": "execute_result"
    }
   ],
   "source": [
    "S[::-1]"
   ]
  },
  {
   "cell_type": "code",
   "execution_count": 111,
   "metadata": {},
   "outputs": [
    {
     "data": {
      "text/plain": [
       "'abcdefghijklmnop'"
      ]
     },
     "execution_count": 111,
     "metadata": {},
     "output_type": "execute_result"
    }
   ],
   "source": [
    "S"
   ]
  },
  {
   "cell_type": "markdown",
   "metadata": {},
   "source": [
    "**slice** - объект среза"
   ]
  },
  {
   "cell_type": "code",
   "execution_count": null,
   "metadata": {},
   "outputs": [],
   "source": [
    "help(slice)"
   ]
  },
  {
   "cell_type": "code",
   "execution_count": 112,
   "metadata": {},
   "outputs": [
    {
     "data": {
      "text/plain": [
       "'pa'"
      ]
     },
     "execution_count": 112,
     "metadata": {},
     "output_type": "execute_result"
    }
   ],
   "source": [
    "'spam'[1:3]  # Синтаксис извлечения среза"
   ]
  },
  {
   "cell_type": "code",
   "execution_count": 113,
   "metadata": {},
   "outputs": [
    {
     "data": {
      "text/plain": [
       "'pa'"
      ]
     },
     "execution_count": 113,
     "metadata": {},
     "output_type": "execute_result"
    }
   ],
   "source": [
    "'spam'[slice(1, 3)]  # используется объект среза"
   ]
  },
  {
   "cell_type": "code",
   "execution_count": 114,
   "metadata": {},
   "outputs": [
    {
     "data": {
      "text/plain": [
       "'maps'"
      ]
     },
     "execution_count": 114,
     "metadata": {},
     "output_type": "execute_result"
    }
   ],
   "source": [
    "'spam'[::-1]"
   ]
  },
  {
   "cell_type": "code",
   "execution_count": 116,
   "metadata": {},
   "outputs": [
    {
     "data": {
      "text/plain": [
       "'maps'"
      ]
     },
     "execution_count": 116,
     "metadata": {},
     "output_type": "execute_result"
    }
   ],
   "source": [
    "'spam'[slice(None, None, -1)]"
   ]
  },
  {
   "cell_type": "code",
   "execution_count": 115,
   "metadata": {},
   "outputs": [
    {
     "ename": "SyntaxError",
     "evalue": "invalid syntax (1013044318.py, line 1)",
     "output_type": "error",
     "traceback": [
      "\u001b[0;36m  File \u001b[0;32m\"/var/folders/v8/2cskhqjj0_g0zp3824glf1tm0000gn/T/ipykernel_6042/1013044318.py\"\u001b[0;36m, line \u001b[0;32m1\u001b[0m\n\u001b[0;31m    'spam'[slice(, None, -1)]\u001b[0m\n\u001b[0m                 ^\u001b[0m\n\u001b[0;31mSyntaxError\u001b[0m\u001b[0;31m:\u001b[0m invalid syntax\n"
     ]
    }
   ],
   "source": [
    "'spam'[slice(, None, -1)]"
   ]
  },
  {
   "cell_type": "markdown",
   "metadata": {},
   "source": [
    "## Строки в действии"
   ]
  },
  {
   "cell_type": "markdown",
   "metadata": {},
   "source": [
    "### Изменение строк"
   ]
  },
  {
   "cell_type": "markdown",
   "metadata": {},
   "source": [
    "Строки - неизменяемые последовательности"
   ]
  },
  {
   "cell_type": "code",
   "execution_count": 117,
   "metadata": {},
   "outputs": [
    {
     "ename": "TypeError",
     "evalue": "'str' object does not support item assignment",
     "output_type": "error",
     "traceback": [
      "\u001b[0;31m---------------------------------------------------------------------------\u001b[0m",
      "\u001b[0;31mTypeError\u001b[0m                                 Traceback (most recent call last)",
      "\u001b[0;32m/var/folders/v8/2cskhqjj0_g0zp3824glf1tm0000gn/T/ipykernel_6042/3607628055.py\u001b[0m in \u001b[0;36m<module>\u001b[0;34m\u001b[0m\n\u001b[1;32m      1\u001b[0m \u001b[0ms\u001b[0m \u001b[0;34m=\u001b[0m \u001b[0;34m'abcde'\u001b[0m\u001b[0;34m\u001b[0m\u001b[0;34m\u001b[0m\u001b[0m\n\u001b[0;32m----> 2\u001b[0;31m \u001b[0ms\u001b[0m\u001b[0;34m[\u001b[0m\u001b[0;36m0\u001b[0m\u001b[0;34m]\u001b[0m \u001b[0;34m=\u001b[0m \u001b[0;34m'z'\u001b[0m\u001b[0;34m\u001b[0m\u001b[0;34m\u001b[0m\u001b[0m\n\u001b[0m",
      "\u001b[0;31mTypeError\u001b[0m: 'str' object does not support item assignment"
     ]
    }
   ],
   "source": [
    "s = 'abcde'\n",
    "s[0] = 'z'"
   ]
  },
  {
   "cell_type": "markdown",
   "metadata": {},
   "source": [
    "Чтобы изменить строку, необходимо создать новую строку с помощью таких операций, как конкатенация и извлечение подстроки, а затем, если необходимо, присвоить результать первоначальному имени"
   ]
  },
  {
   "cell_type": "code",
   "execution_count": 118,
   "metadata": {},
   "outputs": [
    {
     "data": {
      "text/plain": [
       "'zbcde'"
      ]
     },
     "execution_count": 118,
     "metadata": {},
     "output_type": "execute_result"
    }
   ],
   "source": [
    "s = 'z' + s[1:]\n",
    "s"
   ]
  },
  {
   "cell_type": "code",
   "execution_count": 119,
   "metadata": {},
   "outputs": [
    {
     "data": {
      "text/plain": [
       "'zbcde'"
      ]
     },
     "execution_count": 119,
     "metadata": {},
     "output_type": "execute_result"
    }
   ],
   "source": [
    "s"
   ]
  },
  {
   "cell_type": "code",
   "execution_count": 120,
   "metadata": {},
   "outputs": [],
   "source": [
    "s = s[:2] + 'word' + s[3:]"
   ]
  },
  {
   "cell_type": "code",
   "execution_count": 121,
   "metadata": {},
   "outputs": [
    {
     "data": {
      "text/plain": [
       "'zbwordde'"
      ]
     },
     "execution_count": 121,
     "metadata": {},
     "output_type": "execute_result"
    }
   ],
   "source": [
    "s"
   ]
  },
  {
   "cell_type": "markdown",
   "metadata": {},
   "source": [
    "## Строковые методы"
   ]
  },
  {
   "cell_type": "markdown",
   "metadata": {},
   "source": [
    "**Методы** - функции, связанные с определенными объектами. Формально они являются атрибутами, присоединенными к объектам, которые ссылаются на функции."
   ]
  },
  {
   "cell_type": "markdown",
   "metadata": {},
   "source": [
    "Методы являются специфичными для типов объектов, но некоторые методы могут относиться к разыми типам (например, `count`), но при этом они по своей функциональности в большей степени зависят от типа объекта, чем другие инструменты."
   ]
  },
  {
   "cell_type": "markdown",
   "metadata": {},
   "source": [
    "Функции  – это пакеты программного кода, а  вызовы методов объединяют в себе выполнение двух операций (извлечение атрибута и вызов функции).\n",
    "* Извлечение атрибута\n",
    "\n",
    "Выражение вида **`object.attribute`** означает: «извлечь значение атрибута `attribute` из объекта `object`».\n",
    "* Вызов функции\n",
    "\n",
    "Выражение вида **`function(arguments)`** означает: «вызвать программный код функции `function`, передав ему ноль или более объектов-аргументов `arguments`, разделенных запятыми, и вернуть значение функции»."
   ]
  },
  {
   "cell_type": "markdown",
   "metadata": {},
   "source": [
    "Объединение этих двух действий позволяет вызвать метод объекта. Выражение вызова метода `object.method(arguments)` вычисляется слева направо, то есть интерпретатор сначала извлекает метод объекта, а затем вызывает его, передавая ему входные аргументы"
   ]
  },
  {
   "cell_type": "code",
   "execution_count": 126,
   "metadata": {},
   "outputs": [],
   "source": [
    "# на этот код не обращайте внимания, эта функция нам просто поможет\n",
    "def print_entire_obj(obj):\n",
    "    print(len([name for name in dir(obj) if not name.startswith('_')]))\n",
    "    print(*[name for name in dir(obj) if not name.startswith('_')], sep='\\n')"
   ]
  },
  {
   "cell_type": "markdown",
   "metadata": {},
   "source": [
    "Полный список тут: https://docs.python.org/3.8/library/stdtypes.html#string-methods"
   ]
  },
  {
   "cell_type": "code",
   "execution_count": 127,
   "metadata": {},
   "outputs": [
    {
     "name": "stdout",
     "output_type": "stream",
     "text": [
      "45\n",
      "capitalize\n",
      "casefold\n",
      "center\n",
      "count\n",
      "encode\n",
      "endswith\n",
      "expandtabs\n",
      "find\n",
      "format\n",
      "format_map\n",
      "index\n",
      "isalnum\n",
      "isalpha\n",
      "isascii\n",
      "isdecimal\n",
      "isdigit\n",
      "isidentifier\n",
      "islower\n",
      "isnumeric\n",
      "isprintable\n",
      "isspace\n",
      "istitle\n",
      "isupper\n",
      "join\n",
      "ljust\n",
      "lower\n",
      "lstrip\n",
      "maketrans\n",
      "partition\n",
      "replace\n",
      "rfind\n",
      "rindex\n",
      "rjust\n",
      "rpartition\n",
      "rsplit\n",
      "rstrip\n",
      "split\n",
      "splitlines\n",
      "startswith\n",
      "strip\n",
      "swapcase\n",
      "title\n",
      "translate\n",
      "upper\n",
      "zfill\n"
     ]
    }
   ],
   "source": [
    "print_entire_obj(str)"
   ]
  },
  {
   "cell_type": "markdown",
   "metadata": {},
   "source": [
    "### Рассмотрим некоторые методы."
   ]
  },
  {
   "cell_type": "markdown",
   "metadata": {},
   "source": [
    "#### isdigit/isalpha"
   ]
  },
  {
   "cell_type": "markdown",
   "metadata": {},
   "source": [
    "`.isdigit()` - возвращает True, если все символы строки - цифры\n",
    "\n",
    "`.isalpha()` - возвращает True, если все символы строки - буквы"
   ]
  },
  {
   "cell_type": "code",
   "execution_count": 131,
   "metadata": {},
   "outputs": [
    {
     "name": "stdout",
     "output_type": "stream",
     "text": [
      "Help on method_descriptor:\n",
      "\n",
      "isdigit(self, /)\n",
      "    Return True if the string is a digit string, False otherwise.\n",
      "    \n",
      "    A string is a digit string if all characters in the string are digits and there\n",
      "    is at least one character in the string.\n",
      "\n"
     ]
    }
   ],
   "source": [
    "help(str.isdigit)"
   ]
  },
  {
   "cell_type": "code",
   "execution_count": 132,
   "metadata": {},
   "outputs": [
    {
     "data": {
      "text/plain": [
       "True"
      ]
     },
     "execution_count": 132,
     "metadata": {},
     "output_type": "execute_result"
    }
   ],
   "source": [
    "'02'.isdigit()"
   ]
  },
  {
   "cell_type": "code",
   "execution_count": 133,
   "metadata": {},
   "outputs": [
    {
     "data": {
      "text/plain": [
       "False"
      ]
     },
     "execution_count": 133,
     "metadata": {},
     "output_type": "execute_result"
    }
   ],
   "source": [
    "'0.2'.isdigit()"
   ]
  },
  {
   "cell_type": "code",
   "execution_count": 134,
   "metadata": {},
   "outputs": [
    {
     "data": {
      "text/plain": [
       "False"
      ]
     },
     "execution_count": 134,
     "metadata": {},
     "output_type": "execute_result"
    }
   ],
   "source": [
    "'0 2'.isdigit()"
   ]
  },
  {
   "cell_type": "code",
   "execution_count": 135,
   "metadata": {},
   "outputs": [
    {
     "data": {
      "text/plain": [
       "True"
      ]
     },
     "execution_count": 135,
     "metadata": {},
     "output_type": "execute_result"
    }
   ],
   "source": [
    "'andefg'.isalpha()"
   ]
  },
  {
   "cell_type": "code",
   "execution_count": 136,
   "metadata": {},
   "outputs": [
    {
     "data": {
      "text/plain": [
       "False"
      ]
     },
     "execution_count": 136,
     "metadata": {},
     "output_type": "execute_result"
    }
   ],
   "source": [
    "'and efg'.isalpha()"
   ]
  },
  {
   "cell_type": "markdown",
   "metadata": {},
   "source": [
    "Пользователь на вход пишет последовательность символов, нужно перевести в int:"
   ]
  },
  {
   "cell_type": "code",
   "execution_count": 137,
   "metadata": {},
   "outputs": [
    {
     "ename": "ValueError",
     "evalue": "invalid literal for int() with base 10: 'asd'",
     "output_type": "error",
     "traceback": [
      "\u001b[0;31m---------------------------------------------------------------------------\u001b[0m",
      "\u001b[0;31mValueError\u001b[0m                                Traceback (most recent call last)",
      "\u001b[0;32m/var/folders/v8/2cskhqjj0_g0zp3824glf1tm0000gn/T/ipykernel_6042/74624438.py\u001b[0m in \u001b[0;36m<module>\u001b[0;34m\u001b[0m\n\u001b[0;32m----> 1\u001b[0;31m \u001b[0mint\u001b[0m\u001b[0;34m(\u001b[0m\u001b[0;34m'asd'\u001b[0m\u001b[0;34m)\u001b[0m\u001b[0;34m\u001b[0m\u001b[0;34m\u001b[0m\u001b[0m\n\u001b[0m",
      "\u001b[0;31mValueError\u001b[0m: invalid literal for int() with base 10: 'asd'"
     ]
    }
   ],
   "source": [
    "int('asd')"
   ]
  },
  {
   "cell_type": "code",
   "execution_count": 139,
   "metadata": {
    "ExecuteTime": {
     "end_time": "2019-10-14T17:34:06.651232Z",
     "start_time": "2019-10-14T17:34:03.349827Z"
    },
    "code_folding": [
     0,
     6
    ]
   },
   "outputs": [
    {
     "name": "stdout",
     "output_type": "stream",
     "text": [
      "09876543\n",
      "Преобразовано в int: 9876543\n"
     ]
    }
   ],
   "source": [
    "# чтобы перевести в int, нужно проверить, можно ли перевести в int\n",
    "number_str = input()\n",
    "\n",
    "if number_str.isdigit():\n",
    "    number_int = int(number_str)\n",
    "    print(\"Преобразовано в int:\",  number_int)\n",
    "else:\n",
    "    print(\"Невозможно преобразовать в int\")"
   ]
  },
  {
   "cell_type": "markdown",
   "metadata": {},
   "source": [
    "#### lower/upper/capitalize"
   ]
  },
  {
   "cell_type": "markdown",
   "metadata": {},
   "source": [
    "`.lower()` - переводит строку в нижний регистр\n",
    "\n",
    "`.upper()` - переводит строку в вехний регистр\n",
    "\n",
    "`.capitalize()` - переводит в верхний регистр первую букву только самого первого слова строки"
   ]
  },
  {
   "cell_type": "markdown",
   "metadata": {},
   "source": [
    "Пользователь вводит имя, а затем мы вежливо здороваемся с ним!"
   ]
  },
  {
   "cell_type": "code",
   "execution_count": 141,
   "metadata": {
    "ExecuteTime": {
     "end_time": "2019-10-14T17:39:30.357179Z",
     "start_time": "2019-10-14T17:39:25.555611Z"
    },
    "code_folding": [
     0
    ]
   },
   "outputs": [
    {
     "name": "stdout",
     "output_type": "stream",
     "text": [
      "Илья\n",
      "Привет, Илья!\n"
     ]
    }
   ],
   "source": [
    "# вежливо здороваемся\n",
    "\n",
    "name = input()\n",
    "\n",
    "print(\"Привет,\", name.capitalize() + '!')"
   ]
  },
  {
   "cell_type": "code",
   "execution_count": 142,
   "metadata": {},
   "outputs": [
    {
     "name": "stdout",
     "output_type": "stream",
     "text": [
      "илья\n",
      "Привет, Илья!\n"
     ]
    }
   ],
   "source": [
    "print(\"Привет,\", input().capitalize() + '!')"
   ]
  },
  {
   "cell_type": "markdown",
   "metadata": {},
   "source": [
    "Полезно пользоваться этими методами, когда надо сравнивать между собой строки."
   ]
  },
  {
   "cell_type": "markdown",
   "metadata": {},
   "source": [
    "Повторяем все, что ввел пользователь, до тех пор, пока пользователь не ввел слово Стоп (в произвольном виде)."
   ]
  },
  {
   "cell_type": "code",
   "execution_count": 143,
   "metadata": {
    "ExecuteTime": {
     "end_time": "2019-10-14T17:42:40.359785Z",
     "start_time": "2019-10-14T17:42:36.239034Z"
    },
    "code_folding": [
     0
    ]
   },
   "outputs": [
    {
     "name": "stdout",
     "output_type": "stream",
     "text": [
      "123456нри\n",
      "123456нри\n",
      "онав756гапф2к\n",
      "онав756гапф2к\n",
      "х3шге39опхтм\n",
      "х3шге39опхтм\n",
      "вдаптылтхуешроъ-35=ефлфу\n",
      "вдаптылтхуешроъ-35=ефлфу\n",
      "човраигтг934еп204егпофзхшоитошкипое  фшрцуипщф34п98рфу4\n",
      "човраигтг934еп204егпофзхшоитошкипое  фшрцуипщф34п98рфу4\n",
      "СТоп\n"
     ]
    }
   ],
   "source": [
    "# повторюшка\n",
    "\n",
    "word = input()\n",
    "while word.lower() != 'стоп':  # СтОп, СТОП\n",
    "    print(word)\n",
    "    word = input()"
   ]
  },
  {
   "cell_type": "code",
   "execution_count": 144,
   "metadata": {},
   "outputs": [
    {
     "name": "stdout",
     "output_type": "stream",
     "text": [
      "СтоП\n",
      "СтоП\n",
      "стоп\n"
     ]
    }
   ],
   "source": [
    "word = input()\n",
    "while word != 'стоп':  # СтОп, СТОП\n",
    "    print(word)\n",
    "    word = input()"
   ]
  },
  {
   "cell_type": "code",
   "execution_count": null,
   "metadata": {},
   "outputs": [],
   "source": [
    "# другой вариант, но суть та же\n",
    "\n",
    "while True:\n",
    "    word = input()\n",
    "    if word.lower() != 'стоп':\n",
    "        print(word)\n",
    "    else:\n",
    "        break"
   ]
  },
  {
   "cell_type": "code",
   "execution_count": 145,
   "metadata": {},
   "outputs": [
    {
     "data": {
      "text/plain": [
       "'стоп'"
      ]
     },
     "execution_count": 145,
     "metadata": {},
     "output_type": "execute_result"
    }
   ],
   "source": [
    "word"
   ]
  },
  {
   "cell_type": "code",
   "execution_count": 146,
   "metadata": {},
   "outputs": [
    {
     "data": {
      "text/plain": [
       "'стоп'"
      ]
     },
     "execution_count": 146,
     "metadata": {},
     "output_type": "execute_result"
    }
   ],
   "source": [
    "word.lower()"
   ]
  },
  {
   "cell_type": "code",
   "execution_count": null,
   "metadata": {},
   "outputs": [],
   "source": [
    "type(word.lower())"
   ]
  },
  {
   "cell_type": "markdown",
   "metadata": {},
   "source": [
    "В Питоне вы часто увидете цепной вызов методов:"
   ]
  },
  {
   "cell_type": "code",
   "execution_count": 147,
   "metadata": {},
   "outputs": [
    {
     "data": {
      "text/plain": [
       "True"
      ]
     },
     "execution_count": 147,
     "metadata": {},
     "output_type": "execute_result"
    }
   ],
   "source": [
    "word.lower().islower()"
   ]
  },
  {
   "cell_type": "code",
   "execution_count": 148,
   "metadata": {},
   "outputs": [
    {
     "data": {
      "text/plain": [
       "'ПОТС'"
      ]
     },
     "execution_count": 148,
     "metadata": {},
     "output_type": "execute_result"
    }
   ],
   "source": [
    "word.lower()[::-1].upper()"
   ]
  },
  {
   "cell_type": "markdown",
   "metadata": {},
   "source": [
    "#### split/join"
   ]
  },
  {
   "cell_type": "markdown",
   "metadata": {},
   "source": [
    "- `.split()` - разбивает строку на подстроки в зависимости от разделителя\n",
    "\n",
    "- `.join()` - объединяет строки в одну строку, вставляя между ними определенный разделитель"
   ]
  },
  {
   "cell_type": "code",
   "execution_count": 149,
   "metadata": {},
   "outputs": [
    {
     "name": "stdout",
     "output_type": "stream",
     "text": [
      "Help on method_descriptor:\n",
      "\n",
      "split(self, /, sep=None, maxsplit=-1)\n",
      "    Return a list of the words in the string, using sep as the delimiter string.\n",
      "    \n",
      "    sep\n",
      "      The delimiter according which to split the string.\n",
      "      None (the default value) means split according to any whitespace,\n",
      "      and discard empty strings from the result.\n",
      "    maxsplit\n",
      "      Maximum number of splits to do.\n",
      "      -1 (the default value) means no limit.\n",
      "\n"
     ]
    }
   ],
   "source": [
    "# посмотреть документацию по методу split\n",
    "help(str.split)"
   ]
  },
  {
   "cell_type": "code",
   "execution_count": 150,
   "metadata": {},
   "outputs": [
    {
     "data": {
      "text/plain": [
       "['hello,', 'world']"
      ]
     },
     "execution_count": 150,
     "metadata": {},
     "output_type": "execute_result"
    }
   ],
   "source": [
    "'hello, world'.split()  # 'hello, world'.split(sep=None, maxsplit=-1)"
   ]
  },
  {
   "cell_type": "code",
   "execution_count": 153,
   "metadata": {},
   "outputs": [
    {
     "data": {
      "text/plain": [
       "(['he', '', 'o, wor', 'd'], 4)"
      ]
     },
     "execution_count": 153,
     "metadata": {},
     "output_type": "execute_result"
    }
   ],
   "source": [
    "'hello, world'.split('l'), len('hello, world'.split('l'))"
   ]
  },
  {
   "cell_type": "code",
   "execution_count": 151,
   "metadata": {},
   "outputs": [
    {
     "data": {
      "text/plain": [
       "['hello,', '', '', '', '', 'world']"
      ]
     },
     "execution_count": 151,
     "metadata": {},
     "output_type": "execute_result"
    }
   ],
   "source": [
    "'hello,     world'.split(' ')"
   ]
  },
  {
   "cell_type": "code",
   "execution_count": 152,
   "metadata": {},
   "outputs": [
    {
     "data": {
      "text/plain": [
       "['hello,', 'world']"
      ]
     },
     "execution_count": 152,
     "metadata": {},
     "output_type": "execute_result"
    }
   ],
   "source": [
    "'hello,     world'.split()  # сплитит по пробельным символам: \\t, \\n, ' ', \\b"
   ]
  },
  {
   "cell_type": "code",
   "execution_count": 156,
   "metadata": {},
   "outputs": [
    {
     "name": "stdout",
     "output_type": "stream",
     "text": [
      "hello \n",
      "ld \n",
      "ld | \n",
      "ld , world \n"
     ]
    }
   ],
   "source": [
    "print(*'hello world world | world , world '.split(sep='wor', maxsplit=3), sep='\\n')"
   ]
  },
  {
   "cell_type": "markdown",
   "metadata": {},
   "source": [
    "**Ситуация:** пользователь вводит положительные целые числа через запятую, без пробелов, нужно посчитать сумму чисел."
   ]
  },
  {
   "cell_type": "code",
   "execution_count": 159,
   "metadata": {
    "ExecuteTime": {
     "end_time": "2019-10-14T17:47:22.345205Z",
     "start_time": "2019-10-14T17:47:16.680189Z"
    },
    "code_folding": [
     0
    ],
    "scrolled": true
   },
   "outputs": [
    {
     "name": "stdout",
     "output_type": "stream",
     "text": [
      "1,2,3\n",
      "['1', '2', '3'] <class 'str'>\n",
      "['1', '2', '3']\n",
      "0\n",
      "1\n",
      "1\n",
      "[1, '2', '3']\n",
      "1\n",
      "2\n",
      "2\n",
      "[1, 2, '3']\n",
      "2\n",
      "3\n",
      "3\n",
      "Сумма чисел: 6\n",
      "[1, 2, 3]\n"
     ]
    }
   ],
   "source": [
    "# ищем сумму чисел\n",
    "\n",
    "numbers_str = input()\n",
    "\n",
    "numbers_list = numbers_str.split(',')\n",
    "\n",
    "print(numbers_list, type(numbers_list[0]))\n",
    "\n",
    "# numbers_list = [int(i) for i in numbers_list]  # list comprehensions\n",
    "\n",
    "for index, number in enumerate(numbers_list):\n",
    "    numbers_list[index] = int(number)\n",
    "    \n",
    "print(\"Сумма чисел:\", sum(numbers_list))\n",
    "\n",
    "print(numbers_list)"
   ]
  },
  {
   "cell_type": "code",
   "execution_count": 160,
   "metadata": {},
   "outputs": [
    {
     "data": {
      "text/plain": [
       "'1,2,3'"
      ]
     },
     "execution_count": 160,
     "metadata": {},
     "output_type": "execute_result"
    }
   ],
   "source": [
    "numbers_str"
   ]
  },
  {
   "cell_type": "code",
   "execution_count": 161,
   "metadata": {},
   "outputs": [
    {
     "data": {
      "text/plain": [
       "[1, 2, 3]"
      ]
     },
     "execution_count": 161,
     "metadata": {},
     "output_type": "execute_result"
    }
   ],
   "source": [
    "numbers_list"
   ]
  },
  {
   "cell_type": "code",
   "execution_count": 165,
   "metadata": {},
   "outputs": [
    {
     "data": {
      "text/plain": [
       "210"
      ]
     },
     "execution_count": 165,
     "metadata": {},
     "output_type": "execute_result"
    }
   ],
   "source": [
    "# еще пример\n",
    "lst_str = ['42', '42', '42', '42', '42']\n",
    "sum(map(int, lst_str))"
   ]
  },
  {
   "cell_type": "code",
   "execution_count": 166,
   "metadata": {
    "ExecuteTime": {
     "end_time": "2019-10-14T17:49:38.822398Z",
     "start_time": "2019-10-14T17:49:38.812210Z"
    },
    "code_folding": [
     0
    ]
   },
   "outputs": [
    {
     "name": "stdout",
     "output_type": "stream",
     "text": [
      "abc def class\n",
      "1---2---3\n"
     ]
    }
   ],
   "source": [
    "# пример работы join\n",
    "\n",
    "print(\" \".join(['abc', 'def', 'class']))\n",
    "\n",
    "print(\"---\".join(['1', '2', '3']))"
   ]
  },
  {
   "cell_type": "code",
   "execution_count": 167,
   "metadata": {
    "scrolled": false
   },
   "outputs": [
    {
     "ename": "TypeError",
     "evalue": "sequence item 0: expected str instance, int found",
     "output_type": "error",
     "traceback": [
      "\u001b[0;31m---------------------------------------------------------------------------\u001b[0m",
      "\u001b[0;31mTypeError\u001b[0m                                 Traceback (most recent call last)",
      "\u001b[0;32m/var/folders/v8/2cskhqjj0_g0zp3824glf1tm0000gn/T/ipykernel_6042/332361624.py\u001b[0m in \u001b[0;36m<module>\u001b[0;34m\u001b[0m\n\u001b[0;32m----> 1\u001b[0;31m \u001b[0mprint\u001b[0m\u001b[0;34m(\u001b[0m\u001b[0;34m\"---\"\u001b[0m\u001b[0;34m.\u001b[0m\u001b[0mjoin\u001b[0m\u001b[0;34m(\u001b[0m\u001b[0;34m[\u001b[0m\u001b[0;36m1\u001b[0m\u001b[0;34m,\u001b[0m \u001b[0;36m2\u001b[0m\u001b[0;34m,\u001b[0m \u001b[0;36m3\u001b[0m\u001b[0;34m]\u001b[0m\u001b[0;34m)\u001b[0m\u001b[0;34m)\u001b[0m\u001b[0;34m\u001b[0m\u001b[0;34m\u001b[0m\u001b[0m\n\u001b[0m",
      "\u001b[0;31mTypeError\u001b[0m: sequence item 0: expected str instance, int found"
     ]
    }
   ],
   "source": [
    "print(\"---\".join([1, 2, 3]))"
   ]
  },
  {
   "cell_type": "code",
   "execution_count": 168,
   "metadata": {},
   "outputs": [
    {
     "data": {
      "text/plain": [
       "['1', '2', '3']"
      ]
     },
     "execution_count": 168,
     "metadata": {},
     "output_type": "execute_result"
    }
   ],
   "source": [
    "list(map(str, [1, 2, 3]))"
   ]
  },
  {
   "cell_type": "code",
   "execution_count": null,
   "metadata": {},
   "outputs": [],
   "source": [
    "str.join()"
   ]
  },
  {
   "cell_type": "code",
   "execution_count": 175,
   "metadata": {},
   "outputs": [
    {
     "data": {
      "text/plain": [
       "<map at 0x106d33b80>"
      ]
     },
     "execution_count": 175,
     "metadata": {},
     "output_type": "execute_result"
    }
   ],
   "source": [
    "map(str, [1, 2, 3])"
   ]
  },
  {
   "cell_type": "code",
   "execution_count": 169,
   "metadata": {},
   "outputs": [
    {
     "name": "stdout",
     "output_type": "stream",
     "text": [
      "1---2---3\n"
     ]
    }
   ],
   "source": [
    "print(\"---\".join(map(str, [1, 2, 3])))"
   ]
  },
  {
   "cell_type": "code",
   "execution_count": 176,
   "metadata": {
    "scrolled": true
   },
   "outputs": [
    {
     "data": {
      "text/plain": [
       "['aojngi',\n",
       " 'siuehrbgiuhsbeig\\niahbwoihbsv\\tkncvi',\n",
       " 'sijbohsbfeuhb',\n",
       " '',\n",
       " '',\n",
       " '\\t\\n']"
      ]
     },
     "execution_count": 176,
     "metadata": {},
     "output_type": "execute_result"
    }
   ],
   "source": [
    "\"aojngi siuehrbgiuhsbeig\\niahbwoihbsv\\tkncvi sijbohsbfeuhb   \\t\\n\".split(' ')"
   ]
  },
  {
   "cell_type": "code",
   "execution_count": 179,
   "metadata": {},
   "outputs": [],
   "source": [
    "# ' '.join(['aojngi',\n",
    "#  'siuehrbgiuhsbeig\\niahbwoihbsv\\tkncvi',\n",
    "#  'sijbohsbfeuhb',\n",
    "#  '',\n",
    "#  '',\n",
    "#  '\\t\\n'])"
   ]
  },
  {
   "cell_type": "code",
   "execution_count": 180,
   "metadata": {},
   "outputs": [
    {
     "data": {
      "text/plain": [
       "['aojngi', 'siuehrbgiuhsbeig', 'iahbwoihbsv', 'kncvi', 'sijbohsbfeuhb']"
      ]
     },
     "execution_count": 180,
     "metadata": {},
     "output_type": "execute_result"
    }
   ],
   "source": [
    "\"aojngi siuehrbgiuhsbeig\\niahbwoihbsv\\tkncvi sijbohsbfeuhb   \\t\\n\".split()"
   ]
  },
  {
   "cell_type": "code",
   "execution_count": 181,
   "metadata": {},
   "outputs": [
    {
     "data": {
      "text/plain": [
       "'aojngi siuehrbgiuhsbeig iahbwoihbsv kncvi sijbohsbfeuhb'"
      ]
     },
     "execution_count": 181,
     "metadata": {},
     "output_type": "execute_result"
    }
   ],
   "source": [
    "' '.join(['aojngi', 'siuehrbgiuhsbeig', 'iahbwoihbsv', 'kncvi', 'sijbohsbfeuhb'])"
   ]
  },
  {
   "cell_type": "code",
   "execution_count": 182,
   "metadata": {},
   "outputs": [
    {
     "data": {
      "text/plain": [
       "'Vvorld VVide vveb'"
      ]
     },
     "execution_count": 182,
     "metadata": {},
     "output_type": "execute_result"
    }
   ],
   "source": [
    "string = \"Vvorld VVide vveb\"\n",
    "string"
   ]
  },
  {
   "cell_type": "code",
   "execution_count": 183,
   "metadata": {},
   "outputs": [
    {
     "data": {
      "text/plain": [
       "'vvorld vvide vveb'"
      ]
     },
     "execution_count": 183,
     "metadata": {},
     "output_type": "execute_result"
    }
   ],
   "source": [
    "string.lower()"
   ]
  },
  {
   "cell_type": "code",
   "execution_count": 184,
   "metadata": {},
   "outputs": [
    {
     "data": {
      "text/plain": [
       "['', 'orld ', 'ide ', 'eb']"
      ]
     },
     "execution_count": 184,
     "metadata": {},
     "output_type": "execute_result"
    }
   ],
   "source": [
    "string.lower().split('vv')"
   ]
  },
  {
   "cell_type": "code",
   "execution_count": 185,
   "metadata": {},
   "outputs": [
    {
     "data": {
      "text/plain": [
       "True"
      ]
     },
     "execution_count": 185,
     "metadata": {},
     "output_type": "execute_result"
    }
   ],
   "source": [
    "string = 'W'.join(string.lower().split('vv'))\n",
    "string == \"World Wide Web\""
   ]
  },
  {
   "cell_type": "markdown",
   "metadata": {},
   "source": [
    "#### find/count/replace"
   ]
  },
  {
   "cell_type": "markdown",
   "metadata": {},
   "source": [
    "- `find(substring, string)` -  возвращает индекс подстроки в строке; если подстрока не найдена, возвращается число -1\n",
    "\n",
    "- `count(substring, string)` - количество вхождений подстроки в строку\n",
    "\n",
    "- `replace(substring, string)` - заменяет в строке одну подстроку на другую"
   ]
  },
  {
   "cell_type": "code",
   "execution_count": 186,
   "metadata": {
    "ExecuteTime": {
     "end_time": "2019-10-14T17:52:59.845993Z",
     "start_time": "2019-10-14T17:52:59.841079Z"
    }
   },
   "outputs": [],
   "source": [
    "string = \"я помню чудное мгновенье помню помню не помню\""
   ]
  },
  {
   "cell_type": "code",
   "execution_count": 187,
   "metadata": {
    "ExecuteTime": {
     "end_time": "2019-10-14T17:53:20.613989Z",
     "start_time": "2019-10-14T17:53:20.606167Z"
    }
   },
   "outputs": [
    {
     "data": {
      "text/plain": [
       "2"
      ]
     },
     "execution_count": 187,
     "metadata": {},
     "output_type": "execute_result"
    }
   ],
   "source": [
    "string.find(\"помню\")"
   ]
  },
  {
   "cell_type": "code",
   "execution_count": 188,
   "metadata": {},
   "outputs": [
    {
     "data": {
      "text/plain": [
       "4"
      ]
     },
     "execution_count": 188,
     "metadata": {},
     "output_type": "execute_result"
    }
   ],
   "source": [
    "string.count(\"помню\")"
   ]
  },
  {
   "cell_type": "code",
   "execution_count": 189,
   "metadata": {},
   "outputs": [
    {
     "data": {
      "text/plain": [
       "0"
      ]
     },
     "execution_count": 189,
     "metadata": {},
     "output_type": "execute_result"
    }
   ],
   "source": [
    "string.count(\"собака\")"
   ]
  },
  {
   "cell_type": "code",
   "execution_count": 190,
   "metadata": {},
   "outputs": [
    {
     "data": {
      "text/plain": [
       "40"
      ]
     },
     "execution_count": 190,
     "metadata": {},
     "output_type": "execute_result"
    }
   ],
   "source": [
    "string.rfind(\"помн\")"
   ]
  },
  {
   "cell_type": "code",
   "execution_count": 191,
   "metadata": {},
   "outputs": [
    {
     "name": "stdout",
     "output_type": "stream",
     "text": [
      "Не нашел\n"
     ]
    }
   ],
   "source": [
    "if string.find('собака') + 1:\n",
    "    print('Хатико')\n",
    "else:\n",
    "    print('Не нашел')"
   ]
  },
  {
   "cell_type": "code",
   "execution_count": 192,
   "metadata": {},
   "outputs": [
    {
     "data": {
      "text/plain": [
       "-1"
      ]
     },
     "execution_count": 192,
     "metadata": {},
     "output_type": "execute_result"
    }
   ],
   "source": [
    "string.find('собака')"
   ]
  },
  {
   "cell_type": "code",
   "execution_count": 193,
   "metadata": {},
   "outputs": [
    {
     "name": "stdout",
     "output_type": "stream",
     "text": [
      "Не нашел\n"
     ]
    }
   ],
   "source": [
    "if string.find('я'):\n",
    "    print('Хатико')\n",
    "else:\n",
    "    print('Не нашел')"
   ]
  },
  {
   "cell_type": "code",
   "execution_count": 194,
   "metadata": {},
   "outputs": [
    {
     "name": "stdout",
     "output_type": "stream",
     "text": [
      "Хатико\n"
     ]
    }
   ],
   "source": [
    "print('Хатико') if string.find('помню') + 1 else print('Не нашел')"
   ]
  },
  {
   "cell_type": "code",
   "execution_count": 195,
   "metadata": {},
   "outputs": [
    {
     "data": {
      "text/plain": [
       "'я помню чудное мгновенье помню помню не помню'"
      ]
     },
     "execution_count": 195,
     "metadata": {},
     "output_type": "execute_result"
    }
   ],
   "source": [
    "string"
   ]
  },
  {
   "cell_type": "code",
   "execution_count": 202,
   "metadata": {},
   "outputs": [
    {
     "data": {
      "text/plain": [
       "'я\\nпомню\\nчудное\\nмгновенье\\nпомню\\nпомню\\nне\\nпомню'"
      ]
     },
     "execution_count": 202,
     "metadata": {},
     "output_type": "execute_result"
    }
   ],
   "source": [
    "string.replace(\" \", '\\n')"
   ]
  },
  {
   "cell_type": "code",
   "execution_count": 201,
   "metadata": {
    "ExecuteTime": {
     "end_time": "2019-10-14T17:54:37.004451Z",
     "start_time": "2019-10-14T17:54:36.998636Z"
    }
   },
   "outputs": [
    {
     "name": "stdout",
     "output_type": "stream",
     "text": [
      "я помню чудное мгновенье помню помню не помню\n",
      "'я\\nпомню\\nчудное\\nмгновенье\\nпомню\\nпомню\\nне\\nпомню'\n",
      "я\n",
      "помню\n",
      "чудное\n",
      "мгновенье\n",
      "помню\n",
      "помню\n",
      "не\n",
      "помню\n"
     ]
    }
   ],
   "source": [
    "print(string)\n",
    "print(repr(string.replace(\" \", '\\n')))  # representation\n",
    "print(string.replace(\" \", '\\n'))"
   ]
  },
  {
   "cell_type": "code",
   "execution_count": 203,
   "metadata": {},
   "outputs": [
    {
     "name": "stdout",
     "output_type": "stream",
     "text": [
      "я\n",
      "помню\n",
      "чудное\n",
      "мгновенье\n",
      "помню\n",
      "помню\n",
      "не\n",
      "помню\n"
     ]
    }
   ],
   "source": [
    "print(string.replace(\" \", '\\n'))"
   ]
  },
  {
   "cell_type": "code",
   "execution_count": 204,
   "metadata": {
    "ExecuteTime": {
     "end_time": "2019-10-14T17:54:44.782609Z",
     "start_time": "2019-10-14T17:54:44.775467Z"
    }
   },
   "outputs": [
    {
     "name": "stdout",
     "output_type": "stream",
     "text": [
      "я___помню___чудное___мгновенье___помню___помню___не___помню\n"
     ]
    }
   ],
   "source": [
    "print(string.replace(\" \", '___'))"
   ]
  },
  {
   "cell_type": "markdown",
   "metadata": {},
   "source": [
    "Строковые методы раньше были в отдельном модуле **`string`**, теперь там дополнительные средства для работы со строками"
   ]
  },
  {
   "cell_type": "code",
   "execution_count": 205,
   "metadata": {},
   "outputs": [],
   "source": [
    "import string"
   ]
  },
  {
   "cell_type": "code",
   "execution_count": 207,
   "metadata": {
    "collapsed": true
   },
   "outputs": [
    {
     "name": "stdout",
     "output_type": "stream",
     "text": [
      "Help on module string:\n",
      "\n",
      "NAME\n",
      "    string - A collection of string constants.\n",
      "\n",
      "MODULE REFERENCE\n",
      "    https://docs.python.org/3.8/library/string\n",
      "    \n",
      "    The following documentation is automatically generated from the Python\n",
      "    source files.  It may be incomplete, incorrect or include features that\n",
      "    are considered implementation detail and may vary between Python\n",
      "    implementations.  When in doubt, consult the module reference at the\n",
      "    location listed above.\n",
      "\n",
      "DESCRIPTION\n",
      "    Public module variables:\n",
      "    \n",
      "    whitespace -- a string containing all ASCII whitespace\n",
      "    ascii_lowercase -- a string containing all ASCII lowercase letters\n",
      "    ascii_uppercase -- a string containing all ASCII uppercase letters\n",
      "    ascii_letters -- a string containing all ASCII letters\n",
      "    digits -- a string containing all ASCII decimal digits\n",
      "    hexdigits -- a string containing all ASCII hexadecimal digits\n",
      "    octdigits -- a string containing all ASCII octal digits\n",
      "    punctuation -- a string containing all ASCII punctuation characters\n",
      "    printable -- a string containing all ASCII characters considered printable\n",
      "\n",
      "CLASSES\n",
      "    builtins.object\n",
      "        Formatter\n",
      "        Template\n",
      "    \n",
      "    class Formatter(builtins.object)\n",
      "     |  Methods defined here:\n",
      "     |  \n",
      "     |  check_unused_args(self, used_args, args, kwargs)\n",
      "     |  \n",
      "     |  convert_field(self, value, conversion)\n",
      "     |  \n",
      "     |  format(self, format_string, /, *args, **kwargs)\n",
      "     |  \n",
      "     |  format_field(self, value, format_spec)\n",
      "     |  \n",
      "     |  get_field(self, field_name, args, kwargs)\n",
      "     |      # given a field_name, find the object it references.\n",
      "     |      #  field_name:   the field being looked up, e.g. \"0.name\"\n",
      "     |      #                 or \"lookup[3]\"\n",
      "     |      #  used_args:    a set of which args have been used\n",
      "     |      #  args, kwargs: as passed in to vformat\n",
      "     |  \n",
      "     |  get_value(self, key, args, kwargs)\n",
      "     |  \n",
      "     |  parse(self, format_string)\n",
      "     |      # returns an iterable that contains tuples of the form:\n",
      "     |      # (literal_text, field_name, format_spec, conversion)\n",
      "     |      # literal_text can be zero length\n",
      "     |      # field_name can be None, in which case there's no\n",
      "     |      #  object to format and output\n",
      "     |      # if field_name is not None, it is looked up, formatted\n",
      "     |      #  with format_spec and conversion and then used\n",
      "     |  \n",
      "     |  vformat(self, format_string, args, kwargs)\n",
      "     |  \n",
      "     |  ----------------------------------------------------------------------\n",
      "     |  Data descriptors defined here:\n",
      "     |  \n",
      "     |  __dict__\n",
      "     |      dictionary for instance variables (if defined)\n",
      "     |  \n",
      "     |  __weakref__\n",
      "     |      list of weak references to the object (if defined)\n",
      "    \n",
      "    class Template(builtins.object)\n",
      "     |  Template(template)\n",
      "     |  \n",
      "     |  A string class for supporting $-substitutions.\n",
      "     |  \n",
      "     |  Methods defined here:\n",
      "     |  \n",
      "     |  __init__(self, template)\n",
      "     |      Initialize self.  See help(type(self)) for accurate signature.\n",
      "     |  \n",
      "     |  safe_substitute(self, mapping={}, /, **kws)\n",
      "     |  \n",
      "     |  substitute(self, mapping={}, /, **kws)\n",
      "     |  \n",
      "     |  ----------------------------------------------------------------------\n",
      "     |  Data descriptors defined here:\n",
      "     |  \n",
      "     |  __dict__\n",
      "     |      dictionary for instance variables (if defined)\n",
      "     |  \n",
      "     |  __weakref__\n",
      "     |      list of weak references to the object (if defined)\n",
      "     |  \n",
      "     |  ----------------------------------------------------------------------\n",
      "     |  Data and other attributes defined here:\n",
      "     |  \n",
      "     |  braceidpattern = None\n",
      "     |  \n",
      "     |  delimiter = '$'\n",
      "     |  \n",
      "     |  flags = re.IGNORECASE\n",
      "     |  \n",
      "     |  idpattern = '(?a:[_a-z][_a-z0-9]*)'\n",
      "     |  \n",
      "     |  pattern = re.compile('\\n    \\\\$(?:\\n      (?P<escaped>\\\\$)...ced>(?a:[...\n",
      "\n",
      "FUNCTIONS\n",
      "    capwords(s, sep=None)\n",
      "        capwords(s [,sep]) -> string\n",
      "        \n",
      "        Split the argument into words using split, capitalize each\n",
      "        word using capitalize, and join the capitalized words using\n",
      "        join.  If the optional second argument sep is absent or None,\n",
      "        runs of whitespace characters are replaced by a single space\n",
      "        and leading and trailing whitespace are removed, otherwise\n",
      "        sep is used to split and join the words.\n",
      "\n",
      "DATA\n",
      "    __all__ = ['ascii_letters', 'ascii_lowercase', 'ascii_uppercase', 'cap...\n",
      "    ascii_letters = 'abcdefghijklmnopqrstuvwxyzABCDEFGHIJKLMNOPQRSTUVWXYZ'\n",
      "    ascii_lowercase = 'abcdefghijklmnopqrstuvwxyz'\n",
      "    ascii_uppercase = 'ABCDEFGHIJKLMNOPQRSTUVWXYZ'\n",
      "    digits = '0123456789'\n",
      "    hexdigits = '0123456789abcdefABCDEF'\n",
      "    octdigits = '01234567'\n",
      "    printable = '0123456789abcdefghijklmnopqrstuvwxyzABCDEFGHIJKLMNOPQRSTU...\n",
      "    punctuation = '!\"#$%&\\'()*+,-./:;<=>?@[\\\\]^_`{|}~'\n",
      "    whitespace = ' \\t\\n\\r\\x0b\\x0c'\n",
      "\n",
      "FILE\n",
      "    /opt/homebrew/Caskroom/miniforge/base/envs/env3.8/lib/python3.8/string.py\n",
      "\n",
      "\n"
     ]
    }
   ],
   "source": [
    "help(string)"
   ]
  },
  {
   "cell_type": "code",
   "execution_count": 206,
   "metadata": {},
   "outputs": [
    {
     "name": "stdout",
     "output_type": "stream",
     "text": [
      "abcdefghijklmnopqrstuvwxyzABCDEFGHIJKLMNOPQRSTUVWXYZ\n",
      "abcdefghijklmnopqrstuvwxyz\n",
      "0123456789\n"
     ]
    },
    {
     "data": {
      "text/plain": [
       "' \\t\\n\\r\\x0b\\x0c'"
      ]
     },
     "execution_count": 206,
     "metadata": {},
     "output_type": "execute_result"
    }
   ],
   "source": [
    "print(string.ascii_letters)\n",
    "print(string.ascii_lowercase)\n",
    "print(string.digits)\n",
    "string.whitespace"
   ]
  },
  {
   "cell_type": "markdown",
   "metadata": {},
   "source": [
    "**Ситуация:** сколько в строке `text` символов, не являющихся цифрой?"
   ]
  },
  {
   "cell_type": "code",
   "execution_count": 219,
   "metadata": {},
   "outputs": [
    {
     "data": {
      "text/plain": [
       "81"
      ]
     },
     "execution_count": 219,
     "metadata": {},
     "output_type": "execute_result"
    }
   ],
   "source": [
    "text = '43ws6q273fgqr9383rgf98y13r08fyb0387gfh8qwybrvuyerc9yv3203grf38q04v-hqur39rbvfbw40-g8h=4058hgq9rugfqg0874369qrtfq0348wfehpewrigj-w8956nhn4'\n",
    "len(text) - sum(text.count(digit) for digit in string.digits)\n"
   ]
  },
  {
   "cell_type": "code",
   "execution_count": 211,
   "metadata": {},
   "outputs": [
    {
     "name": "stdout",
     "output_type": "stream",
     "text": [
      "count for 0: 8\n",
      "count for 1: 1\n",
      "count for 2: 2\n",
      "count for 3: 12\n",
      "count for 4: 7\n",
      "count for 5: 2\n",
      "count for 6: 3\n",
      "count for 7: 3\n",
      "count for 8: 11\n",
      "count for 9: 7\n"
     ]
    }
   ],
   "source": [
    "for digit in range(10):\n",
    "    print(f'count for {digit}: {text.count(str(digit))}')"
   ]
  },
  {
   "cell_type": "code",
   "execution_count": null,
   "metadata": {},
   "outputs": [],
   "source": [
    "# [exp for counter in iterable]  -- вид expression'а для list comprehention"
   ]
  },
  {
   "cell_type": "code",
   "execution_count": 210,
   "metadata": {},
   "outputs": [
    {
     "data": {
      "text/plain": [
       "[1, 2, 3]"
      ]
     },
     "execution_count": 210,
     "metadata": {},
     "output_type": "execute_result"
    }
   ],
   "source": [
    "numbers_list = [int(i) for i in numbers_list]\n",
    "numbers_list"
   ]
  },
  {
   "cell_type": "markdown",
   "metadata": {},
   "source": [
    "## Выражения форматирования строк"
   ]
  },
  {
   "cell_type": "markdown",
   "metadata": {},
   "source": [
    "[Так что же это за число такое 42?!](https://ru.wikipedia.org/wiki/Ответ_на_главный_вопрос_жизни,_вселенной_и_всего_такого)"
   ]
  },
  {
   "cell_type": "code",
   "execution_count": 220,
   "metadata": {
    "ExecuteTime": {
     "end_time": "2019-10-14T17:58:29.324118Z",
     "start_time": "2019-10-14T17:58:29.318806Z"
    }
   },
   "outputs": [],
   "source": [
    "question = '\"Главный вопрос жизни, вселенной и всего такого\"'\n",
    "answer = 42"
   ]
  },
  {
   "cell_type": "code",
   "execution_count": 221,
   "metadata": {
    "ExecuteTime": {
     "end_time": "2019-10-14T18:00:32.115582Z",
     "start_time": "2019-10-14T18:00:32.108736Z"
    },
    "scrolled": true
   },
   "outputs": [
    {
     "name": "stdout",
     "output_type": "stream",
     "text": [
      "вопрос : \"Главный вопрос жизни, вселенной и всего такого\" , ответ = 42\n"
     ]
    }
   ],
   "source": [
    "print(\"вопрос :\", question, \", ответ =\", answer)"
   ]
  },
  {
   "cell_type": "code",
   "execution_count": 222,
   "metadata": {},
   "outputs": [
    {
     "name": "stdout",
     "output_type": "stream",
     "text": [
      "Вопрос = \"Главный вопрос жизни, вселенной и всего такого\" , ответ = 42\n"
     ]
    }
   ],
   "source": [
    "print(\"Вопрос =\", \n",
    "      question, \n",
    "      \", ответ =\", \n",
    "      answer)"
   ]
  },
  {
   "cell_type": "markdown",
   "metadata": {},
   "source": [
    "Операции форматирования строк позволяют выполнять подстановку в строки\n",
    "значений различных типов за одно действие"
   ]
  },
  {
   "cell_type": "markdown",
   "metadata": {},
   "source": [
    "Операции форматирования строк могут выполняться двумя способами:\n",
    "* выражения форматирования строк\n",
    "* методы форматирования строк\n",
    "* f-strings"
   ]
  },
  {
   "cell_type": "markdown",
   "metadata": {},
   "source": [
    "### Старый способ (%)"
   ]
  },
  {
   "cell_type": "markdown",
   "metadata": {},
   "source": [
    "Этот способ очень похож на printf в C."
   ]
  },
  {
   "cell_type": "markdown",
   "metadata": {},
   "source": [
    "https://docs.python.org/3.8/library/stdtypes.html#old-string-formatting"
   ]
  },
  {
   "cell_type": "code",
   "execution_count": 223,
   "metadata": {
    "ExecuteTime": {
     "end_time": "2019-10-14T17:59:45.114099Z",
     "start_time": "2019-10-14T17:59:45.106969Z"
    }
   },
   "outputs": [
    {
     "name": "stdout",
     "output_type": "stream",
     "text": [
      "Вопрос = 42, ответ = \"Главный вопрос жизни, вселенной и всего такого\"\n"
     ]
    }
   ],
   "source": [
    "print(\"Вопрос = %s, ответ = %s\" % (answer, question))"
   ]
  },
  {
   "cell_type": "code",
   "execution_count": 224,
   "metadata": {
    "ExecuteTime": {
     "end_time": "2019-10-14T18:05:02.092550Z",
     "start_time": "2019-10-14T18:05:02.084881Z"
    }
   },
   "outputs": [
    {
     "name": "stdout",
     "output_type": "stream",
     "text": [
      "ответ = 42, на вопрос = \"Главный вопрос жизни, вселенной и всего такого\"\n"
     ]
    }
   ],
   "source": [
    "print(\"ответ = %(answer)s, на вопрос = %(question)s\" % {'question': question , 'answer': answer})"
   ]
  },
  {
   "cell_type": "markdown",
   "metadata": {},
   "source": [
    "### Уже старый новый способ (str.format)"
   ]
  },
  {
   "cell_type": "markdown",
   "metadata": {},
   "source": [
    "Метод `format` объектов строк, использует строку, относительно которой он вызывается, как шаблон и  принимает произвольное количество аргументов, представляющих значения для подстановки.\n",
    "\n",
    "Фигурные скобки внутри строки шаблона используются для обозначения замещаемых спецификаторов и  их параметров, которые могут определять порядковые номера позиционных аргументов (например, `{1}`) или имена именованных аргументов (например, `{food}`)."
   ]
  },
  {
   "cell_type": "code",
   "execution_count": 225,
   "metadata": {
    "ExecuteTime": {
     "end_time": "2019-10-14T18:07:54.700984Z",
     "start_time": "2019-10-14T18:07:54.694279Z"
    }
   },
   "outputs": [
    {
     "name": "stdout",
     "output_type": "stream",
     "text": [
      "Вопрос: \"Главный вопрос жизни, вселенной и всего такого\", ответ: 42\n"
     ]
    }
   ],
   "source": [
    "print(\"Вопрос: {}, ответ: {}\".format(question, answer))"
   ]
  },
  {
   "cell_type": "code",
   "execution_count": 226,
   "metadata": {
    "ExecuteTime": {
     "end_time": "2019-10-14T18:08:17.750986Z",
     "start_time": "2019-10-14T18:08:17.744078Z"
    }
   },
   "outputs": [
    {
     "name": "stdout",
     "output_type": "stream",
     "text": [
      "Ответ 42, на вопрос = \"Главный вопрос жизни, вселенной и всего такого\"\n"
     ]
    }
   ],
   "source": [
    "print(\"Ответ {1}, на вопрос = {0}\".format(question, answer)) # по индексу"
   ]
  },
  {
   "cell_type": "code",
   "execution_count": 227,
   "metadata": {
    "ExecuteTime": {
     "end_time": "2019-10-14T18:08:35.345829Z",
     "start_time": "2019-10-14T18:08:35.338776Z"
    }
   },
   "outputs": [
    {
     "name": "stdout",
     "output_type": "stream",
     "text": [
      "ответ: 42 на вопрос \"Главный вопрос жизни, вселенной и всего такого\"\n"
     ]
    }
   ],
   "source": [
    "print(\"ответ: {k2} на вопрос {k1}\".format(k1=question, \n",
    "                                          k2=answer))"
   ]
  },
  {
   "cell_type": "markdown",
   "metadata": {},
   "source": [
    "Почему эти способы не так хороши?"
   ]
  },
  {
   "cell_type": "code",
   "execution_count": 228,
   "metadata": {
    "ExecuteTime": {
     "end_time": "2019-10-14T18:16:57.316802Z",
     "start_time": "2019-10-14T18:16:57.311569Z"
    }
   },
   "outputs": [],
   "source": [
    "name = 'Игорь'\n",
    "surname = 'Львович'\n",
    "color = 'телесный'\n",
    "author = 'Достоевский'"
   ]
  },
  {
   "cell_type": "code",
   "execution_count": 229,
   "metadata": {
    "ExecuteTime": {
     "end_time": "2019-10-14T18:17:09.407297Z",
     "start_time": "2019-10-14T18:17:09.393876Z"
    }
   },
   "outputs": [
    {
     "name": "stdout",
     "output_type": "stream",
     "text": [
      "Привет, Игорь Львович. Твой любимый цвет - телесный. Твой любимый писатель - Достоевский.\n"
     ]
    }
   ],
   "source": [
    "print(\n",
    "    (\"Привет, {name} {surname}. \" +\n",
    "     \"Твой любимый цвет - {color}. \" +\n",
    "     \"Твой любимый писатель - {author}.\").format(name=name, surname=surname, color=color, author=author)\n",
    ")"
   ]
  },
  {
   "cell_type": "code",
   "execution_count": 232,
   "metadata": {},
   "outputs": [
    {
     "name": "stdout",
     "output_type": "stream",
     "text": [
      "Привет, Игорь Львович. \n",
      "Твой любимый цвет - телесный. \n",
      "Твой любимый писатель - Достоевский.\n"
     ]
    }
   ],
   "source": [
    "print(\"\"\"Привет, {name} {surname}. \n",
    "Твой любимый цвет - {color}. \n",
    "Твой любимый писатель - {author}.\"\"\".format(name=name, surname=surname, color=color, author=author))"
   ]
  },
  {
   "cell_type": "markdown",
   "metadata": {},
   "source": [
    "Очень громоздко как-то..."
   ]
  },
  {
   "cell_type": "markdown",
   "metadata": {},
   "source": [
    "### Новый способ (f-strings)"
   ]
  },
  {
   "cell_type": "markdown",
   "metadata": {},
   "source": [
    "Появился в питоне версии 3.6"
   ]
  },
  {
   "cell_type": "code",
   "execution_count": 233,
   "metadata": {},
   "outputs": [
    {
     "data": {
      "text/plain": [
       "('Игорь', 'Львович', 'телесный', 'Достоевский')"
      ]
     },
     "execution_count": 233,
     "metadata": {},
     "output_type": "execute_result"
    }
   ],
   "source": [
    "name, surname, color, author"
   ]
  },
  {
   "cell_type": "code",
   "execution_count": 235,
   "metadata": {
    "ExecuteTime": {
     "end_time": "2019-10-14T18:18:26.618009Z",
     "start_time": "2019-10-14T18:18:26.607308Z"
    }
   },
   "outputs": [
    {
     "name": "stdout",
     "output_type": "stream",
     "text": [
      "Привет, Игорь Львович. Твой любимый цвет - телесный. Твой любимый писатель - Достоевский.\n"
     ]
    }
   ],
   "source": [
    "print(f\"Привет, {name} {surname}. Твой любимый цвет - {color}. Твой любимый писатель - {author}.\")"
   ]
  },
  {
   "cell_type": "code",
   "execution_count": 236,
   "metadata": {
    "ExecuteTime": {
     "end_time": "2019-10-14T18:22:43.153391Z",
     "start_time": "2019-10-14T18:22:43.141856Z"
    },
    "code_folding": [
     0
    ]
   },
   "outputs": [
    {
     "name": "stdout",
     "output_type": "stream",
     "text": [
      "Привет, Игорь Львович. Твой любимый цвет - телесный. Твой любимый писатель - Достоевский.\n"
     ]
    }
   ],
   "source": [
    "# а вот так пишется мултилайн:\n",
    "print(\n",
    "    f\"Привет, {name} {surname}. \"\n",
    "    f\"Твой любимый цвет - {color}. \"\n",
    "    f\"Твой любимый писатель - {author}.\"\n",
    ")"
   ]
  },
  {
   "cell_type": "markdown",
   "metadata": {},
   "source": [
    "Выражение в `{exp}` вычисляется в момент исполнения. Поэтому можно не стесняться в выражениях:"
   ]
  },
  {
   "cell_type": "code",
   "execution_count": 237,
   "metadata": {
    "ExecuteTime": {
     "end_time": "2019-10-14T18:19:38.258085Z",
     "start_time": "2019-10-14T18:19:38.250919Z"
    }
   },
   "outputs": [
    {
     "name": "stdout",
     "output_type": "stream",
     "text": [
      "2+2=4\n"
     ]
    }
   ],
   "source": [
    "print(f\"2+2={2 ** 2}\")"
   ]
  },
  {
   "cell_type": "markdown",
   "metadata": {},
   "source": [
    "C функциями тоже работает (и с user-defined):"
   ]
  },
  {
   "cell_type": "code",
   "execution_count": 238,
   "metadata": {
    "ExecuteTime": {
     "end_time": "2019-10-14T18:21:10.029073Z",
     "start_time": "2019-10-14T18:21:10.017725Z"
    }
   },
   "outputs": [
    {
     "name": "stdout",
     "output_type": "stream",
     "text": [
      "ДОСТОЕВСКИЙ - лучший автор!\n"
     ]
    }
   ],
   "source": [
    "author = \"Достоевский\"\n",
    "\n",
    "print(f\"{author.upper()} - лучший автор!\")"
   ]
  },
  {
   "cell_type": "markdown",
   "metadata": {},
   "source": [
    "Где еще почитать про форматирование? Например, [здесь](https://pyformat.info) (но без f-строк). Для расширения ваших познаний об f-strings загляните на [хабр](https://habr.com/en/company/wunderfund/blog/674866/)"
   ]
  },
  {
   "cell_type": "markdown",
   "metadata": {},
   "source": [
    "А как это форматирование использовать?\n",
    "\n",
    "Ну, например, давайте выведем таблицу ASCII символов:"
   ]
  },
  {
   "cell_type": "code",
   "execution_count": 239,
   "metadata": {
    "collapsed": true
   },
   "outputs": [
    {
     "name": "stdout",
     "output_type": "stream",
     "text": [
      "0\t||\t0x0\t||\t\u0000\n",
      "1\t||\t0x1\t||\t\u0001\n",
      "2\t||\t0x2\t||\t\u0002\n",
      "3\t||\t0x3\t||\t\u0003\n",
      "4\t||\t0x4\t||\t\u0004\n",
      "5\t||\t0x5\t||\t\u0005\n",
      "6\t||\t0x6\t||\t\u0006\n",
      "7\t||\t0x7\t||\t\u0007\n",
      "8\t||\t0x8\t||\t\b\n",
      "9\t||\t0x9\t||\t\t\n",
      "10\t||\t0xa\t||\t\n",
      "\n",
      "11\t||\t0xb\t||\t\u000b",
      "\n",
      "12\t||\t0xc\t||\t\f",
      "\n",
      "13\t||\t0xd\t||\t\r\n",
      "14\t||\t0xe\t||\t\u000e\n",
      "15\t||\t0xf\t||\t\u000f\n",
      "16\t||\t0x10\t||\t\u0010\n",
      "17\t||\t0x11\t||\t\u0011\n",
      "18\t||\t0x12\t||\t\u0012\n",
      "19\t||\t0x13\t||\t\u0013\n",
      "20\t||\t0x14\t||\t\u0014\n",
      "21\t||\t0x15\t||\t\u0015\n",
      "22\t||\t0x16\t||\t\u0016\n",
      "23\t||\t0x17\t||\t\u0017\n",
      "24\t||\t0x18\t||\t\u0018\n",
      "25\t||\t0x19\t||\t\u0019\n",
      "26\t||\t0x1a\t||\t\u001a\n",
      "27\t||\t0x1b\t||\t\u001b\n",
      "28\t||\t0x1c\t||\t\u001c",
      "\n",
      "29\t||\t0x1d\t||\t\u001d",
      "\n",
      "30\t||\t0x1e\t||\t\u001e",
      "\n",
      "31\t||\t0x1f\t||\t\u001f\n",
      "32\t||\t0x20\t||\t \n",
      "33\t||\t0x21\t||\t!\n",
      "34\t||\t0x22\t||\t\"\n",
      "35\t||\t0x23\t||\t#\n",
      "36\t||\t0x24\t||\t$\n",
      "37\t||\t0x25\t||\t%\n",
      "38\t||\t0x26\t||\t&\n",
      "39\t||\t0x27\t||\t'\n",
      "40\t||\t0x28\t||\t(\n",
      "41\t||\t0x29\t||\t)\n",
      "42\t||\t0x2a\t||\t*\n",
      "43\t||\t0x2b\t||\t+\n",
      "44\t||\t0x2c\t||\t,\n",
      "45\t||\t0x2d\t||\t-\n",
      "46\t||\t0x2e\t||\t.\n",
      "47\t||\t0x2f\t||\t/\n",
      "48\t||\t0x30\t||\t0\n",
      "49\t||\t0x31\t||\t1\n",
      "50\t||\t0x32\t||\t2\n",
      "51\t||\t0x33\t||\t3\n",
      "52\t||\t0x34\t||\t4\n",
      "53\t||\t0x35\t||\t5\n",
      "54\t||\t0x36\t||\t6\n",
      "55\t||\t0x37\t||\t7\n",
      "56\t||\t0x38\t||\t8\n",
      "57\t||\t0x39\t||\t9\n",
      "58\t||\t0x3a\t||\t:\n",
      "59\t||\t0x3b\t||\t;\n",
      "60\t||\t0x3c\t||\t<\n",
      "61\t||\t0x3d\t||\t=\n",
      "62\t||\t0x3e\t||\t>\n",
      "63\t||\t0x3f\t||\t?\n",
      "64\t||\t0x40\t||\t@\n",
      "65\t||\t0x41\t||\tA\n",
      "66\t||\t0x42\t||\tB\n",
      "67\t||\t0x43\t||\tC\n",
      "68\t||\t0x44\t||\tD\n",
      "69\t||\t0x45\t||\tE\n",
      "70\t||\t0x46\t||\tF\n",
      "71\t||\t0x47\t||\tG\n",
      "72\t||\t0x48\t||\tH\n",
      "73\t||\t0x49\t||\tI\n",
      "74\t||\t0x4a\t||\tJ\n",
      "75\t||\t0x4b\t||\tK\n",
      "76\t||\t0x4c\t||\tL\n",
      "77\t||\t0x4d\t||\tM\n",
      "78\t||\t0x4e\t||\tN\n",
      "79\t||\t0x4f\t||\tO\n",
      "80\t||\t0x50\t||\tP\n",
      "81\t||\t0x51\t||\tQ\n",
      "82\t||\t0x52\t||\tR\n",
      "83\t||\t0x53\t||\tS\n",
      "84\t||\t0x54\t||\tT\n",
      "85\t||\t0x55\t||\tU\n",
      "86\t||\t0x56\t||\tV\n",
      "87\t||\t0x57\t||\tW\n",
      "88\t||\t0x58\t||\tX\n",
      "89\t||\t0x59\t||\tY\n",
      "90\t||\t0x5a\t||\tZ\n",
      "91\t||\t0x5b\t||\t[\n",
      "92\t||\t0x5c\t||\t\\\n",
      "93\t||\t0x5d\t||\t]\n",
      "94\t||\t0x5e\t||\t^\n",
      "95\t||\t0x5f\t||\t_\n",
      "96\t||\t0x60\t||\t`\n",
      "97\t||\t0x61\t||\ta\n",
      "98\t||\t0x62\t||\tb\n",
      "99\t||\t0x63\t||\tc\n",
      "100\t||\t0x64\t||\td\n",
      "101\t||\t0x65\t||\te\n",
      "102\t||\t0x66\t||\tf\n",
      "103\t||\t0x67\t||\tg\n",
      "104\t||\t0x68\t||\th\n",
      "105\t||\t0x69\t||\ti\n",
      "106\t||\t0x6a\t||\tj\n",
      "107\t||\t0x6b\t||\tk\n",
      "108\t||\t0x6c\t||\tl\n",
      "109\t||\t0x6d\t||\tm\n",
      "110\t||\t0x6e\t||\tn\n",
      "111\t||\t0x6f\t||\to\n",
      "112\t||\t0x70\t||\tp\n",
      "113\t||\t0x71\t||\tq\n",
      "114\t||\t0x72\t||\tr\n",
      "115\t||\t0x73\t||\ts\n",
      "116\t||\t0x74\t||\tt\n",
      "117\t||\t0x75\t||\tu\n",
      "118\t||\t0x76\t||\tv\n",
      "119\t||\t0x77\t||\tw\n",
      "120\t||\t0x78\t||\tx\n",
      "121\t||\t0x79\t||\ty\n",
      "122\t||\t0x7a\t||\tz\n",
      "123\t||\t0x7b\t||\t{\n",
      "124\t||\t0x7c\t||\t|\n",
      "125\t||\t0x7d\t||\t}\n",
      "126\t||\t0x7e\t||\t~\n",
      "127\t||\t0x7f\t||\t\n"
     ]
    }
   ],
   "source": [
    "for char_index in range(128):\n",
    "    print(f'{char_index}\\t||\\t{hex(char_index)}\\t||\\t{chr(char_index)}')"
   ]
  },
  {
   "cell_type": "markdown",
   "metadata": {},
   "source": [
    "## Повторение перед следующим занятием\n",
    "\n",
    "### Общие категории типов"
   ]
  },
  {
   "cell_type": "markdown",
   "metadata": {},
   "source": [
    "Операции над встроенными типами работают одинаково в  случае применения их к  типам одной категории, поэтому нам необходимо лишь определить эти категории"
   ]
  },
  {
   "cell_type": "markdown",
   "metadata": {},
   "source": [
    "### Типы одной категории имеют общий набор операций"
   ]
  },
  {
   "cell_type": "markdown",
   "metadata": {},
   "source": [
    "Формально в языке Python существует **три категории типов (и операций)**:\n",
    "\n",
    "* **Числа** (целые, вещественные, комплексные)\n",
    "\n",
    "Поддерживают операции сложения, умножения и так далее\n",
    "\n",
    "* **Последовательности** (строки, списки, кортежи)\n",
    "\n",
    "Поддерживают операции индексации, получения среза, конкатенации и так далее.\n",
    "\n",
    "* **Отображения (словари)**\n",
    "\n",
    "Поддерживают операцию индексации по ключу и так далее.\n",
    "\n",
    "* **Множества** образуют отдельную категорию типов (они не отображают ключи в значения и не являются упорядоченными последовательностями)"
   ]
  },
  {
   "cell_type": "markdown",
   "metadata": {},
   "source": [
    "### Изменяемые типы допускают непосредственное изменение"
   ]
  },
  {
   "cell_type": "markdown",
   "metadata": {},
   "source": [
    "Основные базовые типы данных в языке Python делятся на следующие категории:\n",
    "\n",
    "* **Неизменяемые (числа, строки, кортежи, фиксированные множества)**\n",
    "\n",
    "Объекты неизменяемых типов не поддерживают возможность непосредственного изменения значения объекта, однако вы всегда сможете создавать новые объекты с  помощью выражений и  присваивать их требуемым переменным.\n",
    "\n",
    "* **Изменяемые (списки, словари, множества)**\n",
    "\n",
    "Объекты изменяемых типов, наоборот, всегда могут изменяться непосредственно, с  помощью операций, которые не создают новые объекты. Изменяемые объекты могут быть скопированы, но они поддерживают и возможность непосредственного изменения."
   ]
  }
 ],
 "metadata": {
  "kernelspec": {
   "display_name": "Python 3 (ipykernel)",
   "language": "python",
   "name": "python3"
  },
  "language_info": {
   "codemirror_mode": {
    "name": "ipython",
    "version": 3
   },
   "file_extension": ".py",
   "mimetype": "text/x-python",
   "name": "python",
   "nbconvert_exporter": "python",
   "pygments_lexer": "ipython3",
   "version": "3.8.12"
  }
 },
 "nbformat": 4,
 "nbformat_minor": 2
}
