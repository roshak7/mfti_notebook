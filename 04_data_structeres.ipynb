{
 "cells": [
  {
   "cell_type": "code",
   "execution_count": null,
   "metadata": {},
   "outputs": [],
   "source": [
    "1\n",
    "2\n",
    "3"
   ]
  },
  {
   "cell_type": "code",
   "execution_count": 10,
   "metadata": {
    "id": "kn54LwGJ0YqA"
   },
   "outputs": [],
   "source": [
    "# doesn't work in colab\n",
    "from IPython.core.interactiveshell import InteractiveShell\n",
    "InteractiveShell.ast_node_interactivity = \"all\""
   ]
  },
  {
   "cell_type": "code",
   "execution_count": null,
   "metadata": {},
   "outputs": [],
   "source": [
    "1\n",
    "2\n",
    "3"
   ]
  },
  {
   "cell_type": "markdown",
   "metadata": {
    "id": "nZJ2Lkz4nWL2"
   },
   "source": [
    "## list comprehensions\n"
   ]
  },
  {
   "cell_type": "markdown",
   "metadata": {
    "id": "Plzt89QBnWL2"
   },
   "source": [
    "### В питоне есть очень удобная штука под названием list comprehension, выглядит она вот так:"
   ]
  },
  {
   "cell_type": "code",
   "execution_count": null,
   "metadata": {},
   "outputs": [],
   "source": [
    "lst = []\n",
    "for elem in range(4, 16, 2):\n",
    "    lst.append(elem)\n",
    "    \n",
    "lst"
   ]
  },
  {
   "cell_type": "code",
   "execution_count": null,
   "metadata": {},
   "outputs": [],
   "source": [
    "lst = list(range(4, 16, 2))\n",
    "lst"
   ]
  },
  {
   "cell_type": "code",
   "execution_count": null,
   "metadata": {},
   "outputs": [],
   "source": [
    "lst = [x for x in range(4, 16, 2)]\n",
    "lst"
   ]
  },
  {
   "cell_type": "markdown",
   "metadata": {},
   "source": [
    "Общий синтаксис: `[expression for counter in iterable]`"
   ]
  },
  {
   "cell_type": "code",
   "execution_count": null,
   "metadata": {},
   "outputs": [],
   "source": [
    "[0 for x in range(10)]"
   ]
  },
  {
   "cell_type": "code",
   "execution_count": null,
   "metadata": {},
   "outputs": [],
   "source": [
    "# если значения счетчика не важны, то используют _\n",
    "[1 + 2 + 4 for _ in range(10)]  "
   ]
  },
  {
   "cell_type": "code",
   "execution_count": null,
   "metadata": {},
   "outputs": [],
   "source": [
    "[x ** 2 for x in range(10)]"
   ]
  },
  {
   "cell_type": "code",
   "execution_count": null,
   "metadata": {},
   "outputs": [],
   "source": [
    "[x ** 2 for x in range(10) if x%2 == 0]"
   ]
  },
  {
   "cell_type": "code",
   "execution_count": null,
   "metadata": {},
   "outputs": [],
   "source": [
    "[x ** 2 for x in range(10) if not x % 2]"
   ]
  },
  {
   "cell_type": "code",
   "execution_count": null,
   "metadata": {},
   "outputs": [],
   "source": [
    "# хочу пропустить все, что делится на 3\n",
    "[x ** 2 for x in range(10) if x % 3]"
   ]
  },
  {
   "cell_type": "code",
   "execution_count": null,
   "metadata": {},
   "outputs": [],
   "source": [
    "[x ** 2 for x in range(10) if not x % 3]"
   ]
  },
  {
   "cell_type": "code",
   "execution_count": null,
   "metadata": {
    "colab": {
     "base_uri": "https://localhost:8080/"
    },
    "id": "nAFtdlaJnWL2",
    "outputId": "6da4ca6f-36a9-4a28-f41d-17cebec6466d"
   },
   "outputs": [],
   "source": [
    "lst = [x ** 2 for x in range(10) if x%2 == 0]\n",
    "\n",
    "print(lst)\n",
    "print()\n",
    "print(*lst, sep='-')  # print(lst[0], lst[1], lst[2], ...)\n",
    "print()\n",
    "print(type(lst))"
   ]
  },
  {
   "cell_type": "code",
   "execution_count": null,
   "metadata": {},
   "outputs": [],
   "source": [
    "for x in lst:\n",
    "    print(x, end='---')"
   ]
  },
  {
   "cell_type": "code",
   "execution_count": null,
   "metadata": {},
   "outputs": [],
   "source": [
    "print(*lst, sep='')"
   ]
  },
  {
   "cell_type": "code",
   "execution_count": null,
   "metadata": {},
   "outputs": [],
   "source": [
    "number = 42\n",
    "A = [[number] * 3] * 3\n",
    "print(A)"
   ]
  },
  {
   "cell_type": "code",
   "execution_count": null,
   "metadata": {},
   "outputs": [],
   "source": [
    "number = 42\n",
    "A = [[number] * 3] * 3\n",
    "print(*A, sep=' ')"
   ]
  },
  {
   "cell_type": "code",
   "execution_count": null,
   "metadata": {},
   "outputs": [],
   "source": [
    "number = 42\n",
    "A = [[number] * 3] * 3\n",
    "print(*A, sep='\\n')"
   ]
  },
  {
   "cell_type": "code",
   "execution_count": null,
   "metadata": {},
   "outputs": [],
   "source": [
    "A[1][2]"
   ]
  },
  {
   "cell_type": "code",
   "execution_count": null,
   "metadata": {
    "colab": {
     "base_uri": "https://localhost:8080/"
    },
    "id": "o2T37L4inWL2",
    "outputId": "51c1efe2-a5eb-4313-e10a-0d76a602ee9c"
   },
   "outputs": [],
   "source": [
    "# По некоторым причинам, вместо:\n",
    "A = [[0] * 3] * 3\n",
    "print(*A, sep='\\n')\n",
    "print()\n",
    "# Лучше использовать:\n",
    "B = [[0] * 3 for _ in range(3)]\n",
    "print(*B, sep='\\n')"
   ]
  },
  {
   "cell_type": "code",
   "execution_count": null,
   "metadata": {},
   "outputs": [],
   "source": [
    "A = [[0] * 3] * 3\n",
    "A"
   ]
  },
  {
   "cell_type": "code",
   "execution_count": null,
   "metadata": {},
   "outputs": [],
   "source": [
    "A[0][1] = 42\n",
    "A"
   ]
  },
  {
   "cell_type": "code",
   "execution_count": null,
   "metadata": {},
   "outputs": [],
   "source": [
    "x = [10, 10]\n",
    "y = x[:]\n",
    "y"
   ]
  },
  {
   "cell_type": "code",
   "execution_count": null,
   "metadata": {},
   "outputs": [],
   "source": [
    "x[1] = 42\n",
    "y"
   ]
  },
  {
   "cell_type": "code",
   "execution_count": null,
   "metadata": {
    "scrolled": true
   },
   "outputs": [],
   "source": [
    "list(map(int, input().split()))"
   ]
  },
  {
   "cell_type": "code",
   "execution_count": null,
   "metadata": {},
   "outputs": [],
   "source": [
    "input().split()"
   ]
  },
  {
   "cell_type": "markdown",
   "metadata": {},
   "source": [
    "5 3\n",
    "1 1 1\n",
    "2 2 2\n",
    "3 3 3\n",
    "4 4 4\n",
    "5 5 5"
   ]
  },
  {
   "cell_type": "code",
   "execution_count": null,
   "metadata": {},
   "outputs": [],
   "source": [
    "print(*A, sep='\\n')"
   ]
  },
  {
   "cell_type": "code",
   "execution_count": null,
   "metadata": {},
   "outputs": [],
   "source": [
    "n, m = map(int, input().split())\n",
    "A = [list(map(int, input().split())) for x in range(n)]"
   ]
  },
  {
   "cell_type": "code",
   "execution_count": null,
   "metadata": {},
   "outputs": [],
   "source": [
    "n = int(input())\n",
    "[int(input()) for _ in range(n)]"
   ]
  },
  {
   "cell_type": "markdown",
   "metadata": {
    "id": "FNUYg6CynWPJ"
   },
   "source": [
    "## Словари и множества\n"
   ]
  },
  {
   "cell_type": "markdown",
   "metadata": {
    "id": "bcNY10v_nWPK"
   },
   "source": [
    "### Создание и удаление\n",
    "\n",
    "\n",
    "- **Note**: При создании двух mutable-объектов отдельно - они будут гарантированно разными. Для immutable объектов это верно не всегда.\n",
    "- Об удалении объектов заботиться не нужно, за вас всё сделает интерпретатор"
   ]
  },
  {
   "cell_type": "code",
   "execution_count": null,
   "metadata": {
    "id": "ATOVrtYdUisw"
   },
   "outputs": [],
   "source": [
    "lst1 = list()\n",
    "lst2 = list()\n",
    "id(lst1), id(lst2)"
   ]
  },
  {
   "cell_type": "code",
   "execution_count": null,
   "metadata": {},
   "outputs": [],
   "source": [
    "var1 = 1000\n",
    "var2 = 1000\n",
    "var1 is var2  # id(var1) == id(var2)"
   ]
  },
  {
   "cell_type": "code",
   "execution_count": null,
   "metadata": {
    "id": "jxqHbNxiVc2l"
   },
   "outputs": [],
   "source": [
    "lst_id = list()\n",
    "\n",
    "for i in range(-7, 260):\n",
    "    for j in range(-7, 260):\n",
    "        if id(i) == id(j):\n",
    "            lst_id.append(i)\n",
    "\n",
    "print(lst_id)"
   ]
  },
  {
   "cell_type": "code",
   "execution_count": null,
   "metadata": {},
   "outputs": [],
   "source": [
    "for i in range(3):\n",
    "    for j in range(3):\n",
    "        print(i * j)"
   ]
  },
  {
   "cell_type": "code",
   "execution_count": null,
   "metadata": {
    "id": "_x8Excp1UuOf"
   },
   "outputs": [],
   "source": [
    "x = 'asd'\n",
    "y = 'asd'\n",
    "id(x), id(y)"
   ]
  },
  {
   "cell_type": "markdown",
   "metadata": {},
   "source": [
    "Неизменяемые объекты не всегда одинаковые:"
   ]
  },
  {
   "cell_type": "code",
   "execution_count": null,
   "metadata": {},
   "outputs": [],
   "source": [
    "t1 = tuple()\n",
    "t2 = tuple()\n",
    "t1 is t2"
   ]
  },
  {
   "cell_type": "code",
   "execution_count": null,
   "metadata": {},
   "outputs": [],
   "source": [
    "t1 = tuple([0, 1, 2])\n",
    "t2 = tuple(range(3))\n",
    "t1 is t2"
   ]
  },
  {
   "cell_type": "code",
   "execution_count": null,
   "metadata": {},
   "outputs": [],
   "source": [
    "x = [1, 2, 3]\n",
    "y = (x, 42, 84)\n",
    "print(y)\n",
    "x.append(4)\n",
    "print(y)"
   ]
  },
  {
   "cell_type": "code",
   "execution_count": null,
   "metadata": {},
   "outputs": [],
   "source": [
    "x, y = [1, 2, 3, 4], [-1, -2, -3, -4]\n",
    "list(map(lambda x, y: x ** y, x, y))"
   ]
  },
  {
   "cell_type": "markdown",
   "metadata": {
    "id": "IoLgVvmgnWPL"
   },
   "source": [
    "## Словари\n",
    "\n",
    "[Документация](https://docs.python.org/3/library/stdtypes.html#mapping-types-dict)\n",
    "\n",
    "Универсальное средство для выражения связей между объектами, подсчёта, группировки.\n",
    "Их иногда ещё называют **ассоциативными массивами или хеш-таблицами**."
   ]
  },
  {
   "cell_type": "markdown",
   "metadata": {
    "id": "q_4qKuEk0YqD"
   },
   "source": [
    "Способы создания словарей:"
   ]
  },
  {
   "cell_type": "code",
   "execution_count": null,
   "metadata": {},
   "outputs": [],
   "source": [
    "obj --> integer  # O(1)  # big-O notation  # нотация О-большое"
   ]
  },
  {
   "cell_type": "code",
   "execution_count": null,
   "metadata": {},
   "outputs": [],
   "source": [
    "# как мы уже использовали отображения?\n",
    "# a = 1\n",
    "# b = 2\n",
    "# c = 3"
   ]
  },
  {
   "cell_type": "code",
   "execution_count": 78,
   "metadata": {
    "id": "Vb1WjiM1VYdH"
   },
   "outputs": [
    {
     "data": {
      "text/plain": [
       "{}"
      ]
     },
     "execution_count": 78,
     "metadata": {},
     "output_type": "execute_result"
    }
   ],
   "source": [
    "dict()"
   ]
  },
  {
   "cell_type": "code",
   "execution_count": 79,
   "metadata": {
    "colab": {
     "base_uri": "https://localhost:8080/"
    },
    "id": "vLECXbZqWc4f",
    "outputId": "1a6d6318-b349-44fa-9278-e1b31702e586"
   },
   "outputs": [
    {
     "data": {
      "text/plain": [
       "{}"
      ]
     },
     "execution_count": 79,
     "metadata": {},
     "output_type": "execute_result"
    }
   ],
   "source": [
    "{}"
   ]
  },
  {
   "cell_type": "code",
   "execution_count": 80,
   "metadata": {
    "colab": {
     "base_uri": "https://localhost:8080/"
    },
    "id": "XZI48Pzsfj8f",
    "outputId": "4cc34115-efa0-47aa-c5f1-ec84e5772f64"
   },
   "outputs": [
    {
     "data": {
      "text/plain": [
       "(dict, dict)"
      ]
     },
     "execution_count": 80,
     "metadata": {},
     "output_type": "execute_result"
    }
   ],
   "source": [
    "empty_dict1 = dict()\n",
    "empty_dict2 = {}\n",
    "type(empty_dict1), type(empty_dict2)"
   ]
  },
  {
   "cell_type": "code",
   "execution_count": 81,
   "metadata": {
    "colab": {
     "base_uri": "https://localhost:8080/"
    },
    "id": "LnO64uqOWlzE",
    "outputId": "7bff0319-f736-4c5e-9264-eee03a362dab"
   },
   "outputs": [
    {
     "data": {
      "text/plain": [
       "(4418924672, 4418434624)"
      ]
     },
     "execution_count": 81,
     "metadata": {},
     "output_type": "execute_result"
    }
   ],
   "source": [
    "id(empty_dict1), id(empty_dict2)"
   ]
  },
  {
   "cell_type": "code",
   "execution_count": 84,
   "metadata": {
    "colab": {
     "base_uri": "https://localhost:8080/"
    },
    "id": "doudjDjinWPL",
    "outputId": "da3f21b6-e71e-4344-e495-89d4a06a70b6"
   },
   "outputs": [
    {
     "data": {
      "text/plain": [
       "{'Key1': 'Value1', 'Key2': 'Value2'}"
      ]
     },
     "execution_count": 84,
     "metadata": {},
     "output_type": "execute_result"
    }
   ],
   "source": [
    "a = {'Key1': 'Value1', 'Key2': 'Value2'}\n",
    "a"
   ]
  },
  {
   "cell_type": "code",
   "execution_count": 85,
   "metadata": {
    "colab": {
     "base_uri": "https://localhost:8080/"
    },
    "id": "FaxVAsZyXGMd",
    "outputId": "933d4849-f378-4e10-de33-cc32581fcea8"
   },
   "outputs": [
    {
     "data": {
      "text/plain": [
       "dict"
      ]
     },
     "execution_count": 85,
     "metadata": {},
     "output_type": "execute_result"
    }
   ],
   "source": [
    "type(a)"
   ]
  },
  {
   "cell_type": "code",
   "execution_count": 86,
   "metadata": {
    "colab": {
     "base_uri": "https://localhost:8080/"
    },
    "id": "G1ZQi8g8nWPL",
    "outputId": "6e9f7792-bb03-4e2f-a0c9-29480eee5394"
   },
   "outputs": [
    {
     "data": {
      "text/plain": [
       "{1: '1', 2: '4', '3': 9}"
      ]
     },
     "execution_count": 86,
     "metadata": {},
     "output_type": "execute_result"
    }
   ],
   "source": [
    "# все, что имеет структуру ((k1, v1), (k2, v2), ...)\n",
    "b = dict([(1, '1'), (2, '4'), ('3', 9)])  \n",
    "b"
   ]
  },
  {
   "cell_type": "markdown",
   "metadata": {},
   "source": [
    "Чтобы получить элемент, надо обратиться по ключу:"
   ]
  },
  {
   "cell_type": "code",
   "execution_count": 87,
   "metadata": {},
   "outputs": [
    {
     "data": {
      "text/plain": [
       "9"
      ]
     },
     "execution_count": 87,
     "metadata": {},
     "output_type": "execute_result"
    }
   ],
   "source": [
    "b['3']"
   ]
  },
  {
   "cell_type": "markdown",
   "metadata": {},
   "source": [
    "А что вернется здесь?"
   ]
  },
  {
   "cell_type": "code",
   "execution_count": 88,
   "metadata": {},
   "outputs": [
    {
     "ename": "KeyError",
     "evalue": "0",
     "output_type": "error",
     "traceback": [
      "\u001b[0;31m---------------------------------------------------------------------------\u001b[0m",
      "\u001b[0;31mKeyError\u001b[0m                                  Traceback (most recent call last)",
      "\u001b[0;32m/var/folders/v8/2cskhqjj0_g0zp3824glf1tm0000gn/T/ipykernel_20764/172979841.py\u001b[0m in \u001b[0;36m<module>\u001b[0;34m\u001b[0m\n\u001b[0;32m----> 1\u001b[0;31m \u001b[0mb\u001b[0m\u001b[0;34m[\u001b[0m\u001b[0;36m0\u001b[0m\u001b[0;34m]\u001b[0m\u001b[0;34m\u001b[0m\u001b[0;34m\u001b[0m\u001b[0m\n\u001b[0m",
      "\u001b[0;31mKeyError\u001b[0m: 0"
     ]
    }
   ],
   "source": [
    "b[0]"
   ]
  },
  {
   "cell_type": "code",
   "execution_count": 89,
   "metadata": {
    "colab": {
     "base_uri": "https://localhost:8080/"
    },
    "id": "KJspJyY6Lhho",
    "outputId": "8e2bcb80-b80f-40da-9676-da53498b0aac"
   },
   "outputs": [
    {
     "data": {
      "text/plain": [
       "{'111': [1, 2], '222': [3, 4], '333': [5, 6]}"
      ]
     },
     "execution_count": 89,
     "metadata": {},
     "output_type": "execute_result"
    }
   ],
   "source": [
    "b = dict([('111', [1, 2]), ('222', [3, 4]), ('333', [5, 6])])\n",
    "b"
   ]
  },
  {
   "cell_type": "code",
   "execution_count": 90,
   "metadata": {},
   "outputs": [
    {
     "data": {
      "text/plain": [
       "[5, 6]"
      ]
     },
     "execution_count": 90,
     "metadata": {},
     "output_type": "execute_result"
    }
   ],
   "source": [
    "b['333']"
   ]
  },
  {
   "cell_type": "code",
   "execution_count": 96,
   "metadata": {},
   "outputs": [
    {
     "data": {
      "text/plain": [
       "[5, 6, 42, 42, 42, 42]"
      ]
     },
     "execution_count": 96,
     "metadata": {},
     "output_type": "execute_result"
    }
   ],
   "source": [
    "b['333'].append(42)\n",
    "b['333']"
   ]
  },
  {
   "cell_type": "markdown",
   "metadata": {
    "id": "IXd7PQypnWPM"
   },
   "source": [
    "**Ключом словаря может быть любой hashable-объект. (mutable == not hashable)**\n",
    "\n",
    "Определение hashable из документации Python: https://docs.python.org/3.8/glossary.html#term-hashable \n",
    "\n",
    "Если коротко, то у объекта должен быть правильно определен метод `__hash__()`"
   ]
  },
  {
   "cell_type": "code",
   "execution_count": 97,
   "metadata": {
    "colab": {
     "base_uri": "https://localhost:8080/"
    },
    "id": "ik3nvJ5iL0_Z",
    "outputId": "3fd2735b-08f5-49bc-afd1-41bfd3de15f2"
   },
   "outputs": [
    {
     "name": "stdout",
     "output_type": "stream",
     "text": [
      "None\n"
     ]
    }
   ],
   "source": [
    "print(list().__hash__)"
   ]
  },
  {
   "cell_type": "code",
   "execution_count": 3,
   "metadata": {
    "colab": {
     "base_uri": "https://localhost:8080/"
    },
    "id": "8917ssDdX3rH",
    "outputId": "0612e92b-9964-4ff2-f33f-ea33416fb325",
    "scrolled": true
   },
   "outputs": [
    {
     "name": "stdout",
     "output_type": "stream",
     "text": [
      "<method-wrapper '__hash__' of tuple object at 0x1012dc040>\n"
     ]
    }
   ],
   "source": [
    "method = tuple().__hash__\n",
    "\n",
    "print(method)"
   ]
  },
  {
   "cell_type": "code",
   "execution_count": 4,
   "metadata": {},
   "outputs": [
    {
     "data": {
      "text/plain": [
       "4314742848"
      ]
     },
     "execution_count": 4,
     "metadata": {},
     "output_type": "execute_result"
    }
   ],
   "source": [
    "int('0x1012dc040', base=16)"
   ]
  },
  {
   "cell_type": "code",
   "execution_count": 5,
   "metadata": {},
   "outputs": [
    {
     "data": {
      "text/plain": [
       "4314742848"
      ]
     },
     "execution_count": 5,
     "metadata": {},
     "output_type": "execute_result"
    }
   ],
   "source": [
    "id(tuple())"
   ]
  },
  {
   "cell_type": "code",
   "execution_count": null,
   "metadata": {},
   "outputs": [],
   "source": [
    "diction = ['Таня': 42, 'Владимир': 123]"
   ]
  },
  {
   "cell_type": "markdown",
   "metadata": {
    "id": "4EWWvIShnWPN"
   },
   "source": [
    " - хэш от инта - само значение инта\n",
    " - все неизменяемые встроенные объекты являются хешируемыми\n",
    " - изменяемые - не хешируются\n",
    " \n",
    "\n",
    "**На будущее:** Объекты, являющиеся экземплярами пользовательских классов (которые мы будем создавать сами), по умолчанию хэшируются. Все они сравниваются неодинаково (за исключением самих себя), и их хэш-значение является производным от их `id()`."
   ]
  },
  {
   "cell_type": "code",
   "execution_count": 6,
   "metadata": {},
   "outputs": [
    {
     "data": {
      "text/plain": [
       "42"
      ]
     },
     "execution_count": 6,
     "metadata": {},
     "output_type": "execute_result"
    }
   ],
   "source": [
    "hash(42)  # 42.__hash__()"
   ]
  },
  {
   "cell_type": "code",
   "execution_count": 7,
   "metadata": {},
   "outputs": [
    {
     "data": {
      "text/plain": [
       "1"
      ]
     },
     "execution_count": 7,
     "metadata": {},
     "output_type": "execute_result"
    }
   ],
   "source": [
    "hash(True)"
   ]
  },
  {
   "cell_type": "code",
   "execution_count": 8,
   "metadata": {},
   "outputs": [
    {
     "data": {
      "text/plain": [
       "0"
      ]
     },
     "execution_count": 8,
     "metadata": {},
     "output_type": "execute_result"
    }
   ],
   "source": [
    "hash(False)"
   ]
  },
  {
   "cell_type": "markdown",
   "metadata": {},
   "source": [
    "[PEP456](https://peps.python.org/pep-0456/)"
   ]
  },
  {
   "cell_type": "code",
   "execution_count": 11,
   "metadata": {},
   "outputs": [
    {
     "data": {
      "text/plain": [
       "6538929036022289769"
      ]
     },
     "execution_count": 11,
     "metadata": {},
     "output_type": "execute_result"
    },
    {
     "data": {
      "text/plain": [
       "6712884949512136498"
      ]
     },
     "execution_count": 11,
     "metadata": {},
     "output_type": "execute_result"
    },
    {
     "data": {
      "text/plain": [
       "8766314432066707489"
      ]
     },
     "execution_count": 11,
     "metadata": {},
     "output_type": "execute_result"
    }
   ],
   "source": [
    "hash('sdfghjk')\n",
    "hash('abc')\n",
    "hash('abb')"
   ]
  },
  {
   "cell_type": "markdown",
   "metadata": {
    "id": "XEpPV8VanWPR"
   },
   "source": [
    "**Note:** после перезапуска интерпретатора у сложных объектов (например, строк) будет уже другое значение хэш-функции"
   ]
  },
  {
   "cell_type": "markdown",
   "metadata": {
    "id": "vVo4Isv5nWPR"
   },
   "source": [
    "list в Python не является хэшируемым объектом"
   ]
  },
  {
   "cell_type": "code",
   "execution_count": 12,
   "metadata": {
    "colab": {
     "base_uri": "https://localhost:8080/"
    },
    "id": "MFLHxodFnWPR",
    "outputId": "68e9a153-3a1b-44fb-f537-78aada658641"
   },
   "outputs": [
    {
     "data": {
      "text/plain": [
       "True"
      ]
     },
     "execution_count": 12,
     "metadata": {},
     "output_type": "execute_result"
    }
   ],
   "source": [
    "[1].__hash__ is None  # метод __hash__ не определен для списка"
   ]
  },
  {
   "cell_type": "code",
   "execution_count": 13,
   "metadata": {
    "colab": {
     "base_uri": "https://localhost:8080/"
    },
    "id": "7Z9Z2A2vhNk2",
    "outputId": "6caa3d83-2333-4b65-c708-3f7097946041"
   },
   "outputs": [
    {
     "data": {
      "text/plain": [
       "True"
      ]
     },
     "execution_count": 13,
     "metadata": {},
     "output_type": "execute_result"
    }
   ],
   "source": [
    "(1,).__hash__ is not None"
   ]
  },
  {
   "cell_type": "code",
   "execution_count": 14,
   "metadata": {},
   "outputs": [
    {
     "ename": "TypeError",
     "evalue": "unhashable type: 'list'",
     "output_type": "error",
     "traceback": [
      "\u001b[0;31m---------------------------------------------------------------------------\u001b[0m",
      "\u001b[0;31mTypeError\u001b[0m                                 Traceback (most recent call last)",
      "\u001b[0;32m/var/folders/v8/2cskhqjj0_g0zp3824glf1tm0000gn/T/ipykernel_20904/3674206356.py\u001b[0m in \u001b[0;36m<module>\u001b[0;34m\u001b[0m\n\u001b[0;32m----> 1\u001b[0;31m \u001b[0mhash\u001b[0m\u001b[0;34m(\u001b[0m\u001b[0;34m(\u001b[0m\u001b[0;34m[\u001b[0m\u001b[0;36m1\u001b[0m\u001b[0;34m,\u001b[0m \u001b[0;36m2\u001b[0m\u001b[0;34m,\u001b[0m \u001b[0;36m3\u001b[0m\u001b[0;34m]\u001b[0m\u001b[0;34m,\u001b[0m \u001b[0;34m'asd'\u001b[0m\u001b[0;34m,\u001b[0m \u001b[0;34m'123'\u001b[0m\u001b[0;34m)\u001b[0m\u001b[0;34m)\u001b[0m\u001b[0;34m\u001b[0m\u001b[0;34m\u001b[0m\u001b[0m\n\u001b[0m",
      "\u001b[0;31mTypeError\u001b[0m: unhashable type: 'list'"
     ]
    }
   ],
   "source": [
    "hash(([1, 2, 3], 'asd', '123'))"
   ]
  },
  {
   "cell_type": "code",
   "execution_count": 15,
   "metadata": {
    "colab": {
     "base_uri": "https://localhost:8080/"
    },
    "id": "zm-1O0dM6oG4",
    "outputId": "2a9f3752-4e44-4c09-861f-25cc392f0e53"
   },
   "outputs": [
    {
     "data": {
      "text/plain": [
       "(4313425440, 1)"
      ]
     },
     "execution_count": 15,
     "metadata": {},
     "output_type": "execute_result"
    }
   ],
   "source": [
    "id(1), hash(1)"
   ]
  },
  {
   "cell_type": "markdown",
   "metadata": {
    "id": "9B_exuWMnWPS"
   },
   "source": [
    "**Вопрос:** можно ли использовать словарь в качестве ключа словаря?"
   ]
  },
  {
   "cell_type": "code",
   "execution_count": 16,
   "metadata": {
    "colab": {
     "base_uri": "https://localhost:8080/",
     "height": 187
    },
    "id": "xHv1za4CnWPS",
    "outputId": "fac549dd-3939-4a20-a9e5-49dd304b78a4"
   },
   "outputs": [
    {
     "ename": "TypeError",
     "evalue": "unhashable type: 'dict'",
     "output_type": "error",
     "traceback": [
      "\u001b[0;31m---------------------------------------------------------------------------\u001b[0m",
      "\u001b[0;31mTypeError\u001b[0m                                 Traceback (most recent call last)",
      "\u001b[0;32m/var/folders/v8/2cskhqjj0_g0zp3824glf1tm0000gn/T/ipykernel_20904/2140824527.py\u001b[0m in \u001b[0;36m<module>\u001b[0;34m\u001b[0m\n\u001b[1;32m      1\u001b[0m \u001b[0md1\u001b[0m \u001b[0;34m=\u001b[0m \u001b[0;34m{\u001b[0m\u001b[0;36m1\u001b[0m\u001b[0;34m:\u001b[0m \u001b[0;34m'b'\u001b[0m\u001b[0;34m}\u001b[0m\u001b[0;34m\u001b[0m\u001b[0;34m\u001b[0m\u001b[0m\n\u001b[0;32m----> 2\u001b[0;31m \u001b[0md2\u001b[0m \u001b[0;34m=\u001b[0m \u001b[0;34m{\u001b[0m\u001b[0md1\u001b[0m\u001b[0;34m:\u001b[0m \u001b[0;34m'abc'\u001b[0m\u001b[0;34m}\u001b[0m\u001b[0;34m\u001b[0m\u001b[0;34m\u001b[0m\u001b[0m\n\u001b[0m",
      "\u001b[0;31mTypeError\u001b[0m: unhashable type: 'dict'"
     ]
    }
   ],
   "source": [
    "d1 = {1: 'b'}\n",
    "d2 = {d1: 'abc'}"
   ]
  },
  {
   "cell_type": "markdown",
   "metadata": {},
   "source": [
    "Ответ: "
   ]
  },
  {
   "cell_type": "markdown",
   "metadata": {
    "id": "ngIkFxCpnWPT"
   },
   "source": [
    "По словарю можно итерироваться, причем как по ключам, так и по значениям"
   ]
  },
  {
   "cell_type": "code",
   "execution_count": 27,
   "metadata": {
    "colab": {
     "base_uri": "https://localhost:8080/"
    },
    "id": "rN1y9LEZaSx3",
    "outputId": "a247fb8d-4744-4640-cc0c-1baeb48fd5cd"
   },
   "outputs": [
    {
     "name": "stdout",
     "output_type": "stream",
     "text": [
      "Иван\n",
      "123\n",
      "Игорь\n",
      "456\n",
      "Катя\n",
      "789\n"
     ]
    }
   ],
   "source": [
    "dictionary = {'Иван': 123, 'Игорь': 456, 'Катя': 789}\n",
    "\n",
    "for k in dictionary:  \n",
    "    print(k)\n",
    "#     print(dictionary[k])"
   ]
  },
  {
   "cell_type": "markdown",
   "metadata": {},
   "source": [
    "Такая же итерация по ключам, но Zen of Python говорит нам, что явное лучше, чем неявное, поэтому лучше явно вызвать метод `.keys()`, чтобы улучшить читабельность кода. Слишком читабельный код еще никогда никому не мешал."
   ]
  },
  {
   "cell_type": "code",
   "execution_count": 20,
   "metadata": {
    "colab": {
     "base_uri": "https://localhost:8080/"
    },
    "id": "-8sEHvqPnWPT",
    "outputId": "b494bb89-20cc-4227-af88-36d49a206594"
   },
   "outputs": [
    {
     "name": "stdout",
     "output_type": "stream",
     "text": [
      "Иван\n",
      "Игорь\n",
      "Катя\n"
     ]
    }
   ],
   "source": [
    "dictionary = {'Иван': 123, 'Игорь': 456, 'Катя': 789}\n",
    "   \n",
    "for k in dictionary.keys():\n",
    "    print(k)"
   ]
  },
  {
   "cell_type": "code",
   "execution_count": 21,
   "metadata": {
    "colab": {
     "base_uri": "https://localhost:8080/"
    },
    "id": "B8qFfVlVarac",
    "outputId": "34950144-aa69-4a05-ff15-41022d8bd132"
   },
   "outputs": [
    {
     "data": {
      "text/plain": [
       "dict_keys"
      ]
     },
     "execution_count": 21,
     "metadata": {},
     "output_type": "execute_result"
    },
    {
     "data": {
      "text/plain": [
       "dict_keys(['Иван', 'Игорь', 'Катя'])"
      ]
     },
     "execution_count": 21,
     "metadata": {},
     "output_type": "execute_result"
    }
   ],
   "source": [
    "keys = dictionary.keys() \n",
    "type(dictionary.keys())\n",
    "keys"
   ]
  },
  {
   "cell_type": "code",
   "execution_count": 22,
   "metadata": {},
   "outputs": [
    {
     "ename": "TypeError",
     "evalue": "'dict_keys' object is not subscriptable",
     "output_type": "error",
     "traceback": [
      "\u001b[0;31m---------------------------------------------------------------------------\u001b[0m",
      "\u001b[0;31mTypeError\u001b[0m                                 Traceback (most recent call last)",
      "\u001b[0;32m/var/folders/v8/2cskhqjj0_g0zp3824glf1tm0000gn/T/ipykernel_20904/2985461426.py\u001b[0m in \u001b[0;36m<module>\u001b[0;34m\u001b[0m\n\u001b[0;32m----> 1\u001b[0;31m \u001b[0mkeys\u001b[0m\u001b[0;34m[\u001b[0m\u001b[0;36m1\u001b[0m\u001b[0;34m]\u001b[0m\u001b[0;34m\u001b[0m\u001b[0;34m\u001b[0m\u001b[0m\n\u001b[0m",
      "\u001b[0;31mTypeError\u001b[0m: 'dict_keys' object is not subscriptable"
     ]
    }
   ],
   "source": [
    "keys[1]"
   ]
  },
  {
   "cell_type": "code",
   "execution_count": 25,
   "metadata": {},
   "outputs": [
    {
     "data": {
      "text/plain": [
       "['Иван', 'Игорь', 'Катя']"
      ]
     },
     "execution_count": 25,
     "metadata": {},
     "output_type": "execute_result"
    }
   ],
   "source": [
    "list(keys)"
   ]
  },
  {
   "cell_type": "code",
   "execution_count": 26,
   "metadata": {
    "colab": {
     "base_uri": "https://localhost:8080/"
    },
    "id": "mshP_U3884qG",
    "outputId": "fa767945-5cf7-49c8-ac06-68484c0aeea1"
   },
   "outputs": [
    {
     "data": {
      "text/plain": [
       "{'Иван': 123, 'Игорь': 456, 'Катя': 789}"
      ]
     },
     "execution_count": 26,
     "metadata": {},
     "output_type": "execute_result"
    }
   ],
   "source": [
    "dictionary = {'Иван': 123, 'Игорь': 456, 'Катя': 789}\n",
    "dictionary"
   ]
  },
  {
   "cell_type": "code",
   "execution_count": 29,
   "metadata": {
    "colab": {
     "base_uri": "https://localhost:8080/"
    },
    "id": "XD9zrT5ynWPT",
    "outputId": "1989f090-61a9-4824-97f4-a8ed5946e6e0"
   },
   "outputs": [
    {
     "name": "stdout",
     "output_type": "stream",
     "text": [
      "123\n",
      "456\n",
      "789\n"
     ]
    }
   ],
   "source": [
    "for v in dictionary.values():  # итерация по значениям\n",
    "    print(v)"
   ]
  },
  {
   "cell_type": "code",
   "execution_count": 30,
   "metadata": {
    "colab": {
     "base_uri": "https://localhost:8080/",
     "height": 169
    },
    "id": "ofVLMEWpa26I",
    "outputId": "765dfb88-821b-4cea-de68-91d40b480bab"
   },
   "outputs": [
    {
     "data": {
      "text/plain": [
       "(dict_values([123, 456, 789]), dict_values)"
      ]
     },
     "execution_count": 30,
     "metadata": {},
     "output_type": "execute_result"
    }
   ],
   "source": [
    "dictionary.values(), type(dictionary.values())"
   ]
  },
  {
   "cell_type": "code",
   "execution_count": 34,
   "metadata": {
    "colab": {
     "base_uri": "https://localhost:8080/"
    },
    "id": "rTJ7Z5r0nWPT",
    "outputId": "3d615b82-9941-4e58-9c1e-93d2e5f24061"
   },
   "outputs": [
    {
     "name": "stdout",
     "output_type": "stream",
     "text": [
      "('Иван', 123)\n",
      "('Игорь', 456)\n",
      "('Катя', 789)\n"
     ]
    }
   ],
   "source": [
    "for pair in dictionary.items():  # итерируемся сразу по парам (ключ: значение)\n",
    "    print(pair)"
   ]
  },
  {
   "cell_type": "code",
   "execution_count": 39,
   "metadata": {},
   "outputs": [
    {
     "name": "stdout",
     "output_type": "stream",
     "text": [
      "x = 42\n"
     ]
    }
   ],
   "source": [
    "x = 42\n",
    "print(f'{x = }')"
   ]
  },
  {
   "cell_type": "code",
   "execution_count": 40,
   "metadata": {
    "colab": {
     "base_uri": "https://localhost:8080/"
    },
    "id": "ZsXFfxX5951y",
    "outputId": "5fcf8a0a-f464-4b29-8679-d70d205b70d6"
   },
   "outputs": [
    {
     "name": "stdout",
     "output_type": "stream",
     "text": [
      "key = 'Иван', value = 123\n",
      "key = 'Игорь', value = 456\n",
      "key = 'Катя', value = 789\n"
     ]
    }
   ],
   "source": [
    "for key, value in dictionary.items():  # итерируемся сразу по парам (ключ: значение)\n",
    "    print(f'{key = }, {value = }')"
   ]
  },
  {
   "cell_type": "code",
   "execution_count": 41,
   "metadata": {
    "colab": {
     "base_uri": "https://localhost:8080/"
    },
    "id": "DK3tYh6UnWPU",
    "outputId": "4f6beda9-589d-4c21-fd9d-4c9c213b67cc"
   },
   "outputs": [
    {
     "name": "stdout",
     "output_type": "stream",
     "text": [
      "{'a': 1, 'b': 2, 'c': 3}\n"
     ]
    }
   ],
   "source": [
    "# конструкторы словарей:\n",
    "a = dict(a=1, b=2, c=3)\n",
    "print(a)"
   ]
  },
  {
   "cell_type": "code",
   "execution_count": 42,
   "metadata": {
    "colab": {
     "base_uri": "https://localhost:8080/"
    },
    "id": "DK3tYh6UnWPU",
    "outputId": "4f6beda9-589d-4c21-fd9d-4c9c213b67cc"
   },
   "outputs": [
    {
     "data": {
      "text/plain": [
       "{'Petya': 20, 'Vasya': 21, 'Masha': 22}"
      ]
     },
     "execution_count": 42,
     "metadata": {},
     "output_type": "execute_result"
    }
   ],
   "source": [
    "keys = (\"Petya\", \"Vasya\", \"Masha\")\n",
    "values = [20, 21, 22]\n",
    "\n",
    "dictionary = dict(zip(keys, values))  # один из самых удобных способов создания словаря из двух списков\n",
    "\n",
    "dictionary"
   ]
  },
  {
   "cell_type": "code",
   "execution_count": 43,
   "metadata": {},
   "outputs": [
    {
     "data": {
      "text/plain": [
       "<zip at 0x10519c5c0>"
      ]
     },
     "execution_count": 43,
     "metadata": {},
     "output_type": "execute_result"
    }
   ],
   "source": [
    "zip(keys, values)"
   ]
  },
  {
   "cell_type": "code",
   "execution_count": 44,
   "metadata": {},
   "outputs": [
    {
     "data": {
      "text/plain": [
       "[('Petya', 20), ('Vasya', 21), ('Masha', 22)]"
      ]
     },
     "execution_count": 44,
     "metadata": {},
     "output_type": "execute_result"
    }
   ],
   "source": [
    "list(zip(keys, values))"
   ]
  },
  {
   "cell_type": "code",
   "execution_count": 45,
   "metadata": {},
   "outputs": [
    {
     "data": {
      "text/plain": [
       "{'Petya': 20, 'Vasya': 21, 'Masha': 22, 'Ilia': 23}"
      ]
     },
     "execution_count": 45,
     "metadata": {},
     "output_type": "execute_result"
    }
   ],
   "source": [
    "dictionary['Ilia'] = 23\n",
    "dictionary"
   ]
  },
  {
   "cell_type": "code",
   "execution_count": 46,
   "metadata": {},
   "outputs": [
    {
     "data": {
      "text/plain": [
       "{'Petya': 24, 'Vasya': 21, 'Masha': 22, 'Ilia': 23}"
      ]
     },
     "execution_count": 46,
     "metadata": {},
     "output_type": "execute_result"
    }
   ],
   "source": [
    "dictionary['Petya'] = 24\n",
    "dictionary"
   ]
  },
  {
   "cell_type": "code",
   "execution_count": 49,
   "metadata": {},
   "outputs": [
    {
     "name": "stdout",
     "output_type": "stream",
     "text": [
      "iterable = [('Petya', 20), ('Vasya', 21), ('Masha', 22)]\n",
      "{'Petya': 20}\n",
      "{'Petya': 20, 'Vasya': 21}\n",
      "{'Petya': 20, 'Vasya': 21, 'Masha': 22}\n"
     ]
    },
    {
     "data": {
      "text/plain": [
       "{'Petya': 20, 'Vasya': 21, 'Masha': 22}"
      ]
     },
     "execution_count": 49,
     "metadata": {},
     "output_type": "execute_result"
    }
   ],
   "source": [
    "iterable = list(zip(keys, values))\n",
    "print(f'{iterable = }')\n",
    "d = {}\n",
    "for k, v in iterable:\n",
    "    d[k] = v\n",
    "    print(d)\n",
    "    \n",
    "d"
   ]
  },
  {
   "cell_type": "code",
   "execution_count": 50,
   "metadata": {
    "colab": {
     "base_uri": "https://localhost:8080/"
    },
    "id": "_ul1yvvoCRDG",
    "outputId": "32b020ab-9542-422b-a427-ba79961005ac"
   },
   "outputs": [
    {
     "data": {
      "text/plain": [
       "('Petya', 'Vasya', 'Masha')"
      ]
     },
     "execution_count": 50,
     "metadata": {},
     "output_type": "execute_result"
    }
   ],
   "source": [
    "keys"
   ]
  },
  {
   "cell_type": "code",
   "execution_count": 51,
   "metadata": {
    "colab": {
     "base_uri": "https://localhost:8080/"
    },
    "id": "G7cQ_VliCSHT",
    "outputId": "98d70344-a355-461b-a2bb-96c8299cfc9b"
   },
   "outputs": [
    {
     "data": {
      "text/plain": [
       "[20, 21, 22]"
      ]
     },
     "execution_count": 51,
     "metadata": {},
     "output_type": "execute_result"
    }
   ],
   "source": [
    "values"
   ]
  },
  {
   "cell_type": "code",
   "execution_count": 52,
   "metadata": {
    "id": "V9HwUGK2CeFM"
   },
   "outputs": [
    {
     "data": {
      "text/plain": [
       "<zip at 0x1053e9e40>"
      ]
     },
     "execution_count": 52,
     "metadata": {},
     "output_type": "execute_result"
    }
   ],
   "source": [
    "zip(keys, values, dictionary.items(), dictionary.values())"
   ]
  },
  {
   "cell_type": "code",
   "execution_count": 53,
   "metadata": {
    "colab": {
     "base_uri": "https://localhost:8080/"
    },
    "id": "JlZXVYCvkyZT",
    "outputId": "3bc33b09-a17e-4bc8-9273-8bc624e87a2a"
   },
   "outputs": [
    {
     "data": {
      "text/plain": [
       "[('Petya', 20, ('Petya', 24), 24),\n",
       " ('Vasya', 21, ('Vasya', 21), 21),\n",
       " ('Masha', 22, ('Masha', 22), 22)]"
      ]
     },
     "execution_count": 53,
     "metadata": {},
     "output_type": "execute_result"
    }
   ],
   "source": [
    "list(zip(keys, values, dictionary.items(), dictionary.values()))"
   ]
  },
  {
   "cell_type": "code",
   "execution_count": 54,
   "metadata": {
    "colab": {
     "base_uri": "https://localhost:8080/"
    },
    "id": "J5Q5L4U4C6tk",
    "outputId": "d2989dea-f64d-4f72-dd6e-b4b3fa710776"
   },
   "outputs": [
    {
     "data": {
      "text/plain": [
       "(('Petya', 20, 'Petya', 'Petya', 'Petya'),\n",
       " ('Vasya', 21, 'Vasya', 'Vasya', 'Vasya'),\n",
       " ('Masha', 22, 'Masha', 'Masha', 'Masha'))"
      ]
     },
     "execution_count": 54,
     "metadata": {},
     "output_type": "execute_result"
    }
   ],
   "source": [
    "tuple(zip(keys, values, keys, keys, keys))"
   ]
  },
  {
   "cell_type": "code",
   "execution_count": null,
   "metadata": {
    "colab": {
     "base_uri": "https://localhost:8080/"
    },
    "id": "wlyjLXz3C2dF",
    "outputId": "06d61511-d90c-41fa-d7a6-2fb838f6b805"
   },
   "outputs": [],
   "source": [
    "help(zip)"
   ]
  },
  {
   "cell_type": "code",
   "execution_count": 55,
   "metadata": {
    "colab": {
     "base_uri": "https://localhost:8080/"
    },
    "id": "cQSG_N8Hk7Ps",
    "outputId": "df8afe1c-dd46-4750-ce9c-8289be219430"
   },
   "outputs": [
    {
     "name": "stdout",
     "output_type": "stream",
     "text": [
      "<class 'dict_keys'>\n",
      "<class 'dict_values'>\n",
      "<class 'dict_items'>\n"
     ]
    },
    {
     "data": {
      "text/plain": [
       "[None, None, None]"
      ]
     },
     "execution_count": 55,
     "metadata": {},
     "output_type": "execute_result"
    }
   ],
   "source": [
    "# а почему три None в конце?\n",
    "[print(k) for k in (map(type, (a.keys(), a.values(), a.items())))]  "
   ]
  },
  {
   "cell_type": "code",
   "execution_count": 56,
   "metadata": {},
   "outputs": [
    {
     "name": "stdout",
     "output_type": "stream",
     "text": [
      "Masha\n",
      "None\n",
      "None\n"
     ]
    }
   ],
   "source": [
    "print(print(print(k)))"
   ]
  },
  {
   "cell_type": "code",
   "execution_count": 57,
   "metadata": {
    "colab": {
     "base_uri": "https://localhost:8080/"
    },
    "id": "6u6NOvDznWPU",
    "outputId": "12f1648b-13db-4c13-b83f-715f3035b521"
   },
   "outputs": [
    {
     "name": "stdout",
     "output_type": "stream",
     "text": [
      "['a', 'b', 'c']\n",
      "[1, 2, 3]\n",
      "[('a', 1), ('b', 2), ('c', 3)]\n"
     ]
    }
   ],
   "source": [
    "print(list(a.keys()))\n",
    "print(list(a.values()))\n",
    "print(list(a.items()))"
   ]
  },
  {
   "cell_type": "code",
   "execution_count": 58,
   "metadata": {
    "colab": {
     "base_uri": "https://localhost:8080/"
    },
    "id": "WF6srig6IRj_",
    "outputId": "54b640e8-8442-475d-a502-61cec7772038"
   },
   "outputs": [
    {
     "name": "stdout",
     "output_type": "stream",
     "text": [
      "('a', 'b', 'c')\n",
      "(1, 2, 3)\n",
      "(('a', 1), ('b', 2), ('c', 3))\n"
     ]
    }
   ],
   "source": [
    "print(tuple(a.keys()))\n",
    "print(tuple(a.values()))\n",
    "print(tuple(a.items()))"
   ]
  },
  {
   "cell_type": "code",
   "execution_count": 59,
   "metadata": {
    "colab": {
     "base_uri": "https://localhost:8080/"
    },
    "id": "LnakbA-cIhZz",
    "outputId": "7e67e507-2dfd-4a28-9110-7bd6eb7bc96c"
   },
   "outputs": [
    {
     "data": {
      "text/plain": [
       "{'Petya': 24, 'Vasya': 21, 'Masha': 22, 'Ilia': 23}"
      ]
     },
     "execution_count": 59,
     "metadata": {},
     "output_type": "execute_result"
    }
   ],
   "source": [
    "dictionary"
   ]
  },
  {
   "cell_type": "code",
   "execution_count": 60,
   "metadata": {
    "colab": {
     "base_uri": "https://localhost:8080/"
    },
    "id": "T0shPPdzPGzr",
    "outputId": "079a790a-2aaa-47bc-f75c-7000278ed53f"
   },
   "outputs": [
    {
     "data": {
      "text/plain": [
       "21"
      ]
     },
     "execution_count": 60,
     "metadata": {},
     "output_type": "execute_result"
    }
   ],
   "source": [
    "dictionary['Vasya']  # получить элемент по ключу"
   ]
  },
  {
   "cell_type": "code",
   "execution_count": 61,
   "metadata": {
    "colab": {
     "base_uri": "https://localhost:8080/"
    },
    "id": "7Z7exiUFnWPU",
    "outputId": "6bdb1b3b-1ab8-49ef-d4f0-db5827efe070"
   },
   "outputs": [
    {
     "data": {
      "text/plain": [
       "{'Petya': 24, 'Masha': 22, 'Ilia': 23}"
      ]
     },
     "execution_count": 61,
     "metadata": {},
     "output_type": "execute_result"
    }
   ],
   "source": [
    "del dictionary['Vasya']\n",
    "dictionary"
   ]
  },
  {
   "cell_type": "code",
   "execution_count": 62,
   "metadata": {},
   "outputs": [
    {
     "data": {
      "text/plain": [
       "{'Petya': 24, 'Masha': 22}"
      ]
     },
     "execution_count": 62,
     "metadata": {},
     "output_type": "execute_result"
    }
   ],
   "source": [
    "del dictionary['Ilia']\n",
    "dictionary"
   ]
  },
  {
   "cell_type": "code",
   "execution_count": 63,
   "metadata": {
    "colab": {
     "base_uri": "https://localhost:8080/"
    },
    "id": "E1l0pCohikYa",
    "outputId": "e0ea6cbd-d95e-481d-a894-30a925988002"
   },
   "outputs": [
    {
     "name": "stdout",
     "output_type": "stream",
     "text": [
      "{'Petya': 24, 'Masha': 22}\n",
      "id(x) = 4382995456\n",
      "id(dictionary[\"Vasya\"]) = 4382995456\n",
      "{'Petya': 24, 'Masha': 22, 'Vasya': [1, 2, 3]}\n",
      "4382995456\n"
     ]
    }
   ],
   "source": [
    "print(dictionary)\n",
    "\n",
    "x = [1, 2, 3]\n",
    "print(f'{id(x) = }')\n",
    "\n",
    "# добавим новый элемент в словарь\n",
    "dictionary['Vasya'] = x\n",
    "\n",
    "print(f'{id(dictionary[\"Vasya\"]) = }')\n",
    "print(dictionary)\n",
    "\n",
    "\n",
    "del dictionary['Vasya']\n",
    "print(id(x))"
   ]
  },
  {
   "cell_type": "code",
   "execution_count": null,
   "metadata": {},
   "outputs": [],
   "source": [
    "dir(dict)  # список атрибутов объекта dict"
   ]
  },
  {
   "cell_type": "code",
   "execution_count": 65,
   "metadata": {
    "colab": {
     "base_uri": "https://localhost:8080/"
    },
    "id": "A1vvcEnunWPV",
    "outputId": "ccf248b1-1042-4c68-a189-d43475fd3d19"
   },
   "outputs": [
    {
     "name": "stdout",
     "output_type": "stream",
     "text": [
      "a = {'a': 1, 'b': 2, 'c': 3}\n",
      "{'a': 1, 'b': 2, 'c': 3, 'Petya': 24, 'Masha': 22}\n"
     ]
    }
   ],
   "source": [
    "print(f'{a = }')\n",
    "a.update(dictionary)  # объединение двух словарей\n",
    "print(a)"
   ]
  },
  {
   "cell_type": "code",
   "execution_count": 66,
   "metadata": {
    "colab": {
     "base_uri": "https://localhost:8080/"
    },
    "id": "X9Sr4E8WnWPV",
    "outputId": "04c2d6cf-da1d-4d28-b168-34cac1011c05"
   },
   "outputs": [
    {
     "data": {
      "text/plain": [
       "{'a': 1,\n",
       " 'b': 2,\n",
       " 'c': 3,\n",
       " 'Petya': 24,\n",
       " 'Masha': 22,\n",
       " ('Composite', 'Key'): [1, 2, 3]}"
      ]
     },
     "execution_count": 66,
     "metadata": {},
     "output_type": "execute_result"
    }
   ],
   "source": [
    "a[('Composite', 'Key')] = [1, 2, 3]   # only immutable objects could be keys in dicts\n",
    "a"
   ]
  },
  {
   "cell_type": "code",
   "execution_count": 67,
   "metadata": {
    "id": "a0V9t5Jtlkfu"
   },
   "outputs": [],
   "source": [
    "a[('Composite', 'Key')] = a"
   ]
  },
  {
   "cell_type": "code",
   "execution_count": 68,
   "metadata": {
    "colab": {
     "base_uri": "https://localhost:8080/"
    },
    "id": "g3ccOJXOloj7",
    "outputId": "9e02a630-888b-4a7f-ebb6-02f69233d4ff"
   },
   "outputs": [
    {
     "data": {
      "text/plain": [
       "{'a': 1, 'b': 2, 'c': 3, 'Petya': 24, 'Masha': 22, ('Composite', 'Key'): {...}}"
      ]
     },
     "execution_count": 68,
     "metadata": {},
     "output_type": "execute_result"
    }
   ],
   "source": [
    "a"
   ]
  },
  {
   "cell_type": "code",
   "execution_count": 69,
   "metadata": {},
   "outputs": [
    {
     "data": {
      "text/plain": [
       "{'a': 1, 'b': 2, 'c': 3, 'Petya': 24, 'Masha': 22, ('Composite', 'Key'): {...}}"
      ]
     },
     "execution_count": 69,
     "metadata": {},
     "output_type": "execute_result"
    }
   ],
   "source": [
    "a[('Composite', 'Key')]"
   ]
  },
  {
   "cell_type": "code",
   "execution_count": 70,
   "metadata": {
    "colab": {
     "base_uri": "https://localhost:8080/"
    },
    "id": "38A-hElGKFbq",
    "outputId": "05138900-c171-4df3-9bda-b9bcc24a59ad"
   },
   "outputs": [
    {
     "data": {
      "text/plain": [
       "25"
      ]
     },
     "execution_count": 70,
     "metadata": {},
     "output_type": "execute_result"
    }
   ],
   "source": [
    "a['Petya'] += 1  # a['Petya'] = a['Petya'] + 1\n",
    "a['Petya']"
   ]
  },
  {
   "cell_type": "code",
   "execution_count": 71,
   "metadata": {},
   "outputs": [],
   "source": [
    "a['Masha'] = 25"
   ]
  },
  {
   "cell_type": "code",
   "execution_count": 72,
   "metadata": {},
   "outputs": [
    {
     "data": {
      "text/plain": [
       "{'a': 1, 'b': 2, 'c': 3, 'Petya': 25, 'Masha': 25, ('Composite', 'Key'): {...}}"
      ]
     },
     "execution_count": 72,
     "metadata": {},
     "output_type": "execute_result"
    }
   ],
   "source": [
    "a"
   ]
  },
  {
   "cell_type": "markdown",
   "metadata": {
    "id": "GRJ5VB-KnWPV"
   },
   "source": [
    "## Задачка на 5 минут\n",
    "Используя только что полученные знания об итерировании по словарю, давайте подумаем, как обратить словарь, т.е. как создать словарь с обратными парами (значение: ключ)? Считаем, что в исходном словаре значения тоже являются хэшируемыми"
   ]
  },
  {
   "cell_type": "code",
   "execution_count": 77,
   "metadata": {
    "colab": {
     "base_uri": "https://localhost:8080/"
    },
    "id": "bz-5kNF0nUkb",
    "outputId": "5fa38af4-bd91-45d0-e05a-5c00963385f9"
   },
   "outputs": [],
   "source": [
    "dictionary = {'Petya': 20, 'Vasya': 21, 'Masha': 22}"
   ]
  },
  {
   "cell_type": "code",
   "execution_count": 79,
   "metadata": {
    "colab": {
     "base_uri": "https://localhost:8080/"
    },
    "id": "i1XH2sLxmsj6",
    "outputId": "fbb37f78-fe53-43df-b61b-dd1a097c9272"
   },
   "outputs": [
    {
     "data": {
      "text/plain": [
       "{20: 'Petya', 21: 'Vasya', 22: 'Masha'}"
      ]
     },
     "execution_count": 79,
     "metadata": {},
     "output_type": "execute_result"
    }
   ],
   "source": [
    "reverse_dict = dict()\n",
    "\n",
    "for k, v in dictionary.items():\n",
    "    reverse_dict[v] = k\n",
    " \n",
    "reverse_dict"
   ]
  },
  {
   "cell_type": "code",
   "execution_count": 80,
   "metadata": {
    "colab": {
     "base_uri": "https://localhost:8080/"
    },
    "id": "UX8TW00OmmUy",
    "outputId": "ece5d653-d9b8-486f-deb2-2b43b2e93b2b"
   },
   "outputs": [
    {
     "data": {
      "text/plain": [
       "{20: 'Petya', 21: 'Vasya', 22: 'Masha'}"
      ]
     },
     "execution_count": 80,
     "metadata": {},
     "output_type": "execute_result"
    }
   ],
   "source": [
    "reverse_dict = dict([(value, key) for key, value in dictionary.items()])\n",
    "reverse_dict"
   ]
  },
  {
   "cell_type": "code",
   "execution_count": 82,
   "metadata": {},
   "outputs": [
    {
     "data": {
      "text/plain": [
       "{20: 'Petya', 21: 'Vasya', 22: 'Masha'}"
      ]
     },
     "execution_count": 82,
     "metadata": {},
     "output_type": "execute_result"
    }
   ],
   "source": [
    "reverse_dict = dict(zip(dictionary.values(), dictionary.keys()))\n",
    "reverse_dict"
   ]
  },
  {
   "cell_type": "markdown",
   "metadata": {
    "id": "W7IQocUFnWPW"
   },
   "source": [
    "### Аналогично list comprehensions существуют генераторы словарей"
   ]
  },
  {
   "cell_type": "code",
   "execution_count": null,
   "metadata": {
    "colab": {
     "base_uri": "https://localhost:8080/"
    },
    "id": "nUaf8u5inekr",
    "outputId": "3d8b1495-750b-47b9-8ac4-728c9a88034a"
   },
   "outputs": [],
   "source": [
    "[i ** 2 for i in range(2, 10, 2)]"
   ]
  },
  {
   "cell_type": "markdown",
   "metadata": {},
   "source": [
    "`{expr1: expr2 for k, v in iterable(pairs)}`"
   ]
  },
  {
   "cell_type": "code",
   "execution_count": 83,
   "metadata": {
    "colab": {
     "base_uri": "https://localhost:8080/"
    },
    "id": "FFfGVuyvnWPW",
    "outputId": "7f4ad7e8-31e6-439a-9a77-9db85a459be0"
   },
   "outputs": [
    {
     "data": {
      "text/plain": [
       "{20: 'Petya', 21: 'Vasya', 22: 'Masha'}"
      ]
     },
     "execution_count": 83,
     "metadata": {},
     "output_type": "execute_result"
    }
   ],
   "source": [
    "dct = {v: k for k, v in dictionary.items()}\n",
    "dct"
   ]
  },
  {
   "cell_type": "code",
   "execution_count": 84,
   "metadata": {
    "colab": {
     "base_uri": "https://localhost:8080/"
    },
    "id": "uBkStdy5nfKA",
    "outputId": "4384fd10-3cdf-4b1c-bd1a-502556082fdc"
   },
   "outputs": [
    {
     "data": {
      "text/plain": [
       "{0: 0, 1: 1, 4: 8, 9: 27, 16: 64}"
      ]
     },
     "execution_count": 84,
     "metadata": {},
     "output_type": "execute_result"
    }
   ],
   "source": [
    "{pow(i, 2): i ** 3 for i in range(5)}"
   ]
  },
  {
   "cell_type": "markdown",
   "metadata": {},
   "source": [
    "### Еще полезные методы словарей:"
   ]
  },
  {
   "cell_type": "code",
   "execution_count": 85,
   "metadata": {
    "colab": {
     "base_uri": "https://localhost:8080/"
    },
    "id": "ouiruaO-okr7",
    "outputId": "4f4b2077-3cd6-4c8e-b8c2-3e2ec4d3f931"
   },
   "outputs": [
    {
     "name": "stdout",
     "output_type": "stream",
     "text": [
      "Help on method_descriptor:\n",
      "\n",
      "get(self, key, default=None, /)\n",
      "    Return the value for key if key is in the dictionary, else default.\n",
      "\n"
     ]
    }
   ],
   "source": [
    "help(dict.get)"
   ]
  },
  {
   "cell_type": "code",
   "execution_count": 87,
   "metadata": {
    "colab": {
     "base_uri": "https://localhost:8080/"
    },
    "id": "6V25gLkFnWPW",
    "outputId": "02879d0b-1452-4117-ab0a-88084f119956"
   },
   "outputs": [
    {
     "name": "stdout",
     "output_type": "stream",
     "text": [
      "dct = {1: 2, 3: 4}\n",
      "result1 = 'not found', result2 = 'default'\n",
      "dct = {1: 2, 3: 4, 5: 'default'}\n"
     ]
    }
   ],
   "source": [
    "dct = {1: 2, 3: 4} \n",
    "key = 5 \n",
    "result1 = dct.get(key, 'not found') \n",
    "print(f'{dct = }')\n",
    "result2 = dct.setdefault(key, 'default') \n",
    "\n",
    "print(f'{result1 = }, {result2 = }') \n",
    "print(f'{dct = }')"
   ]
  },
  {
   "cell_type": "code",
   "execution_count": 88,
   "metadata": {
    "colab": {
     "base_uri": "https://localhost:8080/"
    },
    "id": "4dpfwcSAouVT",
    "outputId": "776bee54-176c-4b56-b4d1-0b787b550859"
   },
   "outputs": [
    {
     "name": "stdout",
     "output_type": "stream",
     "text": [
      "Help on built-in function setdefault:\n",
      "\n",
      "setdefault(key, default=None, /) method of builtins.dict instance\n",
      "    Insert key with a value of default if key is not in the dictionary.\n",
      "    \n",
      "    Return the value for key if key is in the dictionary, else default.\n",
      "\n"
     ]
    }
   ],
   "source": [
    "help(dct.setdefault)"
   ]
  },
  {
   "cell_type": "code",
   "execution_count": 89,
   "metadata": {
    "colab": {
     "base_uri": "https://localhost:8080/"
    },
    "id": "pli5W7KzpEkk",
    "outputId": "2bf3bd5d-9971-4542-8da4-5de157988743"
   },
   "outputs": [
    {
     "name": "stdout",
     "output_type": "stream",
     "text": [
      "{1: 2, 3: 4, 5: 6}\n",
      "6 6\n"
     ]
    }
   ],
   "source": [
    "dct = {1: 2, 3: 4, 5: 6} \n",
    "print(dct)\n",
    "\n",
    "result1 = dct.get(key, 'not found') \n",
    "result2 = dct.setdefault(key, 'default') \n",
    "\n",
    "print(result1, result2)"
   ]
  },
  {
   "cell_type": "code",
   "execution_count": 90,
   "metadata": {
    "collapsed": true
   },
   "outputs": [
    {
     "data": {
      "text/plain": [
       "{'__name__': '__main__',\n",
       " '__doc__': 'Automatically created module for IPython interactive environment',\n",
       " '__package__': None,\n",
       " '__loader__': None,\n",
       " '__spec__': None,\n",
       " '__builtin__': <module 'builtins' (built-in)>,\n",
       " '__builtins__': <module 'builtins' (built-in)>,\n",
       " '_ih': ['',\n",
       "  \"hash('asd')\",\n",
       "  \"int('0x101018040', base=16)\",\n",
       "  'method = tuple().__hash__\\n\\nprint(method)',\n",
       "  \"int('0x1012dc040', base=16)\",\n",
       "  'id(tuple())',\n",
       "  'hash(42)  # 42.__hash__()',\n",
       "  'hash(True)',\n",
       "  'hash(False)',\n",
       "  \"hash('sdfghjk')\\nhash('abc')\\nhash('abb')\",\n",
       "  '# doesn\\'t work in colab\\nfrom IPython.core.interactiveshell import InteractiveShell\\nInteractiveShell.ast_node_interactivity = \"all\"',\n",
       "  \"hash('sdfghjk')\\nhash('abc')\\nhash('abb')\",\n",
       "  '[1].__hash__ is None  # метод __hash__ не определен для списка',\n",
       "  '(1,).__hash__ is not None',\n",
       "  \"hash(([1, 2, 3], 'asd', '123'))\",\n",
       "  'id(1), hash(1)',\n",
       "  \"d1 = {1: 'b'}\\nd2 = {d1: 'abc'}\",\n",
       "  \"dictionary = {'Иван': 123, 'Игорь': 456, 'Катя': 789}\\n\\nfor k in dictionary:  \\n    print(k)          \",\n",
       "  \"'Катя' in dictionary\",\n",
       "  'dictionary[2]',\n",
       "  \"dictionary = {'Иван': 123, 'Игорь': 456, 'Катя': 789}\\n   \\nfor k in dictionary.keys():\\n    print(k)\",\n",
       "  'keys = dictionary.keys() \\ntype(dictionary.keys())\\nkeys',\n",
       "  'keys[1]',\n",
       "  'list(keys)',\n",
       "  'list(keys)[2]',\n",
       "  'list(keys)',\n",
       "  \"dictionary = {'Иван': 123, 'Игорь': 456, 'Катя': 789}\\ndictionary\",\n",
       "  \"dictionary = {'Иван': 123, 'Игорь': 456, 'Катя': 789}\\n\\nfor k in dictionary:  \\n    print(k)\\n    print(dictionary[k])\",\n",
       "  'list(dictionary)',\n",
       "  'for v in dictionary.values():  # итерация по значениям\\n    print(v)',\n",
       "  'dictionary.values(), type(dictionary.values())',\n",
       "  \"for pair in dictionary.items():  # итерируемся сразу по парам (ключ: значение)\\n    print(pair)\\n\\nprint('print(pair): ', pair)\",\n",
       "  \"for pair in dictionary.items():  # итерируемся сразу по парам (ключ: значение)\\n    print(pair[0], pair[1])\\n\\nprint('print(pair): ', pair)\",\n",
       "  \"for pair in dictionary.items():  # итерируемся сразу по парам (ключ: значение)\\n    print(pair)\\n\\nprint('print(pair): ', pair)\",\n",
       "  'for pair in dictionary.items():  # итерируемся сразу по парам (ключ: значение)\\n    print(pair)',\n",
       "  'x',\n",
       "  'x = 42',\n",
       "  \"x = 42\\nf'{x}'\",\n",
       "  \"x = 42\\nprint(f'{x}')\",\n",
       "  \"x = 42\\nprint(f'{x = }')\",\n",
       "  \"for key, value in dictionary.items():  # итерируемся сразу по парам (ключ: значение)\\n    print(f'{key = }, {value = }')\",\n",
       "  '# конструкторы словарей:\\na = dict(a=1, b=2, c=3)\\nprint(a)',\n",
       "  'keys = (\"Petya\", \"Vasya\", \"Masha\")\\nvalues = [20, 21, 22]\\n\\ndictionary = dict(zip(keys, values))  # один из самых удобных способов создания словаря из двух списков\\n\\ndictionary',\n",
       "  'zip(keys, values)',\n",
       "  'list(zip(keys, values))',\n",
       "  \"dictionary['Ilia'] = 23\\ndictionary\",\n",
       "  \"dictionary['Petya'] = 24\\ndictionary\",\n",
       "  'iterable = list(zip(keys, values))\\nd = {}\\nfor k, v in iterable:\\n    d[k] = v\\n    \\nd',\n",
       "  'iterable = list(zip(keys, values))\\nprint(iterable)\\nd = {}\\nfor k, v in iterable:\\n    d[k] = v\\n    print(d)\\n    \\nd',\n",
       "  \"iterable = list(zip(keys, values))\\nprint(f'{iterable = }')\\nd = {}\\nfor k, v in iterable:\\n    d[k] = v\\n    print(d)\\n    \\nd\",\n",
       "  'keys',\n",
       "  'values',\n",
       "  'zip(keys, values, dictionary.items(), dictionary.values())',\n",
       "  'list(zip(keys, values, dictionary.items(), dictionary.values()))',\n",
       "  'tuple(zip(keys, values, keys, keys, keys))',\n",
       "  '# а почему три None в конце?\\n[print(k) for k in (map(type, (a.keys(), a.values(), a.items())))]  ',\n",
       "  'print(print(print(k)))',\n",
       "  'print(list(a.keys()))\\nprint(list(a.values()))\\nprint(list(a.items()))',\n",
       "  'print(tuple(a.keys()))\\nprint(tuple(a.values()))\\nprint(tuple(a.items()))',\n",
       "  'dictionary',\n",
       "  \"dictionary['Vasya']  # получить элемент по ключу\",\n",
       "  \"del dictionary['Vasya']\\ndictionary\",\n",
       "  \"del dictionary['Ilia']\\ndictionary\",\n",
       "  'print(dictionary)\\n\\nx = [1, 2, 3]\\nprint(f\\'{id(x) = }\\')\\n\\n# добавим новый элемент в словарь\\ndictionary[\\'Vasya\\'] = x\\n\\nprint(f\\'{id(dictionary[\"Vasya\"]) = }\\')\\nprint(dictionary)\\n\\n\\ndel dictionary[\\'Vasya\\']\\nprint(id(x))',\n",
       "  'dir(dict)',\n",
       "  \"print(f'{a = }')\\na.update(dictionary)  # объединение двух словарей\\nprint(a)\",\n",
       "  \"a[('Composite', 'Key')] = [1, 2, 3]   # only immutable objects could be keys in dicts\\na\",\n",
       "  \"a[('Composite', 'Key')] = a\",\n",
       "  'a',\n",
       "  \"a[('Composite', 'Key')]\",\n",
       "  \"a['Petya'] += 1  # a['Petya'] = a['Petya'] + 1\\na['Petya']\",\n",
       "  \"a['Masha'] = 25\",\n",
       "  'a',\n",
       "  'd',\n",
       "  'a',\n",
       "  \"a['b'] = 4\\na['b'] = 5\\na['b'] = 6\\na\",\n",
       "  'hash(None)',\n",
       "  \"dictionary = {'Petya': 20, 'Vasya': 21, 'Masha': 22}\",\n",
       "  'reverse_dict = dict()\\n\\nfor k, v in dictionary.items():\\n    reverse_dict[v] = k\\n \\nreverse_dict',\n",
       "  'reverse_dict = dict()\\n\\nfor k, v in dictionary.items():\\n    reverse_dict[v] = k\\n \\nreverse_dict',\n",
       "  'reverse_dict = dict([(value, key) for key, value in dictionary.items()])\\nreverse_dict',\n",
       "  'reverse_dict = dict(zip(dictionary.values(), dictionary.keys()))',\n",
       "  'reverse_dict = dict(zip(dictionary.values(), dictionary.keys()))\\nreverse_dict',\n",
       "  'dct = {v: k for k, v in dictionary.items()}\\ndct',\n",
       "  '{pow(i, 2): i ** 3 for i in range(5)}',\n",
       "  'help(dict.get)',\n",
       "  \"dct = {1: 2, 3: 4} \\nkey = 5 \\nresult1 = dct.get(key, 'not found') \\nprint(f'{dct = }')\\nresult2 = dct.setdefault(key, 'default') \\n\\nprint('{result1 = }, {result2 = }') \\nprint(f'{dct = }')\",\n",
       "  \"dct = {1: 2, 3: 4} \\nkey = 5 \\nresult1 = dct.get(key, 'not found') \\nprint(f'{dct = }')\\nresult2 = dct.setdefault(key, 'default') \\n\\nprint(f'{result1 = }, {result2 = }') \\nprint(f'{dct = }')\",\n",
       "  'help(dct.setdefault)',\n",
       "  \"dct = {1: 2, 3: 4, 5: 6} \\nprint(dct)\\n\\nresult1 = dct.get(key, 'not found') \\nresult2 = dct.setdefault(key, 'default') \\n\\nprint(result1, result2)\",\n",
       "  'vars()'],\n",
       " '_oh': {1: -5985637909719039958,\n",
       "  2: 4311842880,\n",
       "  4: 4314742848,\n",
       "  5: 4314742848,\n",
       "  6: 42,\n",
       "  7: 1,\n",
       "  8: 0,\n",
       "  9: 8766314432066707489,\n",
       "  11: 8766314432066707489,\n",
       "  12: True,\n",
       "  13: True,\n",
       "  15: (4313425440, 1),\n",
       "  18: True,\n",
       "  21: dict_keys(['Иван', 'Игорь', 'Катя']),\n",
       "  23: ['Иван', 'Игорь', 'Катя'],\n",
       "  24: 'Катя',\n",
       "  25: ['Иван', 'Игорь', 'Катя'],\n",
       "  26: {'Иван': 123, 'Игорь': 456, 'Катя': 789},\n",
       "  28: ['Иван', 'Игорь', 'Катя'],\n",
       "  30: (dict_values([123, 456, 789]), dict_values),\n",
       "  37: '42',\n",
       "  42: {'Petya': 24, 'Masha': 22},\n",
       "  43: <zip at 0x10519c5c0>,\n",
       "  44: [('Petya', 20), ('Vasya', 21), ('Masha', 22)],\n",
       "  45: {'Petya': 24, 'Masha': 22},\n",
       "  46: {'Petya': 24, 'Masha': 22},\n",
       "  47: {'Petya': 20, 'Vasya': 21, 'Masha': 22},\n",
       "  48: {'Petya': 20, 'Vasya': 21, 'Masha': 22},\n",
       "  49: {'Petya': 20, 'Vasya': 21, 'Masha': 22},\n",
       "  50: ('Petya', 'Vasya', 'Masha'),\n",
       "  51: [20, 21, 22],\n",
       "  52: <zip at 0x1053e9e40>,\n",
       "  53: [('Petya', 20, ('Petya', 24), 24),\n",
       "   ('Vasya', 21, ('Vasya', 21), 21),\n",
       "   ('Masha', 22, ('Masha', 22), 22)],\n",
       "  54: (('Petya', 20, 'Petya', 'Petya', 'Petya'),\n",
       "   ('Vasya', 21, 'Vasya', 'Vasya', 'Vasya'),\n",
       "   ('Masha', 22, 'Masha', 'Masha', 'Masha')),\n",
       "  55: [None, None, None],\n",
       "  59: {'Petya': 24, 'Masha': 22},\n",
       "  60: 21,\n",
       "  61: {'Petya': 24, 'Masha': 22},\n",
       "  62: {'Petya': 24, 'Masha': 22},\n",
       "  64: ['__class__',\n",
       "   '__contains__',\n",
       "   '__delattr__',\n",
       "   '__delitem__',\n",
       "   '__dir__',\n",
       "   '__doc__',\n",
       "   '__eq__',\n",
       "   '__format__',\n",
       "   '__ge__',\n",
       "   '__getattribute__',\n",
       "   '__getitem__',\n",
       "   '__gt__',\n",
       "   '__hash__',\n",
       "   '__init__',\n",
       "   '__init_subclass__',\n",
       "   '__iter__',\n",
       "   '__le__',\n",
       "   '__len__',\n",
       "   '__lt__',\n",
       "   '__ne__',\n",
       "   '__new__',\n",
       "   '__reduce__',\n",
       "   '__reduce_ex__',\n",
       "   '__repr__',\n",
       "   '__reversed__',\n",
       "   '__setattr__',\n",
       "   '__setitem__',\n",
       "   '__sizeof__',\n",
       "   '__str__',\n",
       "   '__subclasshook__',\n",
       "   'clear',\n",
       "   'copy',\n",
       "   'fromkeys',\n",
       "   'get',\n",
       "   'items',\n",
       "   'keys',\n",
       "   'pop',\n",
       "   'popitem',\n",
       "   'setdefault',\n",
       "   'update',\n",
       "   'values'],\n",
       "  66: {'a': 1,\n",
       "   'b': 6,\n",
       "   'c': 3,\n",
       "   'Petya': 25,\n",
       "   'Masha': 25,\n",
       "   ('Composite', 'Key'): {...}},\n",
       "  68: {'a': 1,\n",
       "   'b': 6,\n",
       "   'c': 3,\n",
       "   'Petya': 25,\n",
       "   'Masha': 25,\n",
       "   ('Composite', 'Key'): {...}},\n",
       "  69: {'a': 1,\n",
       "   'b': 6,\n",
       "   'c': 3,\n",
       "   'Petya': 25,\n",
       "   'Masha': 25,\n",
       "   ('Composite', 'Key'): {...}},\n",
       "  70: 25,\n",
       "  72: {'a': 1,\n",
       "   'b': 6,\n",
       "   'c': 3,\n",
       "   'Petya': 25,\n",
       "   'Masha': 25,\n",
       "   ('Composite', 'Key'): {...}},\n",
       "  73: {'Petya': 20, 'Vasya': 21, 'Masha': 22},\n",
       "  74: {'a': 1,\n",
       "   'b': 6,\n",
       "   'c': 3,\n",
       "   'Petya': 25,\n",
       "   'Masha': 25,\n",
       "   ('Composite', 'Key'): {...}},\n",
       "  75: {'a': 1,\n",
       "   'b': 6,\n",
       "   'c': 3,\n",
       "   'Petya': 25,\n",
       "   'Masha': 25,\n",
       "   ('Composite', 'Key'): {...}},\n",
       "  76: 269580205,\n",
       "  78: {20: 'Petya', 21: 'Vasya', 22: 'Masha'},\n",
       "  79: {20: 'Petya', 21: 'Vasya', 22: 'Masha'},\n",
       "  80: {20: 'Petya', 21: 'Vasya', 22: 'Masha'},\n",
       "  82: {20: 'Petya', 21: 'Vasya', 22: 'Masha'},\n",
       "  83: {20: 'Petya', 21: 'Vasya', 22: 'Masha'},\n",
       "  84: {0: 0, 1: 1, 4: 8, 9: 27, 16: 64}},\n",
       " '_dh': ['/Users/isklonin/Projects/01-teaching/python-course-materials/stream12'],\n",
       " 'In': ['',\n",
       "  \"hash('asd')\",\n",
       "  \"int('0x101018040', base=16)\",\n",
       "  'method = tuple().__hash__\\n\\nprint(method)',\n",
       "  \"int('0x1012dc040', base=16)\",\n",
       "  'id(tuple())',\n",
       "  'hash(42)  # 42.__hash__()',\n",
       "  'hash(True)',\n",
       "  'hash(False)',\n",
       "  \"hash('sdfghjk')\\nhash('abc')\\nhash('abb')\",\n",
       "  '# doesn\\'t work in colab\\nfrom IPython.core.interactiveshell import InteractiveShell\\nInteractiveShell.ast_node_interactivity = \"all\"',\n",
       "  \"hash('sdfghjk')\\nhash('abc')\\nhash('abb')\",\n",
       "  '[1].__hash__ is None  # метод __hash__ не определен для списка',\n",
       "  '(1,).__hash__ is not None',\n",
       "  \"hash(([1, 2, 3], 'asd', '123'))\",\n",
       "  'id(1), hash(1)',\n",
       "  \"d1 = {1: 'b'}\\nd2 = {d1: 'abc'}\",\n",
       "  \"dictionary = {'Иван': 123, 'Игорь': 456, 'Катя': 789}\\n\\nfor k in dictionary:  \\n    print(k)          \",\n",
       "  \"'Катя' in dictionary\",\n",
       "  'dictionary[2]',\n",
       "  \"dictionary = {'Иван': 123, 'Игорь': 456, 'Катя': 789}\\n   \\nfor k in dictionary.keys():\\n    print(k)\",\n",
       "  'keys = dictionary.keys() \\ntype(dictionary.keys())\\nkeys',\n",
       "  'keys[1]',\n",
       "  'list(keys)',\n",
       "  'list(keys)[2]',\n",
       "  'list(keys)',\n",
       "  \"dictionary = {'Иван': 123, 'Игорь': 456, 'Катя': 789}\\ndictionary\",\n",
       "  \"dictionary = {'Иван': 123, 'Игорь': 456, 'Катя': 789}\\n\\nfor k in dictionary:  \\n    print(k)\\n    print(dictionary[k])\",\n",
       "  'list(dictionary)',\n",
       "  'for v in dictionary.values():  # итерация по значениям\\n    print(v)',\n",
       "  'dictionary.values(), type(dictionary.values())',\n",
       "  \"for pair in dictionary.items():  # итерируемся сразу по парам (ключ: значение)\\n    print(pair)\\n\\nprint('print(pair): ', pair)\",\n",
       "  \"for pair in dictionary.items():  # итерируемся сразу по парам (ключ: значение)\\n    print(pair[0], pair[1])\\n\\nprint('print(pair): ', pair)\",\n",
       "  \"for pair in dictionary.items():  # итерируемся сразу по парам (ключ: значение)\\n    print(pair)\\n\\nprint('print(pair): ', pair)\",\n",
       "  'for pair in dictionary.items():  # итерируемся сразу по парам (ключ: значение)\\n    print(pair)',\n",
       "  'x',\n",
       "  'x = 42',\n",
       "  \"x = 42\\nf'{x}'\",\n",
       "  \"x = 42\\nprint(f'{x}')\",\n",
       "  \"x = 42\\nprint(f'{x = }')\",\n",
       "  \"for key, value in dictionary.items():  # итерируемся сразу по парам (ключ: значение)\\n    print(f'{key = }, {value = }')\",\n",
       "  '# конструкторы словарей:\\na = dict(a=1, b=2, c=3)\\nprint(a)',\n",
       "  'keys = (\"Petya\", \"Vasya\", \"Masha\")\\nvalues = [20, 21, 22]\\n\\ndictionary = dict(zip(keys, values))  # один из самых удобных способов создания словаря из двух списков\\n\\ndictionary',\n",
       "  'zip(keys, values)',\n",
       "  'list(zip(keys, values))',\n",
       "  \"dictionary['Ilia'] = 23\\ndictionary\",\n",
       "  \"dictionary['Petya'] = 24\\ndictionary\",\n",
       "  'iterable = list(zip(keys, values))\\nd = {}\\nfor k, v in iterable:\\n    d[k] = v\\n    \\nd',\n",
       "  'iterable = list(zip(keys, values))\\nprint(iterable)\\nd = {}\\nfor k, v in iterable:\\n    d[k] = v\\n    print(d)\\n    \\nd',\n",
       "  \"iterable = list(zip(keys, values))\\nprint(f'{iterable = }')\\nd = {}\\nfor k, v in iterable:\\n    d[k] = v\\n    print(d)\\n    \\nd\",\n",
       "  'keys',\n",
       "  'values',\n",
       "  'zip(keys, values, dictionary.items(), dictionary.values())',\n",
       "  'list(zip(keys, values, dictionary.items(), dictionary.values()))',\n",
       "  'tuple(zip(keys, values, keys, keys, keys))',\n",
       "  '# а почему три None в конце?\\n[print(k) for k in (map(type, (a.keys(), a.values(), a.items())))]  ',\n",
       "  'print(print(print(k)))',\n",
       "  'print(list(a.keys()))\\nprint(list(a.values()))\\nprint(list(a.items()))',\n",
       "  'print(tuple(a.keys()))\\nprint(tuple(a.values()))\\nprint(tuple(a.items()))',\n",
       "  'dictionary',\n",
       "  \"dictionary['Vasya']  # получить элемент по ключу\",\n",
       "  \"del dictionary['Vasya']\\ndictionary\",\n",
       "  \"del dictionary['Ilia']\\ndictionary\",\n",
       "  'print(dictionary)\\n\\nx = [1, 2, 3]\\nprint(f\\'{id(x) = }\\')\\n\\n# добавим новый элемент в словарь\\ndictionary[\\'Vasya\\'] = x\\n\\nprint(f\\'{id(dictionary[\"Vasya\"]) = }\\')\\nprint(dictionary)\\n\\n\\ndel dictionary[\\'Vasya\\']\\nprint(id(x))',\n",
       "  'dir(dict)',\n",
       "  \"print(f'{a = }')\\na.update(dictionary)  # объединение двух словарей\\nprint(a)\",\n",
       "  \"a[('Composite', 'Key')] = [1, 2, 3]   # only immutable objects could be keys in dicts\\na\",\n",
       "  \"a[('Composite', 'Key')] = a\",\n",
       "  'a',\n",
       "  \"a[('Composite', 'Key')]\",\n",
       "  \"a['Petya'] += 1  # a['Petya'] = a['Petya'] + 1\\na['Petya']\",\n",
       "  \"a['Masha'] = 25\",\n",
       "  'a',\n",
       "  'd',\n",
       "  'a',\n",
       "  \"a['b'] = 4\\na['b'] = 5\\na['b'] = 6\\na\",\n",
       "  'hash(None)',\n",
       "  \"dictionary = {'Petya': 20, 'Vasya': 21, 'Masha': 22}\",\n",
       "  'reverse_dict = dict()\\n\\nfor k, v in dictionary.items():\\n    reverse_dict[v] = k\\n \\nreverse_dict',\n",
       "  'reverse_dict = dict()\\n\\nfor k, v in dictionary.items():\\n    reverse_dict[v] = k\\n \\nreverse_dict',\n",
       "  'reverse_dict = dict([(value, key) for key, value in dictionary.items()])\\nreverse_dict',\n",
       "  'reverse_dict = dict(zip(dictionary.values(), dictionary.keys()))',\n",
       "  'reverse_dict = dict(zip(dictionary.values(), dictionary.keys()))\\nreverse_dict',\n",
       "  'dct = {v: k for k, v in dictionary.items()}\\ndct',\n",
       "  '{pow(i, 2): i ** 3 for i in range(5)}',\n",
       "  'help(dict.get)',\n",
       "  \"dct = {1: 2, 3: 4} \\nkey = 5 \\nresult1 = dct.get(key, 'not found') \\nprint(f'{dct = }')\\nresult2 = dct.setdefault(key, 'default') \\n\\nprint('{result1 = }, {result2 = }') \\nprint(f'{dct = }')\",\n",
       "  \"dct = {1: 2, 3: 4} \\nkey = 5 \\nresult1 = dct.get(key, 'not found') \\nprint(f'{dct = }')\\nresult2 = dct.setdefault(key, 'default') \\n\\nprint(f'{result1 = }, {result2 = }') \\nprint(f'{dct = }')\",\n",
       "  'help(dct.setdefault)',\n",
       "  \"dct = {1: 2, 3: 4, 5: 6} \\nprint(dct)\\n\\nresult1 = dct.get(key, 'not found') \\nresult2 = dct.setdefault(key, 'default') \\n\\nprint(result1, result2)\",\n",
       "  'vars()'],\n",
       " 'Out': {1: -5985637909719039958,\n",
       "  2: 4311842880,\n",
       "  4: 4314742848,\n",
       "  5: 4314742848,\n",
       "  6: 42,\n",
       "  7: 1,\n",
       "  8: 0,\n",
       "  9: 8766314432066707489,\n",
       "  11: 8766314432066707489,\n",
       "  12: True,\n",
       "  13: True,\n",
       "  15: (4313425440, 1),\n",
       "  18: True,\n",
       "  21: dict_keys(['Иван', 'Игорь', 'Катя']),\n",
       "  23: ['Иван', 'Игорь', 'Катя'],\n",
       "  24: 'Катя',\n",
       "  25: ['Иван', 'Игорь', 'Катя'],\n",
       "  26: {'Иван': 123, 'Игорь': 456, 'Катя': 789},\n",
       "  28: ['Иван', 'Игорь', 'Катя'],\n",
       "  30: (dict_values([123, 456, 789]), dict_values),\n",
       "  37: '42',\n",
       "  42: {'Petya': 24, 'Masha': 22},\n",
       "  43: <zip at 0x10519c5c0>,\n",
       "  44: [('Petya', 20), ('Vasya', 21), ('Masha', 22)],\n",
       "  45: {'Petya': 24, 'Masha': 22},\n",
       "  46: {'Petya': 24, 'Masha': 22},\n",
       "  47: {'Petya': 20, 'Vasya': 21, 'Masha': 22},\n",
       "  48: {'Petya': 20, 'Vasya': 21, 'Masha': 22},\n",
       "  49: {'Petya': 20, 'Vasya': 21, 'Masha': 22},\n",
       "  50: ('Petya', 'Vasya', 'Masha'),\n",
       "  51: [20, 21, 22],\n",
       "  52: <zip at 0x1053e9e40>,\n",
       "  53: [('Petya', 20, ('Petya', 24), 24),\n",
       "   ('Vasya', 21, ('Vasya', 21), 21),\n",
       "   ('Masha', 22, ('Masha', 22), 22)],\n",
       "  54: (('Petya', 20, 'Petya', 'Petya', 'Petya'),\n",
       "   ('Vasya', 21, 'Vasya', 'Vasya', 'Vasya'),\n",
       "   ('Masha', 22, 'Masha', 'Masha', 'Masha')),\n",
       "  55: [None, None, None],\n",
       "  59: {'Petya': 24, 'Masha': 22},\n",
       "  60: 21,\n",
       "  61: {'Petya': 24, 'Masha': 22},\n",
       "  62: {'Petya': 24, 'Masha': 22},\n",
       "  64: ['__class__',\n",
       "   '__contains__',\n",
       "   '__delattr__',\n",
       "   '__delitem__',\n",
       "   '__dir__',\n",
       "   '__doc__',\n",
       "   '__eq__',\n",
       "   '__format__',\n",
       "   '__ge__',\n",
       "   '__getattribute__',\n",
       "   '__getitem__',\n",
       "   '__gt__',\n",
       "   '__hash__',\n",
       "   '__init__',\n",
       "   '__init_subclass__',\n",
       "   '__iter__',\n",
       "   '__le__',\n",
       "   '__len__',\n",
       "   '__lt__',\n",
       "   '__ne__',\n",
       "   '__new__',\n",
       "   '__reduce__',\n",
       "   '__reduce_ex__',\n",
       "   '__repr__',\n",
       "   '__reversed__',\n",
       "   '__setattr__',\n",
       "   '__setitem__',\n",
       "   '__sizeof__',\n",
       "   '__str__',\n",
       "   '__subclasshook__',\n",
       "   'clear',\n",
       "   'copy',\n",
       "   'fromkeys',\n",
       "   'get',\n",
       "   'items',\n",
       "   'keys',\n",
       "   'pop',\n",
       "   'popitem',\n",
       "   'setdefault',\n",
       "   'update',\n",
       "   'values'],\n",
       "  66: {'a': 1,\n",
       "   'b': 6,\n",
       "   'c': 3,\n",
       "   'Petya': 25,\n",
       "   'Masha': 25,\n",
       "   ('Composite', 'Key'): {...}},\n",
       "  68: {'a': 1,\n",
       "   'b': 6,\n",
       "   'c': 3,\n",
       "   'Petya': 25,\n",
       "   'Masha': 25,\n",
       "   ('Composite', 'Key'): {...}},\n",
       "  69: {'a': 1,\n",
       "   'b': 6,\n",
       "   'c': 3,\n",
       "   'Petya': 25,\n",
       "   'Masha': 25,\n",
       "   ('Composite', 'Key'): {...}},\n",
       "  70: 25,\n",
       "  72: {'a': 1,\n",
       "   'b': 6,\n",
       "   'c': 3,\n",
       "   'Petya': 25,\n",
       "   'Masha': 25,\n",
       "   ('Composite', 'Key'): {...}},\n",
       "  73: {'Petya': 20, 'Vasya': 21, 'Masha': 22},\n",
       "  74: {'a': 1,\n",
       "   'b': 6,\n",
       "   'c': 3,\n",
       "   'Petya': 25,\n",
       "   'Masha': 25,\n",
       "   ('Composite', 'Key'): {...}},\n",
       "  75: {'a': 1,\n",
       "   'b': 6,\n",
       "   'c': 3,\n",
       "   'Petya': 25,\n",
       "   'Masha': 25,\n",
       "   ('Composite', 'Key'): {...}},\n",
       "  76: 269580205,\n",
       "  78: {20: 'Petya', 21: 'Vasya', 22: 'Masha'},\n",
       "  79: {20: 'Petya', 21: 'Vasya', 22: 'Masha'},\n",
       "  80: {20: 'Petya', 21: 'Vasya', 22: 'Masha'},\n",
       "  82: {20: 'Petya', 21: 'Vasya', 22: 'Masha'},\n",
       "  83: {20: 'Petya', 21: 'Vasya', 22: 'Masha'},\n",
       "  84: {0: 0, 1: 1, 4: 8, 9: 27, 16: 64}},\n",
       " 'get_ipython': <bound method InteractiveShell.get_ipython of <ipykernel.zmqshell.ZMQInteractiveShell object at 0x1041e6a90>>,\n",
       " 'exit': <IPython.core.autocall.ZMQExitAutocall at 0x1041c7c40>,\n",
       " 'quit': <IPython.core.autocall.ZMQExitAutocall at 0x1041c7c40>,\n",
       " '_': {0: 0, 1: 1, 4: 8, 9: 27, 16: 64},\n",
       " '__': {20: 'Petya', 21: 'Vasya', 22: 'Masha'},\n",
       " '___': {20: 'Petya', 21: 'Vasya', 22: 'Masha'},\n",
       " '_i': \"dct = {1: 2, 3: 4, 5: 6} \\nprint(dct)\\n\\nresult1 = dct.get(key, 'not found') \\nresult2 = dct.setdefault(key, 'default') \\n\\nprint(result1, result2)\",\n",
       " '_ii': 'help(dct.setdefault)',\n",
       " '_iii': \"dct = {1: 2, 3: 4} \\nkey = 5 \\nresult1 = dct.get(key, 'not found') \\nprint(f'{dct = }')\\nresult2 = dct.setdefault(key, 'default') \\n\\nprint(f'{result1 = }, {result2 = }') \\nprint(f'{dct = }')\",\n",
       " '_i1': \"hash('asd')\",\n",
       " '_1': -5985637909719039958,\n",
       " '_i2': \"int('0x101018040', base=16)\",\n",
       " '_2': 4311842880,\n",
       " '_i3': 'method = tuple().__hash__\\n\\nprint(method)',\n",
       " 'method': <method-wrapper '__hash__' of tuple object at 0x1012dc040>,\n",
       " '_i4': \"int('0x1012dc040', base=16)\",\n",
       " '_4': 4314742848,\n",
       " '_i5': 'id(tuple())',\n",
       " '_5': 4314742848,\n",
       " '_i6': 'hash(42)  # 42.__hash__()',\n",
       " '_6': 42,\n",
       " '_i7': 'hash(True)',\n",
       " '_7': 1,\n",
       " '_i8': 'hash(False)',\n",
       " '_8': 0,\n",
       " '_i9': \"hash('sdfghjk')\\nhash('abc')\\nhash('abb')\",\n",
       " '_9': 8766314432066707489,\n",
       " '_i10': '# doesn\\'t work in colab\\nfrom IPython.core.interactiveshell import InteractiveShell\\nInteractiveShell.ast_node_interactivity = \"all\"',\n",
       " 'InteractiveShell': IPython.core.interactiveshell.InteractiveShell,\n",
       " '_i11': \"hash('sdfghjk')\\nhash('abc')\\nhash('abb')\",\n",
       " '_11': 8766314432066707489,\n",
       " '_i12': '[1].__hash__ is None  # метод __hash__ не определен для списка',\n",
       " '_12': True,\n",
       " '_i13': '(1,).__hash__ is not None',\n",
       " '_13': True,\n",
       " '_i14': \"hash(([1, 2, 3], 'asd', '123'))\",\n",
       " '_i15': 'id(1), hash(1)',\n",
       " '_15': (4313425440, 1),\n",
       " '_i16': \"d1 = {1: 'b'}\\nd2 = {d1: 'abc'}\",\n",
       " 'd1': {1: 'b'},\n",
       " '_i17': \"dictionary = {'Иван': 123, 'Игорь': 456, 'Катя': 789}\\n\\nfor k in dictionary:  \\n    print(k)          \",\n",
       " 'dictionary': {'Petya': 20, 'Vasya': 21, 'Masha': 22},\n",
       " 'k': 'Masha',\n",
       " '_i18': \"'Катя' in dictionary\",\n",
       " '_18': True,\n",
       " '_i19': 'dictionary[2]',\n",
       " '_i20': \"dictionary = {'Иван': 123, 'Игорь': 456, 'Катя': 789}\\n   \\nfor k in dictionary.keys():\\n    print(k)\",\n",
       " '_i21': 'keys = dictionary.keys() \\ntype(dictionary.keys())\\nkeys',\n",
       " 'keys': ('Petya', 'Vasya', 'Masha'),\n",
       " '_21': dict_keys(['Иван', 'Игорь', 'Катя']),\n",
       " '_i22': 'keys[1]',\n",
       " '_i23': 'list(keys)',\n",
       " '_23': ['Иван', 'Игорь', 'Катя'],\n",
       " '_i24': 'list(keys)[2]',\n",
       " '_24': 'Катя',\n",
       " '_i25': 'list(keys)',\n",
       " '_25': ['Иван', 'Игорь', 'Катя'],\n",
       " '_i26': \"dictionary = {'Иван': 123, 'Игорь': 456, 'Катя': 789}\\ndictionary\",\n",
       " '_26': {'Иван': 123, 'Игорь': 456, 'Катя': 789},\n",
       " '_i27': \"dictionary = {'Иван': 123, 'Игорь': 456, 'Катя': 789}\\n\\nfor k in dictionary:  \\n    print(k)\\n    print(dictionary[k])\",\n",
       " '_i28': 'list(dictionary)',\n",
       " '_28': ['Иван', 'Игорь', 'Катя'],\n",
       " '_i29': 'for v in dictionary.values():  # итерация по значениям\\n    print(v)',\n",
       " 'v': 22,\n",
       " '_i30': 'dictionary.values(), type(dictionary.values())',\n",
       " '_30': (dict_values([123, 456, 789]), dict_values),\n",
       " '_i31': \"for pair in dictionary.items():  # итерируемся сразу по парам (ключ: значение)\\n    print(pair)\\n\\nprint('print(pair): ', pair)\",\n",
       " 'pair': ('Катя', 789),\n",
       " '_i32': \"for pair in dictionary.items():  # итерируемся сразу по парам (ключ: значение)\\n    print(pair[0], pair[1])\\n\\nprint('print(pair): ', pair)\",\n",
       " '_i33': \"for pair in dictionary.items():  # итерируемся сразу по парам (ключ: значение)\\n    print(pair)\\n\\nprint('print(pair): ', pair)\",\n",
       " '_i34': 'for pair in dictionary.items():  # итерируемся сразу по парам (ключ: значение)\\n    print(pair)',\n",
       " '_i35': 'x',\n",
       " '_i36': 'x = 42',\n",
       " 'x': [1, 2, 3],\n",
       " '_i37': \"x = 42\\nf'{x}'\",\n",
       " '_37': '42',\n",
       " '_i38': \"x = 42\\nprint(f'{x}')\",\n",
       " '_i39': \"x = 42\\nprint(f'{x = }')\",\n",
       " '_i40': \"for key, value in dictionary.items():  # итерируемся сразу по парам (ключ: значение)\\n    print(f'{key = }, {value = }')\",\n",
       " 'key': 5,\n",
       " 'value': 789,\n",
       " '_i41': '# конструкторы словарей:\\na = dict(a=1, b=2, c=3)\\nprint(a)',\n",
       " 'a': {'a': 1,\n",
       "  'b': 6,\n",
       "  'c': 3,\n",
       "  'Petya': 25,\n",
       "  'Masha': 25,\n",
       "  ('Composite', 'Key'): {...}},\n",
       " '_i42': 'keys = (\"Petya\", \"Vasya\", \"Masha\")\\nvalues = [20, 21, 22]\\n\\ndictionary = dict(zip(keys, values))  # один из самых удобных способов создания словаря из двух списков\\n\\ndictionary',\n",
       " 'values': [20, 21, 22],\n",
       " '_42': {'Petya': 24, 'Masha': 22},\n",
       " '_i43': 'zip(keys, values)',\n",
       " '_43': <zip at 0x10519c5c0>,\n",
       " '_i44': 'list(zip(keys, values))',\n",
       " '_44': [('Petya', 20), ('Vasya', 21), ('Masha', 22)],\n",
       " '_i45': \"dictionary['Ilia'] = 23\\ndictionary\",\n",
       " '_45': {'Petya': 24, 'Masha': 22},\n",
       " '_i46': \"dictionary['Petya'] = 24\\ndictionary\",\n",
       " '_46': {'Petya': 24, 'Masha': 22},\n",
       " '_i47': 'iterable = list(zip(keys, values))\\nd = {}\\nfor k, v in iterable:\\n    d[k] = v\\n    \\nd',\n",
       " 'iterable': [('Petya', 20), ('Vasya', 21), ('Masha', 22)],\n",
       " 'd': {'Petya': 20, 'Vasya': 21, 'Masha': 22},\n",
       " '_47': {'Petya': 20, 'Vasya': 21, 'Masha': 22},\n",
       " '_i48': 'iterable = list(zip(keys, values))\\nprint(iterable)\\nd = {}\\nfor k, v in iterable:\\n    d[k] = v\\n    print(d)\\n    \\nd',\n",
       " '_48': {'Petya': 20, 'Vasya': 21, 'Masha': 22},\n",
       " '_i49': \"iterable = list(zip(keys, values))\\nprint(f'{iterable = }')\\nd = {}\\nfor k, v in iterable:\\n    d[k] = v\\n    print(d)\\n    \\nd\",\n",
       " '_49': {'Petya': 20, 'Vasya': 21, 'Masha': 22},\n",
       " '_i50': 'keys',\n",
       " '_50': ('Petya', 'Vasya', 'Masha'),\n",
       " '_i51': 'values',\n",
       " '_51': [20, 21, 22],\n",
       " '_i52': 'zip(keys, values, dictionary.items(), dictionary.values())',\n",
       " '_52': <zip at 0x1053e9e40>,\n",
       " '_i53': 'list(zip(keys, values, dictionary.items(), dictionary.values()))',\n",
       " '_53': [('Petya', 20, ('Petya', 24), 24),\n",
       "  ('Vasya', 21, ('Vasya', 21), 21),\n",
       "  ('Masha', 22, ('Masha', 22), 22)],\n",
       " '_i54': 'tuple(zip(keys, values, keys, keys, keys))',\n",
       " '_54': (('Petya', 20, 'Petya', 'Petya', 'Petya'),\n",
       "  ('Vasya', 21, 'Vasya', 'Vasya', 'Vasya'),\n",
       "  ('Masha', 22, 'Masha', 'Masha', 'Masha')),\n",
       " '_i55': '# а почему три None в конце?\\n[print(k) for k in (map(type, (a.keys(), a.values(), a.items())))]  ',\n",
       " '_55': [None, None, None],\n",
       " '_i56': 'print(print(print(k)))',\n",
       " '_i57': 'print(list(a.keys()))\\nprint(list(a.values()))\\nprint(list(a.items()))',\n",
       " '_i58': 'print(tuple(a.keys()))\\nprint(tuple(a.values()))\\nprint(tuple(a.items()))',\n",
       " '_i59': 'dictionary',\n",
       " '_59': {'Petya': 24, 'Masha': 22},\n",
       " '_i60': \"dictionary['Vasya']  # получить элемент по ключу\",\n",
       " '_60': 21,\n",
       " '_i61': \"del dictionary['Vasya']\\ndictionary\",\n",
       " '_61': {'Petya': 24, 'Masha': 22},\n",
       " '_i62': \"del dictionary['Ilia']\\ndictionary\",\n",
       " '_62': {'Petya': 24, 'Masha': 22},\n",
       " '_i63': 'print(dictionary)\\n\\nx = [1, 2, 3]\\nprint(f\\'{id(x) = }\\')\\n\\n# добавим новый элемент в словарь\\ndictionary[\\'Vasya\\'] = x\\n\\nprint(f\\'{id(dictionary[\"Vasya\"]) = }\\')\\nprint(dictionary)\\n\\n\\ndel dictionary[\\'Vasya\\']\\nprint(id(x))',\n",
       " '_i64': 'dir(dict)',\n",
       " '_64': ['__class__',\n",
       "  '__contains__',\n",
       "  '__delattr__',\n",
       "  '__delitem__',\n",
       "  '__dir__',\n",
       "  '__doc__',\n",
       "  '__eq__',\n",
       "  '__format__',\n",
       "  '__ge__',\n",
       "  '__getattribute__',\n",
       "  '__getitem__',\n",
       "  '__gt__',\n",
       "  '__hash__',\n",
       "  '__init__',\n",
       "  '__init_subclass__',\n",
       "  '__iter__',\n",
       "  '__le__',\n",
       "  '__len__',\n",
       "  '__lt__',\n",
       "  '__ne__',\n",
       "  '__new__',\n",
       "  '__reduce__',\n",
       "  '__reduce_ex__',\n",
       "  '__repr__',\n",
       "  '__reversed__',\n",
       "  '__setattr__',\n",
       "  '__setitem__',\n",
       "  '__sizeof__',\n",
       "  '__str__',\n",
       "  '__subclasshook__',\n",
       "  'clear',\n",
       "  'copy',\n",
       "  'fromkeys',\n",
       "  'get',\n",
       "  'items',\n",
       "  'keys',\n",
       "  'pop',\n",
       "  'popitem',\n",
       "  'setdefault',\n",
       "  'update',\n",
       "  'values'],\n",
       " '_i65': \"print(f'{a = }')\\na.update(dictionary)  # объединение двух словарей\\nprint(a)\",\n",
       " '_i66': \"a[('Composite', 'Key')] = [1, 2, 3]   # only immutable objects could be keys in dicts\\na\",\n",
       " '_66': {'a': 1,\n",
       "  'b': 6,\n",
       "  'c': 3,\n",
       "  'Petya': 25,\n",
       "  'Masha': 25,\n",
       "  ('Composite', 'Key'): {...}},\n",
       " '_i67': \"a[('Composite', 'Key')] = a\",\n",
       " '_i68': 'a',\n",
       " '_68': {'a': 1,\n",
       "  'b': 6,\n",
       "  'c': 3,\n",
       "  'Petya': 25,\n",
       "  'Masha': 25,\n",
       "  ('Composite', 'Key'): {...}},\n",
       " '_i69': \"a[('Composite', 'Key')]\",\n",
       " '_69': {'a': 1,\n",
       "  'b': 6,\n",
       "  'c': 3,\n",
       "  'Petya': 25,\n",
       "  'Masha': 25,\n",
       "  ('Composite', 'Key'): {...}},\n",
       " '_i70': \"a['Petya'] += 1  # a['Petya'] = a['Petya'] + 1\\na['Petya']\",\n",
       " '_70': 25,\n",
       " '_i71': \"a['Masha'] = 25\",\n",
       " '_i72': 'a',\n",
       " '_72': {'a': 1,\n",
       "  'b': 6,\n",
       "  'c': 3,\n",
       "  'Petya': 25,\n",
       "  'Masha': 25,\n",
       "  ('Composite', 'Key'): {...}},\n",
       " '_i73': 'd',\n",
       " '_73': {'Petya': 20, 'Vasya': 21, 'Masha': 22},\n",
       " '_i74': 'a',\n",
       " '_74': {'a': 1,\n",
       "  'b': 6,\n",
       "  'c': 3,\n",
       "  'Petya': 25,\n",
       "  'Masha': 25,\n",
       "  ('Composite', 'Key'): {...}},\n",
       " '_i75': \"a['b'] = 4\\na['b'] = 5\\na['b'] = 6\\na\",\n",
       " '_75': {'a': 1,\n",
       "  'b': 6,\n",
       "  'c': 3,\n",
       "  'Petya': 25,\n",
       "  'Masha': 25,\n",
       "  ('Composite', 'Key'): {...}},\n",
       " '_i76': 'hash(None)',\n",
       " '_76': 269580205,\n",
       " '_i77': \"dictionary = {'Petya': 20, 'Vasya': 21, 'Masha': 22}\",\n",
       " '_i78': 'reverse_dict = dict()\\n\\nfor k, v in dictionary.items():\\n    reverse_dict[v] = k\\n \\nreverse_dict',\n",
       " 'reverse_dict': {20: 'Petya', 21: 'Vasya', 22: 'Masha'},\n",
       " '_78': {20: 'Petya', 21: 'Vasya', 22: 'Masha'},\n",
       " '_i79': 'reverse_dict = dict()\\n\\nfor k, v in dictionary.items():\\n    reverse_dict[v] = k\\n \\nreverse_dict',\n",
       " '_79': {20: 'Petya', 21: 'Vasya', 22: 'Masha'},\n",
       " '_i80': 'reverse_dict = dict([(value, key) for key, value in dictionary.items()])\\nreverse_dict',\n",
       " '_80': {20: 'Petya', 21: 'Vasya', 22: 'Masha'},\n",
       " '_i81': 'reverse_dict = dict(zip(dictionary.values(), dictionary.keys()))',\n",
       " '_i82': 'reverse_dict = dict(zip(dictionary.values(), dictionary.keys()))\\nreverse_dict',\n",
       " '_82': {20: 'Petya', 21: 'Vasya', 22: 'Masha'},\n",
       " '_i83': 'dct = {v: k for k, v in dictionary.items()}\\ndct',\n",
       " 'dct': {1: 2, 3: 4, 5: 6},\n",
       " '_83': {20: 'Petya', 21: 'Vasya', 22: 'Masha'},\n",
       " '_i84': '{pow(i, 2): i ** 3 for i in range(5)}',\n",
       " '_84': {0: 0, 1: 1, 4: 8, 9: 27, 16: 64},\n",
       " '_i85': 'help(dict.get)',\n",
       " '_i86': \"dct = {1: 2, 3: 4} \\nkey = 5 \\nresult1 = dct.get(key, 'not found') \\nprint(f'{dct = }')\\nresult2 = dct.setdefault(key, 'default') \\n\\nprint('{result1 = }, {result2 = }') \\nprint(f'{dct = }')\",\n",
       " 'result1': 6,\n",
       " 'result2': 6,\n",
       " '_i87': \"dct = {1: 2, 3: 4} \\nkey = 5 \\nresult1 = dct.get(key, 'not found') \\nprint(f'{dct = }')\\nresult2 = dct.setdefault(key, 'default') \\n\\nprint(f'{result1 = }, {result2 = }') \\nprint(f'{dct = }')\",\n",
       " '_i88': 'help(dct.setdefault)',\n",
       " '_i89': \"dct = {1: 2, 3: 4, 5: 6} \\nprint(dct)\\n\\nresult1 = dct.get(key, 'not found') \\nresult2 = dct.setdefault(key, 'default') \\n\\nprint(result1, result2)\",\n",
       " '_i90': 'vars()'}"
      ]
     },
     "execution_count": 90,
     "metadata": {},
     "output_type": "execute_result"
    }
   ],
   "source": [
    "vars()"
   ]
  },
  {
   "cell_type": "code",
   "execution_count": 92,
   "metadata": {},
   "outputs": [
    {
     "data": {
      "text/plain": [
       "'reverse_dict = dict()\\n\\nfor k, v in dictionary.items():\\n    reverse_dict[v] = k\\n \\nreverse_dict'"
      ]
     },
     "execution_count": 92,
     "metadata": {},
     "output_type": "execute_result"
    }
   ],
   "source": [
    "_i79"
   ]
  },
  {
   "cell_type": "markdown",
   "metadata": {
    "id": "Wct_i_ufnWPX"
   },
   "source": [
    "## Множества (set)\n",
    "[Документация](https://docs.python.org/3/library/stdtypes.html#set-types-set-frozenset)\n",
    "\n",
    "В основе set тоже лежит хэш-таблица. \n",
    "\n",
    "- `set` - mutable \n",
    "- `frozenset` - immutable - брат-близнец для set, но неизменяемый"
   ]
  },
  {
   "cell_type": "code",
   "execution_count": 93,
   "metadata": {
    "colab": {
     "base_uri": "https://localhost:8080/"
    },
    "id": "vwKtbfnYnWPX",
    "outputId": "3f84206b-e4e9-4797-9c29-593e9de2a170"
   },
   "outputs": [
    {
     "data": {
      "text/plain": [
       "({1, 2, 3}, {2, 3, 4})"
      ]
     },
     "execution_count": 93,
     "metadata": {},
     "output_type": "execute_result"
    }
   ],
   "source": [
    "a = {1, 2, 3}\n",
    "b = set([2, 3, 4])\n",
    "a, b"
   ]
  },
  {
   "cell_type": "code",
   "execution_count": 94,
   "metadata": {},
   "outputs": [
    {
     "data": {
      "text/plain": [
       "['__and__',\n",
       " '__class__',\n",
       " '__contains__',\n",
       " '__delattr__',\n",
       " '__dir__',\n",
       " '__doc__',\n",
       " '__eq__',\n",
       " '__format__',\n",
       " '__ge__',\n",
       " '__getattribute__',\n",
       " '__gt__',\n",
       " '__hash__',\n",
       " '__iand__',\n",
       " '__init__',\n",
       " '__init_subclass__',\n",
       " '__ior__',\n",
       " '__isub__',\n",
       " '__iter__',\n",
       " '__ixor__',\n",
       " '__le__',\n",
       " '__len__',\n",
       " '__lt__',\n",
       " '__ne__',\n",
       " '__new__',\n",
       " '__or__',\n",
       " '__rand__',\n",
       " '__reduce__',\n",
       " '__reduce_ex__',\n",
       " '__repr__',\n",
       " '__ror__',\n",
       " '__rsub__',\n",
       " '__rxor__',\n",
       " '__setattr__',\n",
       " '__sizeof__',\n",
       " '__str__',\n",
       " '__sub__',\n",
       " '__subclasshook__',\n",
       " '__xor__',\n",
       " 'add',\n",
       " 'clear',\n",
       " 'copy',\n",
       " 'difference',\n",
       " 'difference_update',\n",
       " 'discard',\n",
       " 'intersection',\n",
       " 'intersection_update',\n",
       " 'isdisjoint',\n",
       " 'issubset',\n",
       " 'issuperset',\n",
       " 'pop',\n",
       " 'remove',\n",
       " 'symmetric_difference',\n",
       " 'symmetric_difference_update',\n",
       " 'union',\n",
       " 'update']"
      ]
     },
     "execution_count": 94,
     "metadata": {},
     "output_type": "execute_result"
    }
   ],
   "source": [
    "dir(a)"
   ]
  },
  {
   "cell_type": "code",
   "execution_count": 95,
   "metadata": {
    "colab": {
     "base_uri": "https://localhost:8080/"
    },
    "id": "4S26BgiMu-tm",
    "outputId": "0e4196fd-5d87-49b9-daa0-489299b0db87"
   },
   "outputs": [
    {
     "data": {
      "text/plain": [
       "({1, 2, 3, 5}, {2, 3, 4, 5, 6})"
      ]
     },
     "execution_count": 95,
     "metadata": {},
     "output_type": "execute_result"
    }
   ],
   "source": [
    "a.add(5)\n",
    "b.update({5, 6})  # объединить множество с другим множеством\n",
    "a, b"
   ]
  },
  {
   "cell_type": "code",
   "execution_count": 96,
   "metadata": {
    "colab": {
     "base_uri": "https://localhost:8080/",
     "height": 169
    },
    "id": "3LoPAy_4UOil",
    "outputId": "40bb36ce-e395-4734-bf9d-a736644ecba9"
   },
   "outputs": [
    {
     "ename": "TypeError",
     "evalue": "'set' object is not subscriptable",
     "output_type": "error",
     "traceback": [
      "\u001b[0;31m---------------------------------------------------------------------------\u001b[0m",
      "\u001b[0;31mTypeError\u001b[0m                                 Traceback (most recent call last)",
      "\u001b[0;32m/var/folders/v8/2cskhqjj0_g0zp3824glf1tm0000gn/T/ipykernel_20904/1109539928.py\u001b[0m in \u001b[0;36m<module>\u001b[0;34m\u001b[0m\n\u001b[0;32m----> 1\u001b[0;31m \u001b[0ma\u001b[0m\u001b[0;34m[\u001b[0m\u001b[0;36m0\u001b[0m\u001b[0;34m]\u001b[0m\u001b[0;34m\u001b[0m\u001b[0;34m\u001b[0m\u001b[0m\n\u001b[0m",
      "\u001b[0;31mTypeError\u001b[0m: 'set' object is not subscriptable"
     ]
    }
   ],
   "source": [
    "a[0]"
   ]
  },
  {
   "cell_type": "code",
   "execution_count": 97,
   "metadata": {},
   "outputs": [
    {
     "name": "stdout",
     "output_type": "stream",
     "text": [
      "1\n",
      "2\n",
      "3\n",
      "5\n"
     ]
    }
   ],
   "source": [
    "for x in a:\n",
    "    print(x)"
   ]
  },
  {
   "cell_type": "code",
   "execution_count": 98,
   "metadata": {
    "colab": {
     "base_uri": "https://localhost:8080/"
    },
    "id": "G6lZbiblnWPX",
    "outputId": "3cb8d272-aca0-450b-8d59-7578b90bf4e8"
   },
   "outputs": [
    {
     "name": "stdout",
     "output_type": "stream",
     "text": [
      "True\n",
      "\n",
      "False\n"
     ]
    }
   ],
   "source": [
    "print(3 in b)\n",
    "print()\n",
    "print(5 not in b)"
   ]
  },
  {
   "cell_type": "code",
   "execution_count": 99,
   "metadata": {
    "colab": {
     "base_uri": "https://localhost:8080/"
    },
    "id": "yrx5p-R0vQnS",
    "outputId": "f6c545d8-c45f-4c9f-c218-639ca73c771c"
   },
   "outputs": [
    {
     "name": "stdout",
     "output_type": "stream",
     "text": [
      "False\n",
      "\n",
      "False\n",
      "\n"
     ]
    },
    {
     "data": {
      "text/plain": [
       "False"
      ]
     },
     "execution_count": 99,
     "metadata": {},
     "output_type": "execute_result"
    }
   ],
   "source": [
    "print(b.issubset(a))   # equivalent to b <= a\n",
    "print()\n",
    "print(a.issuperset(b)) # equivalent to a >= b\n",
    "print()\n",
    "a.isdisjoint(b)        # True если пустое пересечение; equivalent to \"not a & b\""
   ]
  },
  {
   "cell_type": "code",
   "execution_count": 100,
   "metadata": {
    "colab": {
     "base_uri": "https://localhost:8080/"
    },
    "id": "HDzAT7d4V6ap",
    "outputId": "e4f221f9-3686-484a-8866-9e698d3c2bc7"
   },
   "outputs": [
    {
     "data": {
      "text/plain": [
       "({1, 2, 3, 5}, {2, 3, 4, 5, 6})"
      ]
     },
     "execution_count": 100,
     "metadata": {},
     "output_type": "execute_result"
    }
   ],
   "source": [
    "a, b"
   ]
  },
  {
   "cell_type": "code",
   "execution_count": 101,
   "metadata": {
    "colab": {
     "base_uri": "https://localhost:8080/"
    },
    "id": "dDjltlzCnWPY",
    "outputId": "6668b071-12d4-4fc8-e099-65341c9bfcaf"
   },
   "outputs": [
    {
     "name": "stdout",
     "output_type": "stream",
     "text": [
      "{1}\n",
      "{4, 6}\n",
      "{1, 2, 3, 4, 5, 6}\n",
      "{2, 3, 5}\n",
      "{1, 4, 6}\n"
     ]
    }
   ],
   "source": [
    "print(a - b)  # a\\b\n",
    "print(b - a)  # b\\a\n",
    "print(a | b)  # объединение\n",
    "print(a & b)  # пересечение\n",
    "print(a ^ b)  # аналог XOR"
   ]
  },
  {
   "cell_type": "code",
   "execution_count": null,
   "metadata": {
    "colab": {
     "base_uri": "https://localhost:8080/"
    },
    "id": "fYmAdlnNrcsl",
    "outputId": "926152c1-ac3a-4691-a49a-72637281e772"
   },
   "outputs": [],
   "source": [
    "a, b"
   ]
  },
  {
   "cell_type": "code",
   "execution_count": 102,
   "metadata": {
    "colab": {
     "base_uri": "https://localhost:8080/"
    },
    "id": "SBKuQKAgnWPY",
    "outputId": "f931ba06-0547-41a4-8b69-899945d0ce9e"
   },
   "outputs": [
    {
     "name": "stdout",
     "output_type": "stream",
     "text": [
      "{1}\n",
      "{1, 2, 3, 4, 5, 6}\n",
      "{2, 3, 5}\n",
      "{1, 4, 6}\n",
      "4383131904\n",
      "None\n",
      "{1}\n",
      "None\n",
      "{1, 2, 3, 4, 5, 6}\n",
      "None\n",
      "{2, 3, 4, 5, 6}\n",
      "None\n",
      "set()\n",
      "4383131904\n"
     ]
    }
   ],
   "source": [
    "print(a.difference(b))             # a - b\n",
    "print(a.union(b))                  # a | b\n",
    "print(a.intersection(b))           # a & b\n",
    "print(a.symmetric_difference(b))   # a ^ b\n",
    "\n",
    "print(id(a))\n",
    "\n",
    "print(a.difference_update(b))            # a -= b  # a = a - b\n",
    "print(a)\n",
    "print(a.update(b))                       # a |= b  # a = a | b\n",
    "print(a)\n",
    "print(a.intersection_update(b))          # a &= b\n",
    "print(a)\n",
    "print(a.symmetric_difference_update(b))  # a ^= b\n",
    "print(a)\n",
    "print(id(a))"
   ]
  },
  {
   "cell_type": "code",
   "execution_count": 103,
   "metadata": {
    "colab": {
     "base_uri": "https://localhost:8080/"
    },
    "id": "Du4VdsNKruYV",
    "outputId": "047a3efb-6498-4c79-fd54-29634ee86289"
   },
   "outputs": [
    {
     "data": {
      "text/plain": [
       "set()"
      ]
     },
     "execution_count": 103,
     "metadata": {},
     "output_type": "execute_result"
    }
   ],
   "source": [
    "a"
   ]
  },
  {
   "cell_type": "code",
   "execution_count": 104,
   "metadata": {
    "colab": {
     "base_uri": "https://localhost:8080/"
    },
    "id": "eRKTDkvPsDFU",
    "outputId": "9938a9de-de9f-4a55-80e6-5e621ebe4acf"
   },
   "outputs": [
    {
     "data": {
      "text/plain": [
       "({}, dict)"
      ]
     },
     "execution_count": 104,
     "metadata": {},
     "output_type": "execute_result"
    }
   ],
   "source": [
    "{}, type({})"
   ]
  },
  {
   "cell_type": "code",
   "execution_count": 105,
   "metadata": {
    "colab": {
     "base_uri": "https://localhost:8080/"
    },
    "id": "MZR-tO7JsLy3",
    "outputId": "9c56e01c-07e3-43f7-87ff-3d942e85e82b"
   },
   "outputs": [
    {
     "data": {
      "text/plain": [
       "(set(), set)"
      ]
     },
     "execution_count": 105,
     "metadata": {},
     "output_type": "execute_result"
    }
   ],
   "source": [
    "set(), type(set())"
   ]
  },
  {
   "cell_type": "code",
   "execution_count": 106,
   "metadata": {
    "colab": {
     "base_uri": "https://localhost:8080/"
    },
    "id": "EPGcHSJcxGax",
    "outputId": "663a3e27-08af-496a-86c8-a20236f3e5fa"
   },
   "outputs": [
    {
     "data": {
      "text/plain": [
       "{1, 2, 3}"
      ]
     },
     "execution_count": 106,
     "metadata": {},
     "output_type": "execute_result"
    }
   ],
   "source": [
    "{1, 1, 1, 2, 2, 2, 3, 3, 3}"
   ]
  },
  {
   "cell_type": "code",
   "execution_count": 107,
   "metadata": {
    "colab": {
     "base_uri": "https://localhost:8080/",
     "height": 222
    },
    "id": "nZHRVUSSnWPY",
    "outputId": "3a765b36-5ec9-446d-977c-92141a81b701"
   },
   "outputs": [
    {
     "name": "stdout",
     "output_type": "stream",
     "text": [
      "{1, 2} None\n"
     ]
    },
    {
     "ename": "KeyError",
     "evalue": "3",
     "output_type": "error",
     "traceback": [
      "\u001b[0;31m---------------------------------------------------------------------------\u001b[0m",
      "\u001b[0;31mKeyError\u001b[0m                                  Traceback (most recent call last)",
      "\u001b[0;32m/var/folders/v8/2cskhqjj0_g0zp3824glf1tm0000gn/T/ipykernel_20904/886879175.py\u001b[0m in \u001b[0;36m<module>\u001b[0;34m\u001b[0m\n\u001b[1;32m      2\u001b[0m \u001b[0mb\u001b[0m \u001b[0;34m=\u001b[0m \u001b[0ma\u001b[0m\u001b[0;34m.\u001b[0m\u001b[0mremove\u001b[0m\u001b[0;34m(\u001b[0m\u001b[0;36m3\u001b[0m\u001b[0;34m)\u001b[0m\u001b[0;34m\u001b[0m\u001b[0;34m\u001b[0m\u001b[0m\n\u001b[1;32m      3\u001b[0m \u001b[0mprint\u001b[0m\u001b[0;34m(\u001b[0m\u001b[0ma\u001b[0m\u001b[0;34m,\u001b[0m \u001b[0mb\u001b[0m\u001b[0;34m)\u001b[0m\u001b[0;34m\u001b[0m\u001b[0;34m\u001b[0m\u001b[0m\n\u001b[0;32m----> 4\u001b[0;31m \u001b[0ma\u001b[0m\u001b[0;34m.\u001b[0m\u001b[0mremove\u001b[0m\u001b[0;34m(\u001b[0m\u001b[0;36m3\u001b[0m\u001b[0;34m)\u001b[0m\u001b[0;34m\u001b[0m\u001b[0;34m\u001b[0m\u001b[0m\n\u001b[0m",
      "\u001b[0;31mKeyError\u001b[0m: 3"
     ]
    }
   ],
   "source": [
    "a = {1, 2, 3}\n",
    "b = a.remove(3)\n",
    "print(a, b)\n",
    "a.remove(3)"
   ]
  },
  {
   "cell_type": "code",
   "execution_count": 108,
   "metadata": {
    "colab": {
     "base_uri": "https://localhost:8080/"
    },
    "id": "K1o7w9vrnWPZ",
    "outputId": "e98848b3-e2c5-4148-d0ba-bd4dfa1377c5"
   },
   "outputs": [
    {
     "name": "stdout",
     "output_type": "stream",
     "text": [
      "{1, 2}\n",
      "\n",
      "{1, 2}\n",
      "\n"
     ]
    },
    {
     "data": {
      "text/plain": [
       "(True, None)"
      ]
     },
     "execution_count": 108,
     "metadata": {},
     "output_type": "execute_result"
    }
   ],
   "source": [
    "a = {1, 2, 3}\n",
    "b = a.discard(3)\n",
    "print(a)\n",
    "a.discard(3)\n",
    "print()\n",
    "print(a)\n",
    "print()\n",
    "a.discard(3) is None, b"
   ]
  },
  {
   "cell_type": "code",
   "execution_count": null,
   "metadata": {
    "colab": {
     "base_uri": "https://localhost:8080/"
    },
    "id": "Nz42VPGVsov1",
    "outputId": "12f79141-5730-4fd1-afc8-bbe2bb057703"
   },
   "outputs": [],
   "source": [
    "help(set.discard)"
   ]
  },
  {
   "cell_type": "markdown",
   "metadata": {
    "id": "OZPxKiPwnWPZ"
   },
   "source": [
    "Существуют и генераторы множеств"
   ]
  },
  {
   "cell_type": "code",
   "execution_count": 109,
   "metadata": {
    "colab": {
     "base_uri": "https://localhost:8080/"
    },
    "id": "BtRzz0f_nWPZ",
    "outputId": "082777d7-f4e1-4ff2-d674-502f3bad1be4"
   },
   "outputs": [
    {
     "data": {
      "text/plain": [
       "{0, 3, 6, 9}"
      ]
     },
     "execution_count": 109,
     "metadata": {},
     "output_type": "execute_result"
    }
   ],
   "source": [
    "st = {i for i in range(10) if not i % 3}\n",
    "st"
   ]
  },
  {
   "cell_type": "code",
   "execution_count": 110,
   "metadata": {
    "colab": {
     "base_uri": "https://localhost:8080/",
     "height": 169
    },
    "id": "np-eQ_9vnWPZ",
    "outputId": "839ba18f-db0f-41b9-8ac0-4505f85a8854"
   },
   "outputs": [
    {
     "ename": "TypeError",
     "evalue": "unhashable type: 'set'",
     "output_type": "error",
     "traceback": [
      "\u001b[0;31m---------------------------------------------------------------------------\u001b[0m",
      "\u001b[0;31mTypeError\u001b[0m                                 Traceback (most recent call last)",
      "\u001b[0;32m/var/folders/v8/2cskhqjj0_g0zp3824glf1tm0000gn/T/ipykernel_20904/1159001632.py\u001b[0m in \u001b[0;36m<module>\u001b[0;34m\u001b[0m\n\u001b[0;32m----> 1\u001b[0;31m \u001b[0md\u001b[0m \u001b[0;34m=\u001b[0m \u001b[0;34m{\u001b[0m\u001b[0mst\u001b[0m\u001b[0;34m:\u001b[0m \u001b[0;36m1\u001b[0m\u001b[0;34m}\u001b[0m  \u001b[0;31m# set тоже не является хэшируемым\u001b[0m\u001b[0;34m\u001b[0m\u001b[0;34m\u001b[0m\u001b[0m\n\u001b[0m",
      "\u001b[0;31mTypeError\u001b[0m: unhashable type: 'set'"
     ]
    }
   ],
   "source": [
    "d = {st: 1}  # set тоже не является хэшируемым"
   ]
  },
  {
   "cell_type": "code",
   "execution_count": 111,
   "metadata": {
    "colab": {
     "base_uri": "https://localhost:8080/"
    },
    "id": "N_ztq5ymnWPZ",
    "outputId": "145c8d93-4cac-4345-857b-5a9d87b7820c"
   },
   "outputs": [
    {
     "data": {
      "text/plain": [
       "{frozenset({0, 3, 6, 9}): 6}"
      ]
     },
     "execution_count": 111,
     "metadata": {},
     "output_type": "execute_result"
    }
   ],
   "source": [
    "d = {frozenset(st): 6}  # а вот frozenset уже можно хэшировать, так как он является неизменяемым объектом\n",
    "d"
   ]
  },
  {
   "cell_type": "code",
   "execution_count": 112,
   "metadata": {
    "colab": {
     "base_uri": "https://localhost:8080/"
    },
    "id": "Pi2kc0aiyHmS",
    "outputId": "16756ff4-1e70-4d29-ae16-6f360725ede9"
   },
   "outputs": [
    {
     "data": {
      "text/plain": [
       "frozenset"
      ]
     },
     "execution_count": 112,
     "metadata": {},
     "output_type": "execute_result"
    }
   ],
   "source": [
    "type(frozenset(st))"
   ]
  },
  {
   "cell_type": "markdown",
   "metadata": {
    "id": "ailhWQUknWPZ"
   },
   "source": [
    "# Для чего удобно использовать dict и set?\n",
    "\n",
    "### Установление однозначного соответствия каждому объекту из множества ключей какого-то другого объекта (условно можно удобно реализовать словарь для перевода с одного языка на другой)\n",
    "\n",
    "### Для подсчета уникальных элементов в списке/уникальных слов в тексте\n",
    "\n",
    "### Для быстрой проверки элемента на вхождение: поиск по ключу в dict и set выполняется за O(1) (в среднем): от объекта вычисляется хэш и проверяется, есть ли такой хэш в контейнере"
   ]
  },
  {
   "cell_type": "code",
   "execution_count": null,
   "metadata": {
    "id": "ofwt71dSnWPa"
   },
   "outputs": [],
   "source": [
    "2 in a  # O(1), O(n), O(n * log n), O(log n)"
   ]
  },
  {
   "cell_type": "code",
   "execution_count": 117,
   "metadata": {},
   "outputs": [],
   "source": [
    "x = list(range(2000))"
   ]
  },
  {
   "cell_type": "code",
   "execution_count": 118,
   "metadata": {
    "collapsed": true
   },
   "outputs": [
    {
     "data": {
      "text/plain": [
       "[0,\n",
       " 1,\n",
       " 2,\n",
       " 3,\n",
       " 4,\n",
       " 5,\n",
       " 6,\n",
       " 7,\n",
       " 8,\n",
       " 9,\n",
       " 10,\n",
       " 11,\n",
       " 12,\n",
       " 13,\n",
       " 14,\n",
       " 15,\n",
       " 16,\n",
       " 17,\n",
       " 18,\n",
       " 19,\n",
       " 20,\n",
       " 21,\n",
       " 22,\n",
       " 23,\n",
       " 24,\n",
       " 25,\n",
       " 26,\n",
       " 27,\n",
       " 28,\n",
       " 29,\n",
       " 30,\n",
       " 31,\n",
       " 32,\n",
       " 33,\n",
       " 34,\n",
       " 35,\n",
       " 36,\n",
       " 37,\n",
       " 38,\n",
       " 39,\n",
       " 40,\n",
       " 41,\n",
       " 42,\n",
       " 43,\n",
       " 44,\n",
       " 45,\n",
       " 46,\n",
       " 47,\n",
       " 48,\n",
       " 49,\n",
       " 50,\n",
       " 51,\n",
       " 52,\n",
       " 53,\n",
       " 54,\n",
       " 55,\n",
       " 56,\n",
       " 57,\n",
       " 58,\n",
       " 59,\n",
       " 60,\n",
       " 61,\n",
       " 62,\n",
       " 63,\n",
       " 64,\n",
       " 65,\n",
       " 66,\n",
       " 67,\n",
       " 68,\n",
       " 69,\n",
       " 70,\n",
       " 71,\n",
       " 72,\n",
       " 73,\n",
       " 74,\n",
       " 75,\n",
       " 76,\n",
       " 77,\n",
       " 78,\n",
       " 79,\n",
       " 80,\n",
       " 81,\n",
       " 82,\n",
       " 83,\n",
       " 84,\n",
       " 85,\n",
       " 86,\n",
       " 87,\n",
       " 88,\n",
       " 89,\n",
       " 90,\n",
       " 91,\n",
       " 92,\n",
       " 93,\n",
       " 94,\n",
       " 95,\n",
       " 96,\n",
       " 97,\n",
       " 98,\n",
       " 99,\n",
       " 100,\n",
       " 101,\n",
       " 102,\n",
       " 103,\n",
       " 104,\n",
       " 105,\n",
       " 106,\n",
       " 107,\n",
       " 108,\n",
       " 109,\n",
       " 110,\n",
       " 111,\n",
       " 112,\n",
       " 113,\n",
       " 114,\n",
       " 115,\n",
       " 116,\n",
       " 117,\n",
       " 118,\n",
       " 119,\n",
       " 120,\n",
       " 121,\n",
       " 122,\n",
       " 123,\n",
       " 124,\n",
       " 125,\n",
       " 126,\n",
       " 127,\n",
       " 128,\n",
       " 129,\n",
       " 130,\n",
       " 131,\n",
       " 132,\n",
       " 133,\n",
       " 134,\n",
       " 135,\n",
       " 136,\n",
       " 137,\n",
       " 138,\n",
       " 139,\n",
       " 140,\n",
       " 141,\n",
       " 142,\n",
       " 143,\n",
       " 144,\n",
       " 145,\n",
       " 146,\n",
       " 147,\n",
       " 148,\n",
       " 149,\n",
       " 150,\n",
       " 151,\n",
       " 152,\n",
       " 153,\n",
       " 154,\n",
       " 155,\n",
       " 156,\n",
       " 157,\n",
       " 158,\n",
       " 159,\n",
       " 160,\n",
       " 161,\n",
       " 162,\n",
       " 163,\n",
       " 164,\n",
       " 165,\n",
       " 166,\n",
       " 167,\n",
       " 168,\n",
       " 169,\n",
       " 170,\n",
       " 171,\n",
       " 172,\n",
       " 173,\n",
       " 174,\n",
       " 175,\n",
       " 176,\n",
       " 177,\n",
       " 178,\n",
       " 179,\n",
       " 180,\n",
       " 181,\n",
       " 182,\n",
       " 183,\n",
       " 184,\n",
       " 185,\n",
       " 186,\n",
       " 187,\n",
       " 188,\n",
       " 189,\n",
       " 190,\n",
       " 191,\n",
       " 192,\n",
       " 193,\n",
       " 194,\n",
       " 195,\n",
       " 196,\n",
       " 197,\n",
       " 198,\n",
       " 199,\n",
       " 200,\n",
       " 201,\n",
       " 202,\n",
       " 203,\n",
       " 204,\n",
       " 205,\n",
       " 206,\n",
       " 207,\n",
       " 208,\n",
       " 209,\n",
       " 210,\n",
       " 211,\n",
       " 212,\n",
       " 213,\n",
       " 214,\n",
       " 215,\n",
       " 216,\n",
       " 217,\n",
       " 218,\n",
       " 219,\n",
       " 220,\n",
       " 221,\n",
       " 222,\n",
       " 223,\n",
       " 224,\n",
       " 225,\n",
       " 226,\n",
       " 227,\n",
       " 228,\n",
       " 229,\n",
       " 230,\n",
       " 231,\n",
       " 232,\n",
       " 233,\n",
       " 234,\n",
       " 235,\n",
       " 236,\n",
       " 237,\n",
       " 238,\n",
       " 239,\n",
       " 240,\n",
       " 241,\n",
       " 242,\n",
       " 243,\n",
       " 244,\n",
       " 245,\n",
       " 246,\n",
       " 247,\n",
       " 248,\n",
       " 249,\n",
       " 250,\n",
       " 251,\n",
       " 252,\n",
       " 253,\n",
       " 254,\n",
       " 255,\n",
       " 256,\n",
       " 257,\n",
       " 258,\n",
       " 259,\n",
       " 260,\n",
       " 261,\n",
       " 262,\n",
       " 263,\n",
       " 264,\n",
       " 265,\n",
       " 266,\n",
       " 267,\n",
       " 268,\n",
       " 269,\n",
       " 270,\n",
       " 271,\n",
       " 272,\n",
       " 273,\n",
       " 274,\n",
       " 275,\n",
       " 276,\n",
       " 277,\n",
       " 278,\n",
       " 279,\n",
       " 280,\n",
       " 281,\n",
       " 282,\n",
       " 283,\n",
       " 284,\n",
       " 285,\n",
       " 286,\n",
       " 287,\n",
       " 288,\n",
       " 289,\n",
       " 290,\n",
       " 291,\n",
       " 292,\n",
       " 293,\n",
       " 294,\n",
       " 295,\n",
       " 296,\n",
       " 297,\n",
       " 298,\n",
       " 299,\n",
       " 300,\n",
       " 301,\n",
       " 302,\n",
       " 303,\n",
       " 304,\n",
       " 305,\n",
       " 306,\n",
       " 307,\n",
       " 308,\n",
       " 309,\n",
       " 310,\n",
       " 311,\n",
       " 312,\n",
       " 313,\n",
       " 314,\n",
       " 315,\n",
       " 316,\n",
       " 317,\n",
       " 318,\n",
       " 319,\n",
       " 320,\n",
       " 321,\n",
       " 322,\n",
       " 323,\n",
       " 324,\n",
       " 325,\n",
       " 326,\n",
       " 327,\n",
       " 328,\n",
       " 329,\n",
       " 330,\n",
       " 331,\n",
       " 332,\n",
       " 333,\n",
       " 334,\n",
       " 335,\n",
       " 336,\n",
       " 337,\n",
       " 338,\n",
       " 339,\n",
       " 340,\n",
       " 341,\n",
       " 342,\n",
       " 343,\n",
       " 344,\n",
       " 345,\n",
       " 346,\n",
       " 347,\n",
       " 348,\n",
       " 349,\n",
       " 350,\n",
       " 351,\n",
       " 352,\n",
       " 353,\n",
       " 354,\n",
       " 355,\n",
       " 356,\n",
       " 357,\n",
       " 358,\n",
       " 359,\n",
       " 360,\n",
       " 361,\n",
       " 362,\n",
       " 363,\n",
       " 364,\n",
       " 365,\n",
       " 366,\n",
       " 367,\n",
       " 368,\n",
       " 369,\n",
       " 370,\n",
       " 371,\n",
       " 372,\n",
       " 373,\n",
       " 374,\n",
       " 375,\n",
       " 376,\n",
       " 377,\n",
       " 378,\n",
       " 379,\n",
       " 380,\n",
       " 381,\n",
       " 382,\n",
       " 383,\n",
       " 384,\n",
       " 385,\n",
       " 386,\n",
       " 387,\n",
       " 388,\n",
       " 389,\n",
       " 390,\n",
       " 391,\n",
       " 392,\n",
       " 393,\n",
       " 394,\n",
       " 395,\n",
       " 396,\n",
       " 397,\n",
       " 398,\n",
       " 399,\n",
       " 400,\n",
       " 401,\n",
       " 402,\n",
       " 403,\n",
       " 404,\n",
       " 405,\n",
       " 406,\n",
       " 407,\n",
       " 408,\n",
       " 409,\n",
       " 410,\n",
       " 411,\n",
       " 412,\n",
       " 413,\n",
       " 414,\n",
       " 415,\n",
       " 416,\n",
       " 417,\n",
       " 418,\n",
       " 419,\n",
       " 420,\n",
       " 421,\n",
       " 422,\n",
       " 423,\n",
       " 424,\n",
       " 425,\n",
       " 426,\n",
       " 427,\n",
       " 428,\n",
       " 429,\n",
       " 430,\n",
       " 431,\n",
       " 432,\n",
       " 433,\n",
       " 434,\n",
       " 435,\n",
       " 436,\n",
       " 437,\n",
       " 438,\n",
       " 439,\n",
       " 440,\n",
       " 441,\n",
       " 442,\n",
       " 443,\n",
       " 444,\n",
       " 445,\n",
       " 446,\n",
       " 447,\n",
       " 448,\n",
       " 449,\n",
       " 450,\n",
       " 451,\n",
       " 452,\n",
       " 453,\n",
       " 454,\n",
       " 455,\n",
       " 456,\n",
       " 457,\n",
       " 458,\n",
       " 459,\n",
       " 460,\n",
       " 461,\n",
       " 462,\n",
       " 463,\n",
       " 464,\n",
       " 465,\n",
       " 466,\n",
       " 467,\n",
       " 468,\n",
       " 469,\n",
       " 470,\n",
       " 471,\n",
       " 472,\n",
       " 473,\n",
       " 474,\n",
       " 475,\n",
       " 476,\n",
       " 477,\n",
       " 478,\n",
       " 479,\n",
       " 480,\n",
       " 481,\n",
       " 482,\n",
       " 483,\n",
       " 484,\n",
       " 485,\n",
       " 486,\n",
       " 487,\n",
       " 488,\n",
       " 489,\n",
       " 490,\n",
       " 491,\n",
       " 492,\n",
       " 493,\n",
       " 494,\n",
       " 495,\n",
       " 496,\n",
       " 497,\n",
       " 498,\n",
       " 499,\n",
       " 500,\n",
       " 501,\n",
       " 502,\n",
       " 503,\n",
       " 504,\n",
       " 505,\n",
       " 506,\n",
       " 507,\n",
       " 508,\n",
       " 509,\n",
       " 510,\n",
       " 511,\n",
       " 512,\n",
       " 513,\n",
       " 514,\n",
       " 515,\n",
       " 516,\n",
       " 517,\n",
       " 518,\n",
       " 519,\n",
       " 520,\n",
       " 521,\n",
       " 522,\n",
       " 523,\n",
       " 524,\n",
       " 525,\n",
       " 526,\n",
       " 527,\n",
       " 528,\n",
       " 529,\n",
       " 530,\n",
       " 531,\n",
       " 532,\n",
       " 533,\n",
       " 534,\n",
       " 535,\n",
       " 536,\n",
       " 537,\n",
       " 538,\n",
       " 539,\n",
       " 540,\n",
       " 541,\n",
       " 542,\n",
       " 543,\n",
       " 544,\n",
       " 545,\n",
       " 546,\n",
       " 547,\n",
       " 548,\n",
       " 549,\n",
       " 550,\n",
       " 551,\n",
       " 552,\n",
       " 553,\n",
       " 554,\n",
       " 555,\n",
       " 556,\n",
       " 557,\n",
       " 558,\n",
       " 559,\n",
       " 560,\n",
       " 561,\n",
       " 562,\n",
       " 563,\n",
       " 564,\n",
       " 565,\n",
       " 566,\n",
       " 567,\n",
       " 568,\n",
       " 569,\n",
       " 570,\n",
       " 571,\n",
       " 572,\n",
       " 573,\n",
       " 574,\n",
       " 575,\n",
       " 576,\n",
       " 577,\n",
       " 578,\n",
       " 579,\n",
       " 580,\n",
       " 581,\n",
       " 582,\n",
       " 583,\n",
       " 584,\n",
       " 585,\n",
       " 586,\n",
       " 587,\n",
       " 588,\n",
       " 589,\n",
       " 590,\n",
       " 591,\n",
       " 592,\n",
       " 593,\n",
       " 594,\n",
       " 595,\n",
       " 596,\n",
       " 597,\n",
       " 598,\n",
       " 599,\n",
       " 600,\n",
       " 601,\n",
       " 602,\n",
       " 603,\n",
       " 604,\n",
       " 605,\n",
       " 606,\n",
       " 607,\n",
       " 608,\n",
       " 609,\n",
       " 610,\n",
       " 611,\n",
       " 612,\n",
       " 613,\n",
       " 614,\n",
       " 615,\n",
       " 616,\n",
       " 617,\n",
       " 618,\n",
       " 619,\n",
       " 620,\n",
       " 621,\n",
       " 622,\n",
       " 623,\n",
       " 624,\n",
       " 625,\n",
       " 626,\n",
       " 627,\n",
       " 628,\n",
       " 629,\n",
       " 630,\n",
       " 631,\n",
       " 632,\n",
       " 633,\n",
       " 634,\n",
       " 635,\n",
       " 636,\n",
       " 637,\n",
       " 638,\n",
       " 639,\n",
       " 640,\n",
       " 641,\n",
       " 642,\n",
       " 643,\n",
       " 644,\n",
       " 645,\n",
       " 646,\n",
       " 647,\n",
       " 648,\n",
       " 649,\n",
       " 650,\n",
       " 651,\n",
       " 652,\n",
       " 653,\n",
       " 654,\n",
       " 655,\n",
       " 656,\n",
       " 657,\n",
       " 658,\n",
       " 659,\n",
       " 660,\n",
       " 661,\n",
       " 662,\n",
       " 663,\n",
       " 664,\n",
       " 665,\n",
       " 666,\n",
       " 667,\n",
       " 668,\n",
       " 669,\n",
       " 670,\n",
       " 671,\n",
       " 672,\n",
       " 673,\n",
       " 674,\n",
       " 675,\n",
       " 676,\n",
       " 677,\n",
       " 678,\n",
       " 679,\n",
       " 680,\n",
       " 681,\n",
       " 682,\n",
       " 683,\n",
       " 684,\n",
       " 685,\n",
       " 686,\n",
       " 687,\n",
       " 688,\n",
       " 689,\n",
       " 690,\n",
       " 691,\n",
       " 692,\n",
       " 693,\n",
       " 694,\n",
       " 695,\n",
       " 696,\n",
       " 697,\n",
       " 698,\n",
       " 699,\n",
       " 700,\n",
       " 701,\n",
       " 702,\n",
       " 703,\n",
       " 704,\n",
       " 705,\n",
       " 706,\n",
       " 707,\n",
       " 708,\n",
       " 709,\n",
       " 710,\n",
       " 711,\n",
       " 712,\n",
       " 713,\n",
       " 714,\n",
       " 715,\n",
       " 716,\n",
       " 717,\n",
       " 718,\n",
       " 719,\n",
       " 720,\n",
       " 721,\n",
       " 722,\n",
       " 723,\n",
       " 724,\n",
       " 725,\n",
       " 726,\n",
       " 727,\n",
       " 728,\n",
       " 729,\n",
       " 730,\n",
       " 731,\n",
       " 732,\n",
       " 733,\n",
       " 734,\n",
       " 735,\n",
       " 736,\n",
       " 737,\n",
       " 738,\n",
       " 739,\n",
       " 740,\n",
       " 741,\n",
       " 742,\n",
       " 743,\n",
       " 744,\n",
       " 745,\n",
       " 746,\n",
       " 747,\n",
       " 748,\n",
       " 749,\n",
       " 750,\n",
       " 751,\n",
       " 752,\n",
       " 753,\n",
       " 754,\n",
       " 755,\n",
       " 756,\n",
       " 757,\n",
       " 758,\n",
       " 759,\n",
       " 760,\n",
       " 761,\n",
       " 762,\n",
       " 763,\n",
       " 764,\n",
       " 765,\n",
       " 766,\n",
       " 767,\n",
       " 768,\n",
       " 769,\n",
       " 770,\n",
       " 771,\n",
       " 772,\n",
       " 773,\n",
       " 774,\n",
       " 775,\n",
       " 776,\n",
       " 777,\n",
       " 778,\n",
       " 779,\n",
       " 780,\n",
       " 781,\n",
       " 782,\n",
       " 783,\n",
       " 784,\n",
       " 785,\n",
       " 786,\n",
       " 787,\n",
       " 788,\n",
       " 789,\n",
       " 790,\n",
       " 791,\n",
       " 792,\n",
       " 793,\n",
       " 794,\n",
       " 795,\n",
       " 796,\n",
       " 797,\n",
       " 798,\n",
       " 799,\n",
       " 800,\n",
       " 801,\n",
       " 802,\n",
       " 803,\n",
       " 804,\n",
       " 805,\n",
       " 806,\n",
       " 807,\n",
       " 808,\n",
       " 809,\n",
       " 810,\n",
       " 811,\n",
       " 812,\n",
       " 813,\n",
       " 814,\n",
       " 815,\n",
       " 816,\n",
       " 817,\n",
       " 818,\n",
       " 819,\n",
       " 820,\n",
       " 821,\n",
       " 822,\n",
       " 823,\n",
       " 824,\n",
       " 825,\n",
       " 826,\n",
       " 827,\n",
       " 828,\n",
       " 829,\n",
       " 830,\n",
       " 831,\n",
       " 832,\n",
       " 833,\n",
       " 834,\n",
       " 835,\n",
       " 836,\n",
       " 837,\n",
       " 838,\n",
       " 839,\n",
       " 840,\n",
       " 841,\n",
       " 842,\n",
       " 843,\n",
       " 844,\n",
       " 845,\n",
       " 846,\n",
       " 847,\n",
       " 848,\n",
       " 849,\n",
       " 850,\n",
       " 851,\n",
       " 852,\n",
       " 853,\n",
       " 854,\n",
       " 855,\n",
       " 856,\n",
       " 857,\n",
       " 858,\n",
       " 859,\n",
       " 860,\n",
       " 861,\n",
       " 862,\n",
       " 863,\n",
       " 864,\n",
       " 865,\n",
       " 866,\n",
       " 867,\n",
       " 868,\n",
       " 869,\n",
       " 870,\n",
       " 871,\n",
       " 872,\n",
       " 873,\n",
       " 874,\n",
       " 875,\n",
       " 876,\n",
       " 877,\n",
       " 878,\n",
       " 879,\n",
       " 880,\n",
       " 881,\n",
       " 882,\n",
       " 883,\n",
       " 884,\n",
       " 885,\n",
       " 886,\n",
       " 887,\n",
       " 888,\n",
       " 889,\n",
       " 890,\n",
       " 891,\n",
       " 892,\n",
       " 893,\n",
       " 894,\n",
       " 895,\n",
       " 896,\n",
       " 897,\n",
       " 898,\n",
       " 899,\n",
       " 900,\n",
       " 901,\n",
       " 902,\n",
       " 903,\n",
       " 904,\n",
       " 905,\n",
       " 906,\n",
       " 907,\n",
       " 908,\n",
       " 909,\n",
       " 910,\n",
       " 911,\n",
       " 912,\n",
       " 913,\n",
       " 914,\n",
       " 915,\n",
       " 916,\n",
       " 917,\n",
       " 918,\n",
       " 919,\n",
       " 920,\n",
       " 921,\n",
       " 922,\n",
       " 923,\n",
       " 924,\n",
       " 925,\n",
       " 926,\n",
       " 927,\n",
       " 928,\n",
       " 929,\n",
       " 930,\n",
       " 931,\n",
       " 932,\n",
       " 933,\n",
       " 934,\n",
       " 935,\n",
       " 936,\n",
       " 937,\n",
       " 938,\n",
       " 939,\n",
       " 940,\n",
       " 941,\n",
       " 942,\n",
       " 943,\n",
       " 944,\n",
       " 945,\n",
       " 946,\n",
       " 947,\n",
       " 948,\n",
       " 949,\n",
       " 950,\n",
       " 951,\n",
       " 952,\n",
       " 953,\n",
       " 954,\n",
       " 955,\n",
       " 956,\n",
       " 957,\n",
       " 958,\n",
       " 959,\n",
       " 960,\n",
       " 961,\n",
       " 962,\n",
       " 963,\n",
       " 964,\n",
       " 965,\n",
       " 966,\n",
       " 967,\n",
       " 968,\n",
       " 969,\n",
       " 970,\n",
       " 971,\n",
       " 972,\n",
       " 973,\n",
       " 974,\n",
       " 975,\n",
       " 976,\n",
       " 977,\n",
       " 978,\n",
       " 979,\n",
       " 980,\n",
       " 981,\n",
       " 982,\n",
       " 983,\n",
       " 984,\n",
       " 985,\n",
       " 986,\n",
       " 987,\n",
       " 988,\n",
       " 989,\n",
       " 990,\n",
       " 991,\n",
       " 992,\n",
       " 993,\n",
       " 994,\n",
       " 995,\n",
       " 996,\n",
       " 997,\n",
       " 998,\n",
       " 999,\n",
       " ...]"
      ]
     },
     "execution_count": 118,
     "metadata": {},
     "output_type": "execute_result"
    }
   ],
   "source": [
    "[0, 1, 2, 3, 4, 5, 6, 7, 8]"
   ]
  },
  {
   "cell_type": "code",
   "execution_count": 116,
   "metadata": {
    "collapsed": true
   },
   "outputs": [
    {
     "data": {
      "text/plain": [
       "[1924,\n",
       " 479,\n",
       " 1971,\n",
       " 268,\n",
       " 1913,\n",
       " 201,\n",
       " 692,\n",
       " 1051,\n",
       " 1910,\n",
       " 1366,\n",
       " 432,\n",
       " 45,\n",
       " 996,\n",
       " 242,\n",
       " 189,\n",
       " 961,\n",
       " 1283,\n",
       " 1320,\n",
       " 831,\n",
       " 366,\n",
       " 1345,\n",
       " 1611,\n",
       " 291,\n",
       " 627,\n",
       " 1512,\n",
       " 121,\n",
       " 1576,\n",
       " 407,\n",
       " 1687,\n",
       " 857,\n",
       " 777,\n",
       " 1412,\n",
       " 430,\n",
       " 1899,\n",
       " 1830,\n",
       " 1267,\n",
       " 1705,\n",
       " 1198,\n",
       " 10,\n",
       " 669,\n",
       " 1354,\n",
       " 1174,\n",
       " 733,\n",
       " 918,\n",
       " 1846,\n",
       " 1099,\n",
       " 685,\n",
       " 524,\n",
       " 1424,\n",
       " 1722,\n",
       " 1537,\n",
       " 1070,\n",
       " 173,\n",
       " 718,\n",
       " 1987,\n",
       " 34,\n",
       " 77,\n",
       " 36,\n",
       " 649,\n",
       " 62,\n",
       " 1765,\n",
       " 58,\n",
       " 633,\n",
       " 715,\n",
       " 1218,\n",
       " 1698,\n",
       " 1637,\n",
       " 32,\n",
       " 1831,\n",
       " 1048,\n",
       " 1472,\n",
       " 1985,\n",
       " 134,\n",
       " 100,\n",
       " 393,\n",
       " 1031,\n",
       " 939,\n",
       " 111,\n",
       " 1217,\n",
       " 783,\n",
       " 1118,\n",
       " 911,\n",
       " 590,\n",
       " 682,\n",
       " 81,\n",
       " 1504,\n",
       " 1929,\n",
       " 1394,\n",
       " 639,\n",
       " 30,\n",
       " 851,\n",
       " 634,\n",
       " 1870,\n",
       " 1647,\n",
       " 587,\n",
       " 1541,\n",
       " 1775,\n",
       " 1568,\n",
       " 949,\n",
       " 492,\n",
       " 1908,\n",
       " 67,\n",
       " 1805,\n",
       " 1365,\n",
       " 1902,\n",
       " 1181,\n",
       " 795,\n",
       " 1563,\n",
       " 713,\n",
       " 244,\n",
       " 1384,\n",
       " 1128,\n",
       " 1495,\n",
       " 282,\n",
       " 1967,\n",
       " 93,\n",
       " 811,\n",
       " 4,\n",
       " 1552,\n",
       " 334,\n",
       " 1168,\n",
       " 1945,\n",
       " 148,\n",
       " 1983,\n",
       " 1447,\n",
       " 1057,\n",
       " 1543,\n",
       " 1663,\n",
       " 618,\n",
       " 130,\n",
       " 1718,\n",
       " 1012,\n",
       " 822,\n",
       " 595,\n",
       " 1788,\n",
       " 17,\n",
       " 1589,\n",
       " 579,\n",
       " 345,\n",
       " 1884,\n",
       " 212,\n",
       " 362,\n",
       " 255,\n",
       " 261,\n",
       " 1680,\n",
       " 135,\n",
       " 1629,\n",
       " 1558,\n",
       " 404,\n",
       " 463,\n",
       " 1715,\n",
       " 1325,\n",
       " 1191,\n",
       " 64,\n",
       " 577,\n",
       " 1731,\n",
       " 1293,\n",
       " 1439,\n",
       " 676,\n",
       " 1669,\n",
       " 1821,\n",
       " 951,\n",
       " 654,\n",
       " 721,\n",
       " 1864,\n",
       " 194,\n",
       " 1625,\n",
       " 640,\n",
       " 1753,\n",
       " 1105,\n",
       " 1748,\n",
       " 965,\n",
       " 854,\n",
       " 1344,\n",
       " 1501,\n",
       " 848,\n",
       " 1418,\n",
       " 1535,\n",
       " 94,\n",
       " 490,\n",
       " 1074,\n",
       " 166,\n",
       " 814,\n",
       " 238,\n",
       " 731,\n",
       " 1106,\n",
       " 948,\n",
       " 1453,\n",
       " 1421,\n",
       " 1119,\n",
       " 928,\n",
       " 1674,\n",
       " 898,\n",
       " 1337,\n",
       " 629,\n",
       " 1942,\n",
       " 1903,\n",
       " 150,\n",
       " 788,\n",
       " 674,\n",
       " 1042,\n",
       " 1784,\n",
       " 1084,\n",
       " 1699,\n",
       " 354,\n",
       " 825,\n",
       " 736,\n",
       " 1855,\n",
       " 1911,\n",
       " 1850,\n",
       " 1641,\n",
       " 1574,\n",
       " 1121,\n",
       " 84,\n",
       " 1672,\n",
       " 401,\n",
       " 1318,\n",
       " 328,\n",
       " 1670,\n",
       " 138,\n",
       " 1396,\n",
       " 1900,\n",
       " 1970,\n",
       " 1205,\n",
       " 1546,\n",
       " 787,\n",
       " 686,\n",
       " 935,\n",
       " 1068,\n",
       " 938,\n",
       " 990,\n",
       " 277,\n",
       " 1608,\n",
       " 1209,\n",
       " 691,\n",
       " 908,\n",
       " 1671,\n",
       " 418,\n",
       " 1978,\n",
       " 1122,\n",
       " 163,\n",
       " 1730,\n",
       " 734,\n",
       " 1877,\n",
       " 61,\n",
       " 394,\n",
       " 1271,\n",
       " 289,\n",
       " 25,\n",
       " 677,\n",
       " 98,\n",
       " 1203,\n",
       " 614,\n",
       " 806,\n",
       " 246,\n",
       " 1307,\n",
       " 1917,\n",
       " 1402,\n",
       " 1188,\n",
       " 1171,\n",
       " 1818,\n",
       " 842,\n",
       " 57,\n",
       " 1230,\n",
       " 1078,\n",
       " 670,\n",
       " 1041,\n",
       " 1567,\n",
       " 332,\n",
       " 1291,\n",
       " 82,\n",
       " 527,\n",
       " 1023,\n",
       " 109,\n",
       " 1389,\n",
       " 465,\n",
       " 782,\n",
       " 440,\n",
       " 1020,\n",
       " 287,\n",
       " 620,\n",
       " 684,\n",
       " 1797,\n",
       " 835,\n",
       " 1282,\n",
       " 1941,\n",
       " 1364,\n",
       " 889,\n",
       " 1577,\n",
       " 967,\n",
       " 1095,\n",
       " 768,\n",
       " 91,\n",
       " 455,\n",
       " 0,\n",
       " 1033,\n",
       " 1898,\n",
       " 1897,\n",
       " 497,\n",
       " 1064,\n",
       " 1681,\n",
       " 183,\n",
       " 1072,\n",
       " 149,\n",
       " 439,\n",
       " 916,\n",
       " 585,\n",
       " 95,\n",
       " 1580,\n",
       " 1887,\n",
       " 1089,\n",
       " 458,\n",
       " 7,\n",
       " 975,\n",
       " 483,\n",
       " 1446,\n",
       " 9,\n",
       " 1607,\n",
       " 1482,\n",
       " 1642,\n",
       " 591,\n",
       " 1729,\n",
       " 514,\n",
       " 40,\n",
       " 1276,\n",
       " 647,\n",
       " 1225,\n",
       " 5,\n",
       " 1153,\n",
       " 551,\n",
       " 1745,\n",
       " 1392,\n",
       " 237,\n",
       " 1997,\n",
       " 344,\n",
       " 397,\n",
       " 1249,\n",
       " 1059,\n",
       " 1992,\n",
       " 607,\n",
       " 213,\n",
       " 611,\n",
       " 722,\n",
       " 1155,\n",
       " 754,\n",
       " 738,\n",
       " 452,\n",
       " 469,\n",
       " 992,\n",
       " 1109,\n",
       " 1125,\n",
       " 832,\n",
       " 286,\n",
       " 1265,\n",
       " 1130,\n",
       " 1242,\n",
       " 600,\n",
       " 174,\n",
       " 776,\n",
       " 1278,\n",
       " 1938,\n",
       " 1371,\n",
       " 1494,\n",
       " 546,\n",
       " 1479,\n",
       " 1755,\n",
       " 650,\n",
       " 1056,\n",
       " 506,\n",
       " 184,\n",
       " 673,\n",
       " 154,\n",
       " 1373,\n",
       " 829,\n",
       " 1091,\n",
       " 1088,\n",
       " 379,\n",
       " 1431,\n",
       " 488,\n",
       " 278,\n",
       " 892,\n",
       " 412,\n",
       " 1140,\n",
       " 217,\n",
       " 678,\n",
       " 103,\n",
       " 504,\n",
       " 1079,\n",
       " 1713,\n",
       " 860,\n",
       " 1777,\n",
       " 1526,\n",
       " 688,\n",
       " 747,\n",
       " 1224,\n",
       " 157,\n",
       " 1572,\n",
       " 1280,\n",
       " 728,\n",
       " 933,\n",
       " 1357,\n",
       " 1547,\n",
       " 1962,\n",
       " 576,\n",
       " 1214,\n",
       " 1597,\n",
       " 70,\n",
       " 205,\n",
       " 1872,\n",
       " 1286,\n",
       " 932,\n",
       " 1065,\n",
       " 481,\n",
       " 1136,\n",
       " 434,\n",
       " 1333,\n",
       " 1135,\n",
       " 1328,\n",
       " 1195,\n",
       " 1093,\n",
       " 1310,\n",
       " 43,\n",
       " 449,\n",
       " 1076,\n",
       " 1559,\n",
       " 610,\n",
       " 510,\n",
       " 871,\n",
       " 1370,\n",
       " 1448,\n",
       " 1235,\n",
       " 905,\n",
       " 1368,\n",
       " 1532,\n",
       " 985,\n",
       " 655,\n",
       " 42,\n",
       " 236,\n",
       " 1741,\n",
       " 1959,\n",
       " 517,\n",
       " 1487,\n",
       " 1551,\n",
       " 1003,\n",
       " 621,\n",
       " 1331,\n",
       " 805,\n",
       " 505,\n",
       " 1650,\n",
       " 1723,\n",
       " 1295,\n",
       " 849,\n",
       " 297,\n",
       " 352,\n",
       " 558,\n",
       " 1456,\n",
       " 1645,\n",
       " 1197,\n",
       " 137,\n",
       " 1083,\n",
       " 1553,\n",
       " 1790,\n",
       " 1878,\n",
       " 1871,\n",
       " 306,\n",
       " 143,\n",
       " 1587,\n",
       " 1952,\n",
       " 1348,\n",
       " 1288,\n",
       " 1676,\n",
       " 572,\n",
       " 730,\n",
       " 564,\n",
       " 477,\n",
       " 555,\n",
       " 1141,\n",
       " 1445,\n",
       " 211,\n",
       " 1167,\n",
       " 63,\n",
       " 1499,\n",
       " 1497,\n",
       " 925,\n",
       " 233,\n",
       " 1227,\n",
       " 87,\n",
       " 1043,\n",
       " 386,\n",
       " 1968,\n",
       " 1492,\n",
       " 44,\n",
       " 400,\n",
       " 1190,\n",
       " 1588,\n",
       " 427,\n",
       " 358,\n",
       " 597,\n",
       " 875,\n",
       " 1433,\n",
       " 1440,\n",
       " 495,\n",
       " 532,\n",
       " 1791,\n",
       " 1300,\n",
       " 929,\n",
       " 1352,\n",
       " 28,\n",
       " 924,\n",
       " 1399,\n",
       " 519,\n",
       " 158,\n",
       " 773,\n",
       " 923,\n",
       " 530,\n",
       " 518,\n",
       " 1158,\n",
       " 1441,\n",
       " 1243,\n",
       " 1691,\n",
       " 1600,\n",
       " 719,\n",
       " 1454,\n",
       " 1097,\n",
       " 1786,\n",
       " 301,\n",
       " 1507,\n",
       " 468,\n",
       " 1113,\n",
       " 1388,\n",
       " 1493,\n",
       " 950,\n",
       " 606,\n",
       " 942,\n",
       " 1187,\n",
       " 1947,\n",
       " 1480,\n",
       " 1931,\n",
       " 1034,\n",
       " 19,\n",
       " 191,\n",
       " 1103,\n",
       " 349,\n",
       " 547,\n",
       " 994,\n",
       " 1733,\n",
       " 384,\n",
       " 1726,\n",
       " 1405,\n",
       " 702,\n",
       " 1955,\n",
       " 885,\n",
       " 438,\n",
       " 1213,\n",
       " 176,\n",
       " 589,\n",
       " 1998,\n",
       " 207,\n",
       " 1087,\n",
       " 896,\n",
       " 1163,\n",
       " 202,\n",
       " 1880,\n",
       " 1236,\n",
       " 1323,\n",
       " 115,\n",
       " 22,\n",
       " 1296,\n",
       " 1847,\n",
       " 448,\n",
       " 1728,\n",
       " 1221,\n",
       " 12,\n",
       " 660,\n",
       " 852,\n",
       " 740,\n",
       " 1377,\n",
       " 941,\n",
       " 1419,\n",
       " 1359,\n",
       " 27,\n",
       " 360,\n",
       " 1867,\n",
       " 425,\n",
       " 102,\n",
       " 480,\n",
       " 1049,\n",
       " 784,\n",
       " 447,\n",
       " 780,\n",
       " 322,\n",
       " 55,\n",
       " 521,\n",
       " 1343,\n",
       " 1550,\n",
       " 1876,\n",
       " 739,\n",
       " 681,\n",
       " 336,\n",
       " 317,\n",
       " 141,\n",
       " 1327,\n",
       " 1602,\n",
       " 1794,\n",
       " 1889,\n",
       " 1712,\n",
       " 1717,\n",
       " 107,\n",
       " 1010,\n",
       " 388,\n",
       " 671,\n",
       " 1270,\n",
       " 818,\n",
       " 182,\n",
       " 1045,\n",
       " 1157,\n",
       " 1995,\n",
       " 844,\n",
       " 516,\n",
       " 1027,\n",
       " 759,\n",
       " 319,\n",
       " 300,\n",
       " 934,\n",
       " 1139,\n",
       " 1894,\n",
       " 1372,\n",
       " 312,\n",
       " 303,\n",
       " 104,\n",
       " 1449,\n",
       " 160,\n",
       " 1937,\n",
       " 636,\n",
       " 1426,\n",
       " 1004,\n",
       " 550,\n",
       " 52,\n",
       " 308,\n",
       " 478,\n",
       " 1960,\n",
       " 76,\n",
       " 279,\n",
       " 203,\n",
       " 356,\n",
       " 1522,\n",
       " 39,\n",
       " 631,\n",
       " 190,\n",
       " 700,\n",
       " 1579,\n",
       " 1469,\n",
       " 1334,\n",
       " 803,\n",
       " 817,\n",
       " 1881,\n",
       " 1151,\n",
       " 454,\n",
       " 250,\n",
       " 1766,\n",
       " 1259,\n",
       " 1485,\n",
       " 1566,\n",
       " 612,\n",
       " 145,\n",
       " 724,\n",
       " 1015,\n",
       " 1463,\n",
       " 1677,\n",
       " 1178,\n",
       " 603,\n",
       " 1237,\n",
       " 742,\n",
       " 999,\n",
       " 1094,\n",
       " 729,\n",
       " 1437,\n",
       " 879,\n",
       " 1605,\n",
       " 351,\n",
       " 574,\n",
       " 752,\n",
       " 1810,\n",
       " 979,\n",
       " 172,\n",
       " 112,\n",
       " 1974,\n",
       " 598,\n",
       " 878,\n",
       " 1104,\n",
       " 1824,\n",
       " 714,\n",
       " 656,\n",
       " 408,\n",
       " 1069,\n",
       " 409,\n",
       " 560,\n",
       " 1018,\n",
       " 1132,\n",
       " 139,\n",
       " 411,\n",
       " 493,\n",
       " 318,\n",
       " 1202,\n",
       " 1232,\n",
       " 1248,\n",
       " 663,\n",
       " 254,\n",
       " 1358,\n",
       " 1108,\n",
       " 1503,\n",
       " 746,\n",
       " 1116,\n",
       " 946,\n",
       " 707,\n",
       " 1162,\n",
       " 828,\n",
       " 1856,\n",
       " 986,\n",
       " 247,\n",
       " 1339,\n",
       " 1882,\n",
       " 503,\n",
       " 340,\n",
       " 1977,\n",
       " 1616,\n",
       " 1500,\n",
       " 1996,\n",
       " 475,\n",
       " 1287,\n",
       " 1531,\n",
       " 1565,\n",
       " 1427,\n",
       " 290,\n",
       " 110,\n",
       " 1940,\n",
       " 1934,\n",
       " 1953,\n",
       " 1240,\n",
       " 522,\n",
       " 1799,\n",
       " 769,\n",
       " 1285,\n",
       " 548,\n",
       " 331,\n",
       " 791,\n",
       " 1582,\n",
       " 1313,\n",
       " 1716,\n",
       " 1545,\n",
       " 470,\n",
       " 1538,\n",
       " 101,\n",
       " 264,\n",
       " 337,\n",
       " 391,\n",
       " 1752,\n",
       " 1513,\n",
       " 414,\n",
       " 223,\n",
       " 269,\n",
       " 214,\n",
       " 1781,\n",
       " 630,\n",
       " 446,\n",
       " 652,\n",
       " 489,\n",
       " 662,\n",
       " 1539,\n",
       " 1828,\n",
       " 395,\n",
       " 1516,\n",
       " 653,\n",
       " 1302,\n",
       " 753,\n",
       " 15,\n",
       " 1825,\n",
       " 1126,\n",
       " 117,\n",
       " 1873,\n",
       " 668,\n",
       " 29,\n",
       " 1750,\n",
       " 265,\n",
       " 123,\n",
       " 1294,\n",
       " 1862,\n",
       " 509,\n",
       " 403,\n",
       " 220,\n",
       " 78,\n",
       " 444,\n",
       " 1927,\n",
       " 1478,\n",
       " 1692,\n",
       " 116,\n",
       " 1305,\n",
       " 1340,\n",
       " 1549,\n",
       " 1639,\n",
       " 1189,\n",
       " 1658,\n",
       " 372,\n",
       " 1706,\n",
       " 1212,\n",
       " 373,\n",
       " 856,\n",
       " 1829,\n",
       " 1638,\n",
       " 613,\n",
       " 1210,\n",
       " 330,\n",
       " 1458,\n",
       " 1166,\n",
       " 706,\n",
       " 1707,\n",
       " 1612,\n",
       " 1643,\n",
       " 1954,\n",
       " 3,\n",
       " 83,\n",
       " 309,\n",
       " 1655,\n",
       " 1053,\n",
       " 679,\n",
       " 262,\n",
       " 813,\n",
       " 584,\n",
       " 545,\n",
       " 243,\n",
       " 375,\n",
       " 1694,\n",
       " 274,\n",
       " 1502,\n",
       " 963,\n",
       " 1874,\n",
       " 1326,\n",
       " 1207,\n",
       " 466,\n",
       " 956,\n",
       " 288,\n",
       " 1324,\n",
       " 1749,\n",
       " 765,\n",
       " 329,\n",
       " 69,\n",
       " 1710,\n",
       " 870,\n",
       " 1966,\n",
       " 1277,\n",
       " 1379,\n",
       " 295,\n",
       " 417,\n",
       " 1000,\n",
       " 1939,\n",
       " 1476,\n",
       " 1483,\n",
       " 164,\n",
       " 1922,\n",
       " 666,\n",
       " 1601,\n",
       " 13,\n",
       " 1473,\n",
       " 1762,\n",
       " 72,\n",
       " 1584,\n",
       " 1926,\n",
       " 335,\n",
       " 1071,\n",
       " 626,\n",
       " 1704,\n",
       " 1451,\n",
       " 1686,\n",
       " 20,\n",
       " 159,\n",
       " 136,\n",
       " 964,\n",
       " 1260,\n",
       " 609,\n",
       " 1949,\n",
       " 229,\n",
       " 426,\n",
       " 118,\n",
       " 1979,\n",
       " 977,\n",
       " 549,\n",
       " 24,\n",
       " 1459,\n",
       " 1523,\n",
       " 363,\n",
       " 1052,\n",
       " 390,\n",
       " 995,\n",
       " 350,\n",
       " 799,\n",
       " 945,\n",
       " 442,\n",
       " 745,\n",
       " 1920,\n",
       " 37,\n",
       " 1491,\n",
       " 1950,\n",
       " 1621,\n",
       " 1152,\n",
       " 161,\n",
       " 1182,\n",
       " 216,\n",
       " 1301,\n",
       " 1530,\n",
       " 1964,\n",
       " 602,\n",
       " 405,\n",
       " 955,\n",
       " 819,\n",
       " 1117,\n",
       " 1772,\n",
       " 68,\n",
       " 129,\n",
       " 903,\n",
       " 1944,\n",
       " 894,\n",
       " 320,\n",
       " 196,\n",
       " 1573,\n",
       " 1350,\n",
       " 1560,\n",
       " 383,\n",
       " 583,\n",
       " 525,\n",
       " 178,\n",
       " 1679,\n",
       " 361,\n",
       " 314,\n",
       " 717,\n",
       " 1618,\n",
       " 1022,\n",
       " 1893,\n",
       " 568,\n",
       " 1623,\n",
       " 1075,\n",
       " 1793,\n",
       " 1150,\n",
       " 252,\n",
       " 978,\n",
       " 227,\n",
       " 1317,\n",
       " 657,\n",
       " 1481,\n",
       " 1253,\n",
       " 1906,\n",
       " 1303,\n",
       " 1711,\n",
       " 1812,\n",
       " 1622,\n",
       " 748,\n",
       " 1779,\n",
       " 1123,\n",
       " 1673,\n",
       " 1758,\n",
       " 74,\n",
       " 711,\n",
       " 49,\n",
       " 285,\n",
       " 1757,\n",
       " 298,\n",
       " 899,\n",
       " 594,\n",
       " 275,\n",
       " 1201,\n",
       " 622,\n",
       " 1635,\n",
       " 1809,\n",
       " 113,\n",
       " 1912,\n",
       " 1176,\n",
       " 421,\n",
       " 559,\n",
       " 960,\n",
       " 1932,\n",
       " 433,\n",
       " 377,\n",
       " 566,\n",
       " 741,\n",
       " 1090,\n",
       " 1613,\n",
       " 883,\n",
       " 1651,\n",
       " 126,\n",
       " 1782,\n",
       " 570,\n",
       " 823,\n",
       " 619,\n",
       " 326,\n",
       " 1848,\n",
       " 1714,\n",
       " 1915,\n",
       " 1807,\n",
       " 1299,\n",
       " 827,\n",
       " 1038,\n",
       " ...]"
      ]
     },
     "execution_count": 116,
     "metadata": {},
     "output_type": "execute_result"
    }
   ],
   "source": [
    "import random\n",
    "\n",
    "random.shuffle(x)\n",
    "\n",
    "x"
   ]
  },
  {
   "cell_type": "markdown",
   "metadata": {
    "id": "59w6qS7CnWPa"
   },
   "source": [
    "### Рубрика \"задачи с собеседований\"\n",
    "\n",
    "Даны два отсортированных списка с числами (не обязательно одной длины). Выведите все числа, которые есть в первом списке, но нет во втором"
   ]
  },
  {
   "cell_type": "code",
   "execution_count": 119,
   "metadata": {
    "id": "0nh8ph4lnWPb"
   },
   "outputs": [
    {
     "data": {
      "text/plain": [
       "{1, 8}"
      ]
     },
     "execution_count": 119,
     "metadata": {},
     "output_type": "execute_result"
    }
   ],
   "source": [
    "lst1 = [1, 2, 8]\n",
    "lst2 = [2, 6]\n",
    "set(lst1).difference(set(lst2))"
   ]
  },
  {
   "cell_type": "markdown",
   "metadata": {},
   "source": [
    "## Import, from _ import, from _ import _"
   ]
  },
  {
   "cell_type": "code",
   "execution_count": 121,
   "metadata": {},
   "outputs": [
    {
     "data": {
      "text/plain": [
       "0.5403023058681398"
      ]
     },
     "execution_count": 121,
     "metadata": {},
     "output_type": "execute_result"
    }
   ],
   "source": [
    "import math\n",
    "\n",
    "math.cos(1)"
   ]
  },
  {
   "cell_type": "code",
   "execution_count": 126,
   "metadata": {},
   "outputs": [],
   "source": [
    "cos = 42"
   ]
  },
  {
   "cell_type": "code",
   "execution_count": 124,
   "metadata": {},
   "outputs": [
    {
     "data": {
      "text/plain": [
       "0.5403023058681398"
      ]
     },
     "execution_count": 124,
     "metadata": {},
     "output_type": "execute_result"
    }
   ],
   "source": [
    "from math import cos\n",
    "\n",
    "cos(1)"
   ]
  },
  {
   "cell_type": "code",
   "execution_count": 127,
   "metadata": {},
   "outputs": [
    {
     "data": {
      "text/plain": [
       "0.5403023058681398"
      ]
     },
     "execution_count": 127,
     "metadata": {},
     "output_type": "execute_result"
    }
   ],
   "source": [
    "from math import cos as mcos\n",
    "\n",
    "mcos(1)"
   ]
  },
  {
   "cell_type": "code",
   "execution_count": 128,
   "metadata": {},
   "outputs": [
    {
     "data": {
      "text/plain": [
       "42"
      ]
     },
     "execution_count": 128,
     "metadata": {},
     "output_type": "execute_result"
    }
   ],
   "source": [
    "cos"
   ]
  },
  {
   "cell_type": "code",
   "execution_count": 129,
   "metadata": {},
   "outputs": [],
   "source": [
    "from math import *"
   ]
  },
  {
   "cell_type": "code",
   "execution_count": 130,
   "metadata": {},
   "outputs": [
    {
     "data": {
      "text/plain": [
       "<function math.cos(x, /)>"
      ]
     },
     "execution_count": 130,
     "metadata": {},
     "output_type": "execute_result"
    }
   ],
   "source": [
    "cos"
   ]
  },
  {
   "cell_type": "code",
   "execution_count": 131,
   "metadata": {},
   "outputs": [
    {
     "data": {
      "text/plain": [
       "0.5403023058681398"
      ]
     },
     "execution_count": 131,
     "metadata": {},
     "output_type": "execute_result"
    }
   ],
   "source": [
    "import math as m\n",
    "\n",
    "m.cos(1)"
   ]
  },
  {
   "cell_type": "markdown",
   "metadata": {
    "id": "X4bqfvbXnWPd"
   },
   "source": [
    "### collections\n",
    "Объекты в collections - модифицированные для разных нужд словари и еще несколько удобных структур данных.\n",
    "\n",
    "Хороший краткий обзор модуля collections можно почитать [здесь](https://pythonworld.ru/moduli/modul-collections.html) "
   ]
  },
  {
   "cell_type": "code",
   "execution_count": 120,
   "metadata": {},
   "outputs": [
    {
     "data": {
      "text/plain": [
       "['ChainMap',\n",
       " 'Counter',\n",
       " 'OrderedDict',\n",
       " 'UserDict',\n",
       " 'UserList',\n",
       " 'UserString',\n",
       " '_Link',\n",
       " '_OrderedDictItemsView',\n",
       " '_OrderedDictKeysView',\n",
       " '_OrderedDictValuesView',\n",
       " '__all__',\n",
       " '__builtins__',\n",
       " '__cached__',\n",
       " '__doc__',\n",
       " '__file__',\n",
       " '__getattr__',\n",
       " '__loader__',\n",
       " '__name__',\n",
       " '__package__',\n",
       " '__path__',\n",
       " '__spec__',\n",
       " '_chain',\n",
       " '_collections_abc',\n",
       " '_count_elements',\n",
       " '_eq',\n",
       " '_heapq',\n",
       " '_iskeyword',\n",
       " '_itemgetter',\n",
       " '_proxy',\n",
       " '_recursive_repr',\n",
       " '_repeat',\n",
       " '_starmap',\n",
       " '_sys',\n",
       " '_tuplegetter',\n",
       " 'abc',\n",
       " 'defaultdict',\n",
       " 'deque',\n",
       " 'namedtuple']"
      ]
     },
     "execution_count": 120,
     "metadata": {},
     "output_type": "execute_result"
    }
   ],
   "source": [
    "import collections\n",
    "dir(collections)"
   ]
  },
  {
   "cell_type": "code",
   "execution_count": 133,
   "metadata": {
    "id": "hO-mQhQ7nWPe"
   },
   "outputs": [
    {
     "name": "stdout",
     "output_type": "stream",
     "text": [
      "0\n",
      "defaultdict(<class 'int'>, {2: 0})\n"
     ]
    }
   ],
   "source": [
    "from collections import defaultdict\n",
    "dct = defaultdict(int)\n",
    "\n",
    "print(dct[2])  # если ключа нет, то устанавливает дефолтное значение\n",
    "print(dct)"
   ]
  },
  {
   "cell_type": "code",
   "execution_count": 134,
   "metadata": {
    "id": "zdhArcinnWPe"
   },
   "outputs": [
    {
     "name": "stdout",
     "output_type": "stream",
     "text": [
      "9 deque([0, 1, 2, 3, 4, 5, 6, 7, 8])\n",
      "8 deque([0, 1, 2, 3, 4, 5, 6, 7])\n",
      "7 deque([0, 1, 2, 3, 4, 5, 6])\n",
      "6 deque([0, 1, 2, 3, 4, 5])\n",
      "5 deque([0, 1, 2, 3, 4])\n",
      "\n",
      "0 deque([1, 2, 3, 4])\n",
      "1 deque([2, 3, 4])\n",
      "2 deque([3, 4])\n",
      "3 deque([4])\n",
      "4 deque([])\n"
     ]
    }
   ],
   "source": [
    "from collections import deque\n",
    "q = deque()\n",
    "\n",
    "for i in range(10):\n",
    "    q.append(i)\n",
    "\n",
    "while len(q) > 5: \n",
    "    print(q.pop(), q) # O(1)\n",
    "\n",
    "print()\n",
    "    \n",
    "while len(q):  # пока дек не пуст\n",
    "    print(q.popleft(), q)  # O(1)"
   ]
  },
  {
   "cell_type": "code",
   "execution_count": 135,
   "metadata": {
    "id": "tk_umluRnWPe"
   },
   "outputs": [
    {
     "name": "stdout",
     "output_type": "stream",
     "text": [
      "{1: 'a', 3: 'c', 2: 'b'}\n",
      "OrderedDict([(1, 'a'), (3, 'c'), (2, 'b')])\n"
     ]
    }
   ],
   "source": [
    "from collections import OrderedDict  # помнит порядок, в котором ему были даны ключи\n",
    "\n",
    "# C 3.7 версии сохранение порядка гарантируется и для dict, но:\n",
    "# Операция сравнения для обычных диктов всё ещё не учитывает порядок в отличие от OrderedDict\n",
    "# А ещё у OrderedDict есть метод move_to_end (подвинуть существующий элемент в конец), которого нет в дикте\n",
    "\n",
    "data = [(1, 'a'), (3, 'c'), (2, 'b')]\n",
    "\n",
    "print(dict(data))\n",
    "print(OrderedDict(data))"
   ]
  },
  {
   "cell_type": "code",
   "execution_count": 136,
   "metadata": {},
   "outputs": [
    {
     "data": {
      "text/plain": [
       "OrderedDict([(1, 'a'), (3, 'c'), (2, 'b')])"
      ]
     },
     "execution_count": 136,
     "metadata": {},
     "output_type": "execute_result"
    }
   ],
   "source": [
    "od = OrderedDict(data)\n",
    "od"
   ]
  },
  {
   "cell_type": "code",
   "execution_count": 137,
   "metadata": {},
   "outputs": [
    {
     "data": {
      "text/plain": [
       "OrderedDict([(1, 'a'), (2, 'b'), (3, 'c')])"
      ]
     },
     "execution_count": 137,
     "metadata": {},
     "output_type": "execute_result"
    }
   ],
   "source": [
    "od.move_to_end(3)\n",
    "od"
   ]
  },
  {
   "cell_type": "code",
   "execution_count": 138,
   "metadata": {},
   "outputs": [
    {
     "data": {
      "text/plain": [
       "OrderedDict([(3, 'c'), (1, 'a'), (2, 'b')])"
      ]
     },
     "execution_count": 138,
     "metadata": {},
     "output_type": "execute_result"
    }
   ],
   "source": [
    "od.move_to_end(3, last=False)\n",
    "od"
   ]
  },
  {
   "cell_type": "code",
   "execution_count": 139,
   "metadata": {},
   "outputs": [
    {
     "name": "stdout",
     "output_type": "stream",
     "text": [
      "b\n"
     ]
    }
   ],
   "source": [
    "print(od[2])"
   ]
  },
  {
   "cell_type": "code",
   "execution_count": null,
   "metadata": {},
   "outputs": [],
   "source": []
  }
 ],
 "metadata": {
  "colab": {
   "collapsed_sections": [],
   "provenance": [],
   "toc_visible": true
  },
  "kernelspec": {
   "display_name": "Python 3 (ipykernel)",
   "language": "python",
   "name": "python3"
  },
  "language_info": {
   "codemirror_mode": {
    "name": "ipython",
    "version": 3
   },
   "file_extension": ".py",
   "mimetype": "text/x-python",
   "name": "python",
   "nbconvert_exporter": "python",
   "pygments_lexer": "ipython3",
   "version": "3.8.12"
  }
 },
 "nbformat": 4,
 "nbformat_minor": 1
}
